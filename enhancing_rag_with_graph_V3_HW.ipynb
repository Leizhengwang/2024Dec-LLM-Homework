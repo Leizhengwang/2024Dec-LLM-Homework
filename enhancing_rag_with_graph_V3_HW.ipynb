{
  "cells": [
    {
      "cell_type": "markdown",
      "metadata": {
        "colab": {
          "base_uri": "https://localhost:8080/"
        },
        "id": "5x3LkpUztHNU",
        "outputId": "d766e435-07ab-4b22-8b35-6e4f27ad42f3"
      },
      "source": [
        "%pip install --upgrade --quiet  langchain langchain-community langchain-openai langchain-experimental neo4j wikipedia tiktoken yfiles_jupyter_graphs"
      ]
    },
    {
      "cell_type": "code",
      "execution_count": 9,
      "metadata": {
        "colab": {
          "base_uri": "https://localhost:8080/"
        },
        "id": "jPIRSGz4tHNV",
        "outputId": "6ca810ba-1e5d-469a-83d4-577d6353ea08"
      },
      "outputs": [
        {
          "data": {
            "text/plain": [
              "'\\ntry:\\n  import google.colab\\n  from google.colab import output\\n  output.enable_custom_widget_manager()\\nexcept:\\n  pass\\n'"
            ]
          },
          "execution_count": 9,
          "metadata": {},
          "output_type": "execute_result"
        }
      ],
      "source": [
        "from langchain_core.runnables import (\n",
        "    RunnableBranch,\n",
        "    RunnableLambda,\n",
        "    RunnableParallel,\n",
        "    RunnablePassthrough,\n",
        ")\n",
        "from langchain_community.document_loaders import DirectoryLoader, OnlinePDFLoader, PyPDFLoader\n",
        "from langchain_core.prompts import ChatPromptTemplate\n",
        "from langchain_core.prompts.prompt import PromptTemplate\n",
        "from langchain_core.pydantic_v1 import BaseModel, Field\n",
        "from typing import Tuple, List, Optional\n",
        "from langchain_core.messages import AIMessage, HumanMessage\n",
        "from langchain_core.output_parsers import StrOutputParser\n",
        "import os\n",
        "from langchain_community.graphs import Neo4jGraph\n",
        "from langchain.document_loaders import WikipediaLoader\n",
        "from langchain.text_splitter import TokenTextSplitter\n",
        "from langchain_openai import ChatOpenAI\n",
        "from langchain_experimental.graph_transformers import LLMGraphTransformer\n",
        "from neo4j import GraphDatabase\n",
        "from yfiles_jupyter_graphs import GraphWidget\n",
        "from langchain_community.vectorstores import Neo4jVector\n",
        "from langchain_openai import OpenAIEmbeddings\n",
        "from langchain_community.vectorstores.neo4j_vector import remove_lucene_chars\n",
        "from langchain_core.runnables import ConfigurableField, RunnableParallel, RunnablePassthrough\n",
        "\n",
        "\n",
        "\"\"\"\n",
        "try:\n",
        "  import google.colab\n",
        "  from google.colab import output\n",
        "  output.enable_custom_widget_manager()\n",
        "except:\n",
        "  pass\n",
        "\"\"\""
      ]
    },
    {
      "cell_type": "markdown",
      "metadata": {
        "id": "-KeAfaMQ0VKh"
      },
      "source": [
        "# Enhancing RAG-based applications accuracy by constructing and leveraging knowledge graphs\n",
        "## A practical guide to constructing and retrieving information from knowledge graphs in RAG applications with Neo4j and LangChain\n",
        "\n",
        "Graph retrieval augmented generation (Graph RAG) is gaining momentum and emerging as a powerful addition to traditional vector search retrieval methods. This approach leverages the structured nature of graph databases, which organize data as nodes and relationships, to enhance the depth and contextuality of retrieved information.\n",
        "\n",
        "Graphs are great at representing and storing heterogeneous and interconnected information in a structured manner, effortlessly capturing complex relationships and attributes across diverse data types. In contrast, vector databases often struggle with such structured information, as their strength lies in handling unstructured data through high-dimensional vectors. In your RAG application, you can combine structured graph data with vector search through unstructured text to achieve the best of both worlds, which is exactly what we will do in this blog post.\n",
        "\n",
        "Knowledge graphs are great, but how do you create one? Constructing a knowledge graph is typically the most challenging step in leveraging the power of graph-based data representation. It involves gathering and structuring the data, which requires a deep understanding of both the domain and graph modeling. To simplify this process, we have been experimenting with LLMs. LLMs, with their profound understanding of language and context, can automate significant parts of the knowledge graph creation process. By analyzing text data, these models can identify entities, understand the relationships between them, and suggest how they might be best represented in a graph structure. As a result of these experiments, we have added the first version of the graph construction module to LangChain, which we will demonstrate in this blog post.\n",
        "\n",
        "## Neo4j Environment Setup\n",
        "\n",
        "You need to set up a Neo4j instance follow along with the examples in this blog post. The easiest way is to start a free instance on [Neo4j Aura](https://neo4j.com/cloud/platform/aura-graph-database/), which offers cloud instances of Neo4j database. Alternatively, you can also set up a local instance of the Neo4j database by downloading the Neo4j Desktop application and creating a local database instance."
      ]
    },
    {
      "cell_type": "code",
      "execution_count": 28,
      "metadata": {
        "colab": {
          "base_uri": "https://localhost:8080/"
        },
        "id": "L0nXP1aYtHNW",
        "outputId": "f89513bd-00bf-4fd3-cbf2-52df075a53a0"
      },
      "outputs": [],
      "source": [
        "# so.api pin here\n",
        "graph = Neo4jGraph()"
      ]
    },
    {
      "cell_type": "code",
      "execution_count": 29,
      "metadata": {
        "colab": {
          "base_uri": "https://localhost:8080/"
        },
        "id": "sGhtLTAStHNW",
        "outputId": "c2b80188-55cb-4364-9da8-6fcd12845c8b"
      },
      "outputs": [],
      "source": [
        "# Read the wikipedia article\n",
        "#raw_documents = WikipediaLoader(query=\"Elizabeth I\").load()\n",
        "# Define chunking strategy\n",
        "#text_splitter = TokenTextSplitter(chunk_size=512, chunk_overlap=24)\n",
        "#documents = text_splitter.split_documents(raw_documents[:3])\n",
        "\n",
        "pdf_folder = \"\"\n",
        "\n",
        "#loader = DirectoryLoader(pdf_folder, glob=\"SPE5/*.pdf\", loader_cls=PyPDFLoader)\n",
        "loader = DirectoryLoader(pdf_folder, glob=\"abs/*.pdf\", loader_cls=PyPDFLoader)\n",
        "\n",
        "\n",
        "raw_documents = loader.load()\n",
        "# Define chunking strategy\n",
        "text_splitter = TokenTextSplitter(chunk_size=512, chunk_overlap=24)\n",
        "documents = text_splitter.split_documents(raw_documents) "
      ]
    },
    {
      "cell_type": "code",
      "execution_count": 30,
      "metadata": {},
      "outputs": [
        {
          "name": "stdout",
          "output_type": "stream",
          "text": [
            "[Document(metadata={'source': 'abs\\\\1-mvr-part-4-jul24_432.pdf', 'page': 0}, page_content='C H A P T E R  3\\nPropulsion and Maneuvering Machinery\\nS E C T I O N  2\\nPropulsion Shafting\\n1 General\\n1.1 Application\\nThis section applies to shafts, couplings, clutches and other power transmitting components for propulsion\\npurposes.\\nShafts and associated components used for transmission of power, essential for the propulsion of the\\nvessel, are to be so designed and constructed to withstand the maximum working stresses to which they\\nmay be subjected in all service conditions.\\nConsideration may be given to designs based on engineering analyses, including fatigue considerations, as\\nan alternative to the requirements of this section. Alternative calculation methods are to take into account\\ndesign criteria for continuous and transient operating loads (dimensioning for fatigue strength) and for\\npeak operating loads (dimensioning for yield strength).\\nNotes:\\nShafts complying with this section satisfy the following:\\n1 Low cycle fatigue criterion (typically < 10 4), (i.e., the primary cycles represented by zero to full load and back to\\nzero, including reversing torque if applicable). This is addressed by the formula in 4-3-2/5.1.\\n2 High cycle fatigue criterion (typically >> 10 7), (i.e., torsional vibration stresses permitted for continuous operation\\nas well as reverse bending stresses). The limits for torsional vibration stresses are given in 4-3-2/7.5.1. The\\ninfluence of reverse bending stresses is addressed by the safety margins inherent in the formula in 4-3-2/5.1.\\n3 The accumulated fatigue due to torsional vibration when passing through a barred speed range or any other\\ntransient condition with associated stresses beyond those permitted for continuous operation is addressed by the\\ncriterion for transient stresses in 4-3-2/7.5.1.\\nAdditional requirements for shafting intended for vessels strengthened for navigation in ice are provided in\\nPart 6.\\n1.2 Objective (2024)\\n1.2.1 Goals\\nThe propulsion shafting covered in this section is to be designed, constructed, operated, and\\nmaintained to:\\nPART 4\\nABS RULES FOR BUILDING AND CLASSING MARINE VESSELS • 2024 318'), Document(metadata={'source': 'abs\\\\1-mvr-part-4-jul24_432.pdf', 'page': 1}, page_content='Goal No. Goal\\nPROP 1 provide sufficient thrust/power to move or manuever the vessel when required\\nPROP 2 provide redundancy and/or reliability to maintain propulsion.\\nSTRU 1 in the intact condition, have sufficient structural strength to withstand the environmental\\nconditions, loading conditions, and operational loads anticipated during the design life.\\nMaterials are to be suitable for the intended application in accordance with the following goals\\nand support the Tier 1 goals as listed above.\\nGoal No. Goal\\nMAT 1 The selected materials’ physical, mechanical, and chemical properties are to meet the design\\nrequirements appropriate for the application, operating conditions, and environment.\\nThe goals in the cross-referenced Rules and Regulations are also to be met.\\n1.2.2 Functional Requirements\\nIn order to achieve the above stated goals, the design, construction, installation and maintenance\\nof propulsion shafting are to be in accordance with the following functional requirements:\\nFunctional\\nRequirement No.\\nFunctional Requirements\\nPropulsion, Maneuvering, Station Keeping (PROP)\\nPROP-FR1 Torque-transmitting components are to withstand the maximum power delivered by the\\nengine and/or reduction gear and are to have features to reduce stress concentrations.\\nPROP-FR2 Provide effective means to prevent water ingress through the propulsion shafting into\\nwatertight spaces of the vessel and water ingress between propeller and tail shaft.\\nPROP-FR3 Connections between tail shaft and propeller are to transmit full torque of the shaft and have\\nfeatures to reduce stress concentrations.\\nPROP-FR4 Provide arrangements to monitor bearing health and remove contaminants in oil-lubricated\\nstern tube bearings.\\nPROP-FR5 Provide means to prevent bolted joints from loosening.\\nPROP-FR6 Align so that stresses along the shafting and loads on the bearings are within acceptable\\nlimits.\\nPROP-FR7 Arrange to minimize bearing stresses due to external environment and ship condition.\\nPROP-FR8 All equipment including bearings, gearboxes and prime movers are to be arranged so that\\nthey can operate as intended.\\nPROP-FR9 Propulsion shafting is to be designed to withstand all vibration stresses generated by the\\nprime movers and propellers/propulsors\\nPROP-FR10 Propulsion shafting is to be designed to avoid critical and disabling resonance caused by\\nvibrations during operations.'), Document(metadata={'source': 'abs\\\\1-mvr-part-4-jul24_432.pdf', 'page': 1}, page_content='10 Propulsion shafting is to be designed to avoid critical and disabling resonance caused by\\nvibrations during operations.\\nPROP-FR11 Provide instructions of barred speed ranges at each control location to prevent permanent\\ndamage to the system.\\nPROP-FR12 Provide suitable alarm, monitoring and shutdown systems for the oil/water lubricating stern\\ntube system to allow early intervention and prevent unexpected loss of propulsion.\\nPart 4 Vessel Systems and Machinery\\nChapter 3 Propulsion and Maneuvering Machinery\\nSection 2 Propulsion Shafting 4-3-2\\nABS RULES FOR BUILDING AND CLASSING MARINE VESSELS • 2024 319'), Document(metadata={'source': 'abs\\\\1-mvr-part-4-jul24_432.pdf', 'page': 2}, page_content='Functional\\nRequirement No.\\nFunctional Requirements\\nPROP-FR13 Provide means to conduct preventative maintenance on oil/water-lubricated bearing system\\neasily without removal of major components.\\nPROP-FR14 The various parameters of the tail shaft condition monitoring system to check for indications\\nof failure are to be managed and recorded regularly.\\nPROP-FR15 Redundancy and/or reliability is to be provided in the propulsion shafting equipment/\\nsystems to minimize malfunction and/or single failure.\\nPROP-FR16 Suitable design is to be provided to prevent ropes or lines in the water from entangling\\npropellers, causing shaft seal damage by line intrusion and causing loss of propulsion.\\nPROP-FR17 Line cutters are to be designed to function properly under stresses and vibrations from the\\npropulsion system.\\nStructure (STRU)\\nSTRU-FR1 Provide adequate hull supporting structure for the propulsion shafting to accommodate the\\noperating and environmental loads.\\nMaterials (MAT)\\nMAT-FR1 The material and manufactured components for propulsion shafting are to withstand the\\nmaximum working stresses without any deformation or fatigue failure.\\nMAT-FR2 The material elongation for propulsion shafting is to be sufficiently high so that it can\\nwithstand accidental shock or impact loads during service.\\nMAT-FR3 Corrosion resistant materials for propulsion shafting components exposed to the seawater\\nare to be used.\\nMAT-FR4 Corrosion resistant materials of adequate strength for line cutters are to be used.\\nMAT-FR5 Hardness is to be considered for wear/abrasion resistance and when the material is exposed\\nto seawater.\\nMAT-FR6 Chemical Composition is to be considered for corrosion resistance, weldability, and final\\nmechanical properties.\\nMAT-FR7 Weldability (Carbon content, Carbon Equivalent) to be considered when the items/\\ncomponents are welded.\\nThe functional requirements in the cross-referenced Rules/Regulations are also to be met.\\n1.2.3 Compliance\\nA vessel is considered to comply with the goals and functional requirements within the scope of\\nclassification when the prescriptive requirements are complied with or when an alternative\\narrangement has been approved. Refer to Part 1D, Chapter 2.\\n1.3 Definitions (2024)\\nFor the purposes of using shaft diameter formulas in this'), Document(metadata={'source': 'abs\\\\1-mvr-part-4-jul24_432.pdf', 'page': 2}, page_content=', Chapter 2.\\n1.3 Definitions (2024)\\nFor the purposes of using shaft diameter formulas in this section, the following definitions apply. See\\n4-3-2/1.3.5 FIGURE 1 and 4-3-2/1.3.5 FIGURE 2 for typical shaft arrangements.\\n1.3.1 Tail Shaft\\nTail Shaft is the part of the propulsion shaft aft of the forward end of the propeller end bearing.\\nPart 4 Vessel Systems and Machinery\\nChapter 3 Propulsion and Maneuvering Machinery\\nSection 2 Propulsion Shafting 4-3-2\\nABS RULES FOR BUILDING AND CLASSING MARINE VESSELS • 2024 320'), Document(metadata={'source': 'abs\\\\1-mvr-part-4-jul24_432.pdf', 'page': 3}, page_content='1.3.2 Stern Tube Shaft\\nStern Tube Shaft or Tube Shaft is the part of the propulsion shaft passing through the stern tube\\nfrom the forward end of the propeller end bearing to the in-board shaft seal.\\n1.3.3 Line Shaft\\nLine Shaft is the part of the propulsion shaft in-board of the vessel.\\n1.3.4 Thrust Shaft\\nThrust Shaft is that part of the propulsion shaft which transmits thrust to the thrust bearing.\\n1.3.5 Oil Distribution Shaft\\nOil Distribution Shaft is a hollow propulsion shaft where the bore and radial holes are used for\\ndistribution of hydraulic oil in controllable pitch propeller installations.\\nFIGURE 1\\nTypical Shaft Arrangement (2024)\\nPart 4 Vessel Systems and Machinery\\nChapter 3 Propulsion and Maneuvering Machinery\\nSection 2 Propulsion Shafting 4-3-2\\nABS RULES FOR BUILDING AND CLASSING MARINE VESSELS • 2024 321'), Document(metadata={'source': 'abs\\\\1-mvr-part-4-jul24_432.pdf', 'page': 4}, page_content='FIGURE 2\\nShaft Arrangement with Strut Bearing (2024)\\n1.5 Plans and Particulars to be Submitted\\nThe following plans and particulars are to be submitted for review:\\n1.5.1 For Propulsion Shafting (1 July 2022)\\nShafting arrangement\\nRated power of main engine and shaft rpm\\nThrust, line, tube and tail shafts, as applicable\\nCouplings-integral, demountable, keyed, or shrink-fit, coupling bolts* and keys\\nEngineering analyses and fitting instructions for shrink-fit couplings\\nShaft bearings\\nStern tube\\nShaft seals\\nShaft lubrication system\\nPower take-off to shaft generators, propulsion boosters, or similar equipment, rated 100 kW (135\\nhp) and over, as applicable\\nBearing lubricant oil type (e.g., mineral, or environmentally acceptable lubricant (EAL)) and\\npertinent specification (i.e., viscosity grade, etc.)\\nMaterials\\nNote:\\n* Specific details regarding the interference fit of the coupling bolts are to be submitted. In addition, calculations and detail\\ndesign basis for the sizing of the fitted bolts are to be submitted if the sizing of the bolts as per 4-3-2/5.19.1 of the Rules is\\nnot based on as-built line shaft diameter “D ”.\\nPart 4 Vessel Systems and Machinery\\nChapter 3 Propulsion and Maneuvering Machinery\\nSection 2 Propulsion Shafting 4-3-2\\nABS RULES FOR BUILDING AND CLASSING MARINE VESSELS • 2024 322'), Document(metadata={'source': 'abs\\\\1-mvr-part-4-jul24_432.pdf', 'page': 5}, page_content='1.5.2 For Clutches:\\nConstruction details of torque transmitting components, housing along with their materials and\\ndimensions.\\nRated power and rpm\\nEngineering analyses\\nClutch operating data\\n1.5.3 For Flexible Couplings:\\nConstruction details of torque transmitting components, housing, along with their dimensions and\\nmaterials\\nStatic and dynamic torsional stiffness and damping characteristics\\nRated power, torque, and rpm.\\nEngineering analyses\\nAllowable vibratory torque for continuous and transient operation.\\nAllowable power loss (overheating)\\nAllowable misalignment for continuous operation\\n1.5.4 For Cardan Shafts\\nDimensions of all torque transmitting components and their materials\\nRated power of main engine and shaft rpm\\nEngineering analyses\\nClutch operating data\\n1.5.5 Calculations (2020)\\nPropulsion shaft alignment calculations where propulsion shaft is sensitive to alignment (see\\n4-3-2/7.3).\\nTorsional vibration analyses\\nAxial and lateral (whirling) vibration calculations, where applicable\\nThrust plate calculations\\n3 Materials\\n3.1 General (2024)\\nMaterials for propulsion shafts, couplings and coupling bolts, keys and clutches are to be of forged steel or\\nrolled bars, as appropriate, in accordance with Sections 2-3-7 and 2-3-8 of the ABS Rules for Materials\\nand Welding (Part 2) . Where material specifications other than those specified in these Rules are\\nproposed, they are to be specially approved with a specific design.  Full details of chemical composition,\\nheat treatment and mechanical properties, as appropriate, are to be submitted for approval. \\nPart 4 Vessel Systems and Machinery\\nChapter 3 Propulsion and Maneuvering Machinery\\nSection 2 Propulsion Shafting 4-3-2\\nABS RULES FOR BUILDING AND CLASSING MARINE VESSELS • 2024 323'), Document(metadata={'source': 'abs\\\\1-mvr-part-4-jul24_432.pdf', 'page': 6}, page_content='3.1.1 Ultimate Tensile Strength\\nThe minimum specified ultimate tensile strength of steel used for propulsion shafting is to be\\nbetween 400 N/mm2 (40.7 kgf/mm2, 58,000 psi) and 800 N/mm 2 (81.5 kgf/mm2, 116,000 psi).The\\nupper limit can be extended up to 930 N/mm 2 (95.0 kgf/mm2, 135,000 psi) for vessels below 90 m\\n(295 ft) in length.\\n3.1.2 Elongation\\nCarbon steel with elongation ( L o / d = 4 ) of less than 16% or ( L o / d = 5 ) of less than 15% is not\\nto be used for any shafting component, with the exception that material for non-fitted alloy steel\\ncoupling bolts manufactured to a recognized standard may have elongation ( L o / d = 4 ) of not less\\nthan 10% or (L o / d = 5 ) of not less than 9%.\\nAlloy steels with elongation less than (L o / d = 4 ) 16% or (L o / d = 5 ) 15% may be applied subject\\nto approval.\\n3.1.3 Alternative Test Requirements\\nMaterials for shafting, couplings and coupling bolts transmitting 373 kW (500 HP) or less are\\naccepted based on the manufacturer’s certified mill tests and hardness check witnessed by the\\nSurveyor. Bolts manufactured to a recognized standard and used as coupling bolts do not require\\nmaterial testing.\\n3.3 Weldability\\nWhere repair by welding or where cladding by welding is contemplated, steel used for propulsion shafts is\\nto have carbon content in accordance with 2-3-7/1.3.4 of the ABS Rules for Materials and Welding (Part\\n2). For approval of welding of the shaft, refer to Section 7-A1-11 \"Repair and Cladding of Shafts\" of the\\nABS Rules for Survey After Construction (Part 7).\\n3.5 Shaft Liners\\nLiners are to be of bronze, stainless steel or other approved alloys and are to be free from porosity and\\nother defects. Continuous liners are to be in one piece or, if made of two or more lengths, the joining of the\\nseparate pieces is to be done by an approved method of welding through'), Document(metadata={'source': 'abs\\\\1-mvr-part-4-jul24_432.pdf', 'page': 6}, page_content=\" two or more lengths, the joining of the\\nseparate pieces is to be done by an approved method of welding through not less than two-thirds the\\nthickness of the liner or by an approved rubber seal arrangement.\\n3.7 Material Tests\\n3.7.1 General\\nMaterials for all torque-transmitting parts, including shafts, clutches, couplings, coupling bolts and\\nkeys are to be tested in the presence of the Surveyor. The materials are to meet the specifications\\nof 2-3-7/5, 2-3-7/3 and 2-3-8/2 of the ABS Rules for Materials and Welding (Part 2)  or other\\nspecifications approved in connection with the design.\\n3.7.2 Alternative Test Requirements\\n3.7.2(a) 375 kW (500 hp) or less\\nMaterials for parts transmitting 375 kW (500 hp) or less are acceptable based on verification of\\nmanufacturer's certification and witnessed hardness check by the Surveyor.\\n3.7.2(b) Coupling bolts\\nCoupling bolts manufactured and marked to a recognized standard do not require material testing.\\n3.7.2(c) Certification Under Quality Assurance Assessment (1 July 2021)\\nPart 4 Vessel Systems and Machinery\\nChapter 3 Propulsion and Maneuvering Machinery\\nSection 2 Propulsion Shafting 4-3-2\\nABS RULES FOR BUILDING AND CLASSING MARINE VESSELS • 2024 324\"), Document(metadata={'source': 'abs\\\\1-mvr-part-4-jul24_432.pdf', 'page': 7}, page_content='For couplings and clutches certified under quality assurance assessment as provided for under\\n4-3-2/9.7, material tests required by 4-3-2/3.1 need not be witnessed by the Surveyor; such tests\\nmay be conducted by the manufacturer whose certified material test reports are acceptable instead.\\n3.7.3 Inspections and Nondestructive Tests\\nShafting and couplings are to be surface examined by the Surveyor.\\nForgings for tail shafts 455 mm (18 in.) and over in finished diameter are to be ultrasonically\\nexamined in accordance with 2-3-7/1.13.3 of the ABS Rules for Materials and Welding (Part 2) .\\nTail shafts in the finished machine condition are to be subjected to magnetic particle, dye\\npenetrant or other non-destructive examinations. They are to be free of linear discontinuities\\ngreater than 3.2 mm ( 1 8  in.) except that in the following locations, the shafts are to be free of all\\nlinear discontinuities:\\n3.7.3(a) Tapered tail shafts: the forward one-third length of the taper, including the forward end of\\nany keyway and an equal length of the parallel part of the shaft immediately forward of the taper.\\n3.7.3(b) Flanged tail shafts: the flange fillet area.\\n5 Design and Construction\\n5.1 Shaft Diameters\\nThe minimum diameter of propulsion shafting is to be determined by the following equation.\\nD = 100 K · H \\nR \\nc 1 \\nU + c 2 \\n3 \\nwhere\\nD = greater of the required solid shaft diameter as required by 4-3-2/5 or 4-3-2/7.5 through 4-3-2/7.9 (reflective of\\nstatic and dynamic stresses), except hollow shaft; mm (in.)\\nd i = diameter of internal bore; mm (in.)\\nH = power at rated speed; kW (PS, hp) (1 PS = 735W; 1 hp = 746W)\\nK = shaft design factor, see 4-3-2/5 TABLE 1 or 4-3-2/5 TABLE 2\\nR = rated speed rpm\\nU = minimum specified ultimate tensile strength of shaft material (regardless'), Document(metadata={'source': 'abs\\\\1-mvr-part-4-jul24_432.pdf', 'page': 7}, page_content='5 TABLE 2\\nR = rated speed rpm\\nU = minimum specified ultimate tensile strength of shaft material (regardless of the actual minimum specified\\ntensile strength of the material, the value of U  used in these calculations is not to exceed that indicated in\\n4-3-2/5 TABLE 3; N/mm2 (kgf/mm2, psi). Where materials with greater specified or actual tensile strengths\\nthan the limitations given above are used, reduced shaft dimensions or higher permissible vibration stresses are\\nnot acceptable when derived from the formulae in this section unless the ABS verifies that the materials\\nexhibit similar fatigue life as conventional steels (see Appendix 4-3-2-A1)\\ne = slot width, mm (in.)\\nℓ = slot length, mm (in.)\\nc 1  and c 2  are given below:\\nc 1 = 560 (41.95, 3.695) for vessels 45.7 m (150 ft) in length and over\\n= 472.5 (35.4, 3.12) for vessels 20 m (65 ft) and over, but below 45.7 m (150 ft), where the material of the\\nshaft is Grade 2 and the shaft is protected\\nPart 4 Vessel Systems and Machinery\\nChapter 3 Propulsion and Maneuvering Machinery\\nSection 2 Propulsion Shafting 4-3-2\\nABS RULES FOR BUILDING AND CLASSING MARINE VESSELS • 2024 325'), Document(metadata={'source': 'abs\\\\1-mvr-part-4-jul24_432.pdf', 'page': 8}, page_content='c 1 = 540 (40.3, 3.55) for vessels 20 m (65 ft) and over, but below 45.7 m (150 ft), for all other materials\\nand unprotected Grade 2 shaft material\\n= 416.4 (31.22, 2.75) for vessels below 20 m (65 ft)\\nc 2 = 160 (16.3, 23180)\\nTABLE 1\\nShaft Design Factors K  and C K  for Line Shafts and Thrust Shafts (2024)\\n \\nFactor\\n \\nPropulsion\\ndrives\\nDesign features (1)\\nIntegral\\nflange\\nShrink fit\\ncoupling Keyways (2)\\nRadial\\nholes,\\ntransverse\\nholes (3)\\nLongitud-\\ninal slots\\n(4)\\nOn both\\nsides of\\nthrust\\ncollars\\nIn way of\\naxial\\nbearings\\nused as\\nthrust\\nbearings\\nStraight\\nsections\\nK Type A 0.95 0.95 1.045 1.045 1.14 1.045 1.045 0.95\\nType B 1.0 1.0 1.1 1.1 1.2 1.1 1.1 1.0\\nC K  1.0 1.0 0.6 0.5 0.3 0.85 0.85 1.0\\nType A: Turbine drives; electric drives; diesel drive through slip couplings (electric or hydraulic).\\nType B: All other diesel drives.\\nNotes:\\n1 Geometric features other than those listed are subject to ABS technical assessment and approval. \\n2 After a length of not less than 0 . 2 D  from the end of the keyway, the shaft diameter may be reduced to the diameter\\ncalculated for straight sections.\\nFillet radii in the transverse section of the keyway are not to be less than 0 . 0125 D .\\n3 Diameter of bore not more than 0 . 3 D . See 4-3-2/Figure 3 below.\\n4 Subject to limitations as slot length (ℓ )/outside diameter < 0.8 and inner diameter (d i )/outside diameter < 0.7 and slot\\nwidth (e )/outside diameter > 0.15. The end rounding of the slot is not to be less than e / 2 . An edge rounding should\\npreferably be avoided as this'), Document(metadata={'source': 'abs\\\\1-mvr-part-4-jul24_432.pdf', 'page': 8}, page_content=' the slot is not to be less than e / 2 . An edge rounding should\\npreferably be avoided as this increases the stress concentration slightly.\\nThe k  and c K  values are valid for 1, 2 and 3 slots, (i.e., with slots at 360 respectively 180, and respectively 120 degrees\\napart).\\n5 c K = 0 . 3  is an approximation within the limitations in Note 4. More accurate estimate of the stress concentration\\nfactor (scf) may be determined from Appendix 4-3-2-A1 or by direct application of FE calculation. In which case:\\nc K = 1 . 45 / scf \\nNote that the scf is defined as the ratio between the maximum local principal stress and 3  times the nominal torsional\\nstress (determined for the bored shaft without slots)\\nPart 4 Vessel Systems and Machinery\\nChapter 3 Propulsion and Maneuvering Machinery\\nSection 2 Propulsion Shafting 4-3-2\\nABS RULES FOR BUILDING AND CLASSING MARINE VESSELS • 2024 326'), Document(metadata={'source': 'abs\\\\1-mvr-part-4-jul24_432.pdf', 'page': 9}, page_content='FIGURE 3\\nIntersection between a Radial and an Eccentric Axial Bore\\nTABLE 2\\nShaft Design Factors K  and C K  for Tail Shafts and Stern Tube Shafts (1) (2024)\\nFactor Propulsion\\ndrive\\nStern tube\\nConfiguration\\nTail shafts: propeller attachment method (2)\\nStern tube\\nshafts (7, 8)Keyed (3) Keyless attachment\\nby shrink fit (4)\\nFlanged\\n(5)\\nK \\nAll Oil lubricated bearings 1.26 1.22 1.22 1.15\\nAll Water lubricated bearings:\\ncontinuous shaft liners or\\nequivalent (see 4-3-2/5.17.6)\\n1.26 1.22 1.22 1.15\\nAll Water lubricated bearings:\\nnon-continuous shaft liners(6)\\n1.29 1.25 1.25 1.18\\nC K  0.55 0.55 0.55 0.8\\nNotes:\\n1 Tail shaft may be reduced to stern tube shaft diameter forward of the bearing supporting the propeller, and the\\nstern tube shaft reduced to line shaft diameter inboard of the forward stern tube seal. The inboard end of tail\\nshafts or tube shafts within the vessel, as applicable, is to be designed the same as line shafts, with shaft design\\nfactors in accordance with 4-3-2/5 TABLE 1.\\n2 Other attachments are subject to ABS technical assessment and approval.\\n3 Fillet radii in the transverse section at the bottom of the keyway are not to be less than 0.0125D.\\n4 See also 4-3-2/5.11 and 4-3-2/5.15.2.\\n5 For flange fillet radii and flange thickness, see 4-3-2/5.19.3.\\n6 For Great Lakes Service K  factor corresponding to continuous liner configuration may be used.\\n7 K  factor applies to shafting between the forward edge of the propeller-end bearing and the inboard stern tube\\nseal.\\n8 Where keyed couplings are fitted on stern tube shaft, the shaft diameters are to be increased by 10% in way of\\nthe coupling. See Note 2 of 4-3-2/5 TABLE 1.\\nPart 4 Vessel Systems'), Document(metadata={'source': 'abs\\\\1-mvr-part-4-jul24_432.pdf', 'page': 9}, page_content=' of\\nthe coupling. See Note 2 of 4-3-2/5 TABLE 1.\\nPart 4 Vessel Systems and Machinery\\nChapter 3 Propulsion and Maneuvering Machinery\\nSection 2 Propulsion Shafting 4-3-2\\nABS RULES FOR BUILDING AND CLASSING MARINE VESSELS • 2024 327'), Document(metadata={'source': 'abs\\\\1-mvr-part-4-jul24_432.pdf', 'page': 10}, page_content='TABLE 3\\nMaximum Values of U to be Used in Shaft Calculations\\n SI units\\nN/mm2\\nMKS units\\nkgf/mm2\\nUS units\\npsi\\n1. For all alloy steel shafts except tail shafts and tube shafts\\nstated in 3 and 4 below.\\n800 81.5 116,000\\n2. For all carbon and carbon-manganese shafts except tail\\nshafts and tube shafts stated in 3 and 4 below.\\n760 77.5 110,200\\n3. For tail shafts and tube shafts in oil lubricated bearings or in\\nsaltwater lubricated bearings but fitted with continuous liner\\nor equivalent (see 4-3-2/5.17.6).\\n600 61.2 87,000\\n4. For tail shafts and tube shafts in saltwater lubricated\\nbearings fitted with non-continuous liners.\\n415 42.2 60,000\\n5. For tail shafts and other shaft sections manufactured of age-\\nhardened martenistic stainless steels, higher-strength\\naustenitic stainless steels such as ASTM Type XM-19,\\nXM-21 or XM-28 or other high strength alloy materials.\\n930 95.0 135,000\\n5.3 Hollow Shafts\\nFor hollow shafts where the bore exceeds 40% of the outside diameter, the minimum outside shaft\\ndiameter is not to be less than that determined through successive approximation utilizing the following\\nequation:\\nD o = D 1 \\n1 − D i / D o \\n4 3 \\nwhere\\nD o = required outer diameter of shaft; mm (mm, in.).\\nD = solid shaft diameter required by 4-3-2/5.1; mm (mm, in.).\\nD i = actual inner diameter of shaft; mm (mm, in.).\\n5.5 Alternative Criteria\\nAs an alternative to the design equations shown in 4-3-2/5.1 and 4-3-2/5.3, shafting design is to be\\nconsidered for approval on the basis of axial and torsional loads to be transmitted, bending moment and\\nresistance against fatigue. A detailed stress analysis showing a factor of safety of at least 2.0 for fatigue\\nfailure is to be submitted for approval with all supporting data.\\n5.7 Key\\nThe key material is'), Document(metadata={'source': 'abs\\\\1-mvr-part-4-jul24_432.pdf', 'page': 10}, page_content='\\nfailure is to be submitted for approval with all supporting data.\\n5.7 Key\\nThe key material is to be of equal or higher strength than the shaft material. The effective area of the key in\\nshear is to be not less than A , given below. The effective area is to be the gross area subtracted by materials\\nremoved by saw cuts, set screw holes, chamfer, etc., and is to exclude the portion of the key in way of\\nspooning of the keyway.\\nNote:\\nKeyways are not to be used in installations with slow speed, crosshead or two-stroke engines with a barred speed range.\\nPart 4 Vessel Systems and Machinery\\nChapter 3 Propulsion and Maneuvering Machinery\\nSection 2 Propulsion Shafting 4-3-2\\nABS RULES FOR BUILDING AND CLASSING MARINE VESSELS • 2024 328'), Document(metadata={'source': 'abs\\\\1-mvr-part-4-jul24_432.pdf', 'page': 11}, page_content='A = D 3 \\n5 . 1 r m · \\nY S \\nY K \\nwhere\\nA = shear area of key; mm2 (in.2)\\nD = line shaft diameter; mm (in); as determined by 4-3-2/5.1\\nr m = shaft radius at mid-length of the key; mm (in.).\\nY S = specified yield strength of shaft material; N/mm2 (kgf/mm2, psi)\\nY K = specified yield strength of key material; N/mm2 (kgf/mm2, psi)\\n5.9 Strengthening for Navigation in Ice\\nFor vessels to be assigned with Ice Class notations, shafting is to be designed in accordance with Part 6,\\nChapter 1 for the applicable ice class.\\n5.11 Tail Shaft Propeller-end Design\\nTail shafts are to be provided with an accurate taper fit in the propeller hub, particular attention being given\\nto the fit at the large end of the taper. The actual contact area is to be at least 70% of the theoretical contact\\narea. The key is to fit tightly in the keyway and be of sufficient size (see 4-3-2/5.7) to transmit the full\\ntorque of the shaft, but it is not to extend into the propeller hub counterbore (to accommodate the liner) on\\nthe forward side of the propeller hub. The forward end of the keyway is to be so cut in the shaft as to give a\\ngradual rise from the bottom of the keyway to the surface of the shaft (see 4-3-2/1.3.5 FIGURE 2 ). Ample\\nfillets (see Note of 4-3-2/5 TABLE 1) are to be provided in the corners of the keyway and, in general,\\nstress concentrations are to be reduced.\\n5.13  Sealing Arrangements (1 July 2021)\\n5.13.1 Sterntube Seal (1 July 2021)\\nThe seal arrangement which serves as the primary boundary providing an interface between the\\nshaft and the sea is to be approved type that has been through design assessment and testing. Test\\nreports in accordance with test procedures established by the manufacturer showing that the\\ndesign serves the intended function and/or records of satisfactory service history in marine\\napplications are basis for Product Design Assessment'), Document(metadata={'source': 'abs\\\\1-mvr-part-4-jul24_432.pdf', 'page': 11}, page_content=' serves the intended function and/or records of satisfactory service history in marine\\napplications are basis for Product Design Assessment/Type approval.\\n5.13.2 Propeller-End Seal (1 July 2021)\\nEffective means are to be provided to prevent water having access to the shaft at the part between\\nthe after end of the liner and the propeller hub and between the shaft and the propeller. See typical\\nsealing arrangements in 4-3-2/5.13.2 FIGURE 4. See also 4-3-3/9.5.\\nPart 4 Vessel Systems and Machinery\\nChapter 3 Propulsion and Maneuvering Machinery\\nSection 2 Propulsion Shafting 4-3-2\\nABS RULES FOR BUILDING AND CLASSING MARINE VESSELS • 2024 329'), Document(metadata={'source': 'abs\\\\1-mvr-part-4-jul24_432.pdf', 'page': 12}, page_content='FIGURE 4 \\nTypical Arrangements and Details of Fitting of Tail Shaft and Propeller\\nPart 4 Vessel Systems and Machinery\\nChapter 3 Propulsion and Maneuvering Machinery\\nSection 2 Propulsion Shafting 4-3-2\\nABS RULES FOR BUILDING AND CLASSING MARINE VESSELS • 2024 330'), Document(metadata={'source': 'abs\\\\1-mvr-part-4-jul24_432.pdf', 'page': 13}, page_content='5.15 Tail Shaft Bearings\\n5.15.1 Water-lubricated Bearings (2021)\\nThe length of the bearing, next to and supporting the propeller, is to be not less than four times the\\nrequired tail-shaft diameter. However, for bearings of rubber, reinforced resins, or plastic\\nmaterials, the length of the bearing, next to and supporting the propeller, may be less than four\\ntimes, but not less than two times the required tail shaft diameter, provided the bearing design is\\nbeing substantiated by experimental tests to the satisfaction of ABS. Synthetic materials for\\napplication as water-lubricated stern tube bearings are to be of approved type.\\n5.15.2 Oil-lubricated Bearings\\n5.15.2(a) White metal\\nThe length of white-metal-lined, oil-lubricated propeller-end bearings fitted with an approved oil-\\nseal gland is to be not less than two times the required tail shaft diameter. The length of the\\nbearing may be reduced provided the nominal bearing pressure is not more than 0.80 N/mm 2\\n(0.0815 kgf/mm2, 116 psi) as determined by static bearing reaction calculation taking into account\\nshaft and propeller weight which is deemed to be exerted solely on the aft bearing, divided by the\\nprojected area of the bearing surface. The minimum length, however, is not to be less than 1.5\\ntimes the actual diameter.\\n5.15.2(b) Synthetic material (2024)\\nThe length of synthetic rubber, reinforced resin or plastic oil lubricated propeller end bearings\\nfitted with an approved oil-seal gland is to be not less than two times the required tail shaft\\ndiameter. The length of bearing may be reduced provided the nominal bearing pressure is not more\\nthan 0.60 N/mm 2 (0.0611 kgf/mm2, 87 psi) as determined by static bearing reaction calculation\\ntaking into account shaft and propeller weight which is deemed to be exerted solely on the aft\\nbearing, divided by the projected area of the bearing surface. The minimum length, however, is\\nnot to be less than 1.5 times the actual diameter. Where bearing pressure exceeds 0.60 N/mm 2\\n(0.0611 kgf/mm2, 87 psi), test data and satisfactory service experience are to be submitted'), Document(metadata={'source': 'abs\\\\1-mvr-part-4-jul24_432.pdf', 'page': 13}, page_content='(0.0611 kgf/mm2, 87 psi), test data and satisfactory service experience are to be submitted for\\nreview and approval. Synthetic materials for application as oil-lubricated stern tube bearings are to\\nbe of approved type.\\n5.15.2(c) Cast iron or bronze.\\nThe length of oil-lubricated cast iron or bronze bearings which are fitted with an approved oil-seal\\ngland is to be not less than four times the required tail shaft diameter.\\n5.15.2(d) Stern tube bearing oil lubrication system sampling arrangement (1 July 2022)\\nAn arrangement for readily obtaining accurate oil samples is to be provided. The sampling point is\\nto be taken from the lowest point in the oil lubrication system. Also, the arrangements are to be\\nsuch as to permit the effective removal of contaminants from the oil lubrication system.\\n5.15.2(e) (1 July 2022)\\nEnvironmentally acceptable lubricants (EALs) are biodegradable lubricants with minimal adverse\\nimpact on the marine environment. EALs that are susceptible to hydrolysis from acid due to\\nchemical reaction with water which may cause corrosion in a stern tube system and degrade the\\nelastomer materials of the shaft seals. The designer is to submit supporting documentation\\nshowing that EAL specifications are compatible with the shaft seal elastomer materials as\\nconfirmed by the stern tube seal manufacturer.\\nCommentary:\\nWhen EALs are used, it is recommended that they are of a higher viscosity grade than their equivalent mineral oil\\n(e.g., a mineral oil of grade “100” or 100 cst would be equivalent to an EAL of, “150” or 150 cst).\\nEnd of Commentary\\nPart 4 Vessel Systems and Machinery\\nChapter 3 Propulsion and Maneuvering Machinery\\nSection 2 Propulsion Shafting 4-3-2\\nABS RULES FOR BUILDING AND CLASSING MARINE VESSELS • 2024 331'), Document(metadata={'source': 'abs\\\\1-mvr-part-4-jul24_432.pdf', 'page': 14}, page_content='5.15.3 Grease-lubricated Bearings (2021)\\nThe length of grease-lubricated bearings, next to and supporting the propeller, is to be not less\\nthan four times the diameter of the required tail shaft diameter.\\n5.17 Tail Shaft Liners\\n5.17.1 Thickness at Bearings\\n5.17.1(a) Bronze liner\\nThe thickness of bronze liners to be fitted to tail shafts or tube shafts is not to be less than that\\ngiven by the following equation.\\nt = T \\n25 + 5 . 1 \\xa0 mm \\xa0 \\xa0 or \\xa0 \\xa0 t = T \\n25 + 0 . 2 \\xa0 in . \\nwhere\\nt = thickness of liner; mm (mm, in.).\\nT = required diameter of tail shaft; mm (mm, in.).\\n5.17.1(b) Stainless steel liner\\nThe thickness of stainless steel liners to be fitted to tail shafts or tube shafts is not to be less than\\none-half that required for bronze liners or 6.5 mm (0.25 in.), whichever is greater.\\n5.17.2 Thickness Between Bearings\\nThe thickness of a continuous bronze liner between bearings is to be not less than three-fourths of\\nthe thickness required in way of bearings.\\n5.17.3 Liner Fitting\\nAll liners are to be carefully shrunk or forced upon the shaft by pressure and they are not to be\\nsecured by pins. If the liner does not fit the shaft tightly between the bearing portions, the space\\nbetween the shaft and liner is to be filled by pressure with an insoluble non-corrosive compound.\\n5.17.4 Glass Reinforced Plastic Coating (2019)\\nGlass reinforced plastic coatings may be fitted on propulsion shafting when applied by a trained\\ntechnician, utilizing a procedure that complies with a nationally recognized standard, such as\\nASTM D5162, to the satisfaction of the Surveyor. Such coatings are to consist of at least four plies\\nof cross-woven glass tape impregnated with resin, or an equivalent process. Prior to coating, the\\nshaft is to be cleaned with a suitable solvent and grit-blasted. The shaft is to be examined prior to\\ncoating and the first layer is to be applied in the presence of the Surveyor. Subsequent to coating,\\nthe finished shaft'), Document(metadata={'source': 'abs\\\\1-mvr-part-4-jul24_432.pdf', 'page': 14}, page_content=' the first layer is to be applied in the presence of the Surveyor. Subsequent to coating,\\nthe finished shaft is to be subjected to a spark test or equivalent to verify freedom from porosity to\\nthe satisfaction of the Surveyor. In all cases where reinforced plastic coatings are employed,\\neffective means are to be provided to prevent water gain access to the metal of the shaft.\\nProvisions are to be made for over-lapping and adequately bonding the coating to fitted or clad\\nliners. The end of the liner is to be stepped and tapered as required to protect the end of the\\nwrapping.\\n5.17.5 Stainless Steel Cladding\\nStainless steel cladding of shafts is to be carried out in accordance with 7-A1-11 \"Repair and\\nCladding of Shafts\" of the ABS Rules for Survey After Construction (Part 7).\\n5.17.6 Continuous Liner or Equivalent\\nStainless steel cladding in 4-3-2/5.17.5 and metallic liners in 4-3-2/5.17.1 if of non-continuous\\nconstruction but if exposed shaft is protected with fiber glass reinforced plastic coating in\\naccordance with 4-3-2/5.17.4 may be credited as “continuous“ liners for purposes of\\n● Determining required tail shaft and tube shaft diameters (see 4-3-2/5.1 and 4-3-2/5.3), and\\nPart 4 Vessel Systems and Machinery\\nChapter 3 Propulsion and Maneuvering Machinery\\nSection 2 Propulsion Shafting 4-3-2\\nABS RULES FOR BUILDING AND CLASSING MARINE VESSELS • 2024 332'), Document(metadata={'source': 'abs\\\\1-mvr-part-4-jul24_432.pdf', 'page': 15}, page_content='● Periodical tail shaft survey (see 7-2-1/13.1.3(a) of the ABS Rules for Survey After\\nConstruction (Part 7)).\\n5.19 Couplings and Coupling Bolts\\n5.19.1 Fitted Bolts (2024)\\nThe minimum diameter of accurately fitted shaft coupling bolts is to be determined by the\\nfollowing equation. The bolts are to be assembled with an interference fit.\\nd b = 0 . 65 D 3 ( U + c ) \\nN BU b \\nwhere\\nB = bolt circle diameter; mm (mm, in.)\\nc = constant, as given below\\n SI unit MKS unit US unit\\nc 160 16.3 23,180\\nd b = diameter of bolt at joints; mm (mm, in.)\\nD = diameter of the shaft in vicinity of the respective coupling flanges, mm (mm, in.).\\nAlternatively, D may be taken as the minimum required shaft diameter designed considering the\\nlargest combined torque (static and dynamic), acting at the shaft in vicinity of the respective coupling\\nflanges; mm (mm, in.), see 4-3-2/7.5.\\nN = number of bolts fitted in one coupling\\nU = minimum specified tensile strength of shaft material as defined in 4-3-2/5.1; N/mm2 (kgf/mm2, psi)\\nU b = minimum specified tensile strength of bolt material; N/mm2 (kgf/mm2, psi), subject to the following\\nconditions:\\na) Selected bolt material is to have minimum specified tensile strength U b  at least equal to U .\\nb) Regardless of the actual minimum tensile strength, the value of U b  used in these\\ncalculations is not to exceed 1 . 7 U  nor 1000 N/mm2 (102 kgf/mm2, 145,000 psi).\\n5.19.2 Non-fitted Bolts\\nThe diameter of pre-stressed non-fitted coupling bolts is to be determined based on the detailed\\npreloading and stress calculations and fitting instructions that are to be submitted for review. The\\ntensile stress of the bolt due to prestressing and astern pull is not to exceed 90% of the minimum\\nspecified yield strength of the bolt material. In addition, the bearing stress on any member such as\\nthe flange, bolt head, threads or nut is not to'), Document(metadata={'source': 'abs\\\\1-mvr-part-4-jul24_432.pdf', 'page': 15}, page_content=' addition, the bearing stress on any member such as\\nthe flange, bolt head, threads or nut is not to exceed 90% of the minimum specified yield strength\\nof the material of that member.\\nFor calculation purposes, to take account of torsional vibratory torque, the following factors are to\\nbe applied to the transmitted main torque, unless the actual measured vibratory torque is higher, in\\nwhich case, the actual vibratory torque is to be used:\\n● For direct diesel engine drives:1.2;\\n● For all other drives and for diesel engine drives with elastic coupling:1.0.\\n5.19.2(a) Torque transmission by friction.\\nPart 4 Vessel Systems and Machinery\\nChapter 3 Propulsion and Maneuvering Machinery\\nSection 2 Propulsion Shafting 4-3-2\\nABS RULES FOR BUILDING AND CLASSING MARINE VESSELS • 2024 333'), Document(metadata={'source': 'abs\\\\1-mvr-part-4-jul24_432.pdf', 'page': 16}, page_content='Where torque is to be transmitted by friction provided by prestressed non-fitted bolts only and the\\nbolts are under pure tension, the factor of safety against slip under the worst operating conditions,\\nincluding mean transmitted torque plus torque due to torsional vibration, is to be at least as\\nfollows:\\n● Inaccessible couplings (external to the hull or not readily accessible):2.8;\\n● Accessible couplings (internal to the hull):2.0.\\n5.19.2(b) Torque transmission by combined friction and shear.\\nWhere torque is to be transmitted by combination of fitted bolts and prestressed non-fitted bolts,\\nthe components are to meet the following criteria:\\n● Fitted bolts. The shear stress under the maximum torque corresponding to the worst loaded\\ncondition, is to be not more than 50% of the minimum specified tensile yield strength of the\\nbolt material;\\n● Non-fitted bolts. the factor of safety against slip, under the maximum torque corresponding to\\nthe worst loaded condition and the specified bolt tension, is to be at least 1.6 for inaccessible\\ncouplings and 1.1 for accessible couplings.\\n5.19.2(c) Torque transmission by dowels.\\nDowels connecting the tail shaft flange to the controllable pitch propeller hub, utilized with\\nprestressed non-fitted bolts to transmit torque, are considered equivalent to fitted bolts and are to\\ncomply with 4-3-2/5.19.1 and, if applicable, 4-3-2/5.19.2(b). The dowels are to be accurately fitted\\nand effectively secured against axial movement.\\n5.19.3 Flanges\\n5.19.3(a) Flange thickness.\\nThe thickness of coupling flanges integral to the shaft is not to be less than the minimum required\\ndiameter of the coupling bolts or 0 . 2 D , where D  is as defined in 4-3-2/5.1, whichever is greater.\\nThe fillet radius at the base of a coupling flange is not to be less than 0.08 times the actual shaft\\ndiameter. The fillets of multiple radii design are to have a cross-sectional area not less than that of\\na required single-radius fillet. The surface finish for fillet radii is not to be rougher than 1.6 μm'), Document(metadata={'source': 'abs\\\\1-mvr-part-4-jul24_432.pdf', 'page': 16}, page_content=' fillet. The surface finish for fillet radii is not to be rougher than 1.6 μm\\n(63 μin.) RMS. Alternatively 1.6 μm CLA (center line average) is also acceptable.\\n5.19.3(b) Flange thickness - connection to controllable pitch propeller.\\nThe thickness of coupling flange integral to the tail shaft for connection to the forward face of\\ncontrollable pitch propeller hub is to be not less than 0 . 25 D , where D  is as defined in 4-3-2/5.1.\\nFor the tail shaft flange supporting the propeller the fillet radius at the base of the flange is to be at\\nleast 0 . 125 D . For fillets of multiple-radius design, see 4-3-2/5.19.3(a). The fillet radius is to be\\naccessible for non-destructive examination during tail shaft surveys. See 7-5-1/3.5 of the ABS\\nRules for Survey After Construction (Part 7).\\n5.19.4 Demountable Couplings (2024)\\nThe strength of demountable couplings and keys is to be equivalent to that of the shaft. Couplings\\nare to be accurately fitted to the shaft. Where thrust is transmitted through demountable couplings,\\nmeans for resisting thrust loading are to be provided.\\nHydraulic and other shrink fit couplings require submission of detailed preload and stress\\ncalculations, and fitting instructions for ABS technical assessment and approval.  The torsional\\nholding capacity under nominal working conditions and based on the minimum available\\nPart 4 Vessel Systems and Machinery\\nChapter 3 Propulsion and Maneuvering Machinery\\nSection 2 Propulsion Shafting 4-3-2\\nABS RULES FOR BUILDING AND CLASSING MARINE VESSELS • 2024 334'), Document(metadata={'source': 'abs\\\\1-mvr-part-4-jul24_432.pdf', 'page': 17}, page_content='interference fit (or minimum pull-up length) is to be at least 2.8 times the transmitted mean torque\\nplus torque due to torsional vibration (see 4-3-2/5.19.2) for inaccessible couplings (external to the\\nhull or not readily accessible). This factor may be reduced to 2.0 times for accessible couplings\\n(internal to the hull). The preload stress under nominal working conditions and based on the\\nmaximum available interference fit (or maximum pull-up length) is not to exceed 70% of the\\nminimum specified yield strength.\\nThe following friction coefficients are to be used:\\nOil injection method of fit: 0.13\\nDry method of fit:              0.18.\\n5.19.5 Flexible Couplings\\n5.19.5(a) Design\\nFlexible couplings intended for use in propulsion shafting are to be of approved designs.\\nCouplings are to be designed for the rated torque, fatigue, and avoidance of overheating. Where\\nelastomeric material is used as a torque-transmitting component, it is to withstand environmental\\nand service conditions over the design life of the coupling, taking into consideration the full range\\nof maximum to minimum vibratory torque. Flexible coupling design will be evaluated based on\\nsubmitted engineering analyses.\\n5.19.5(b) Torsional displacement limiter\\nFlexible couplings with elastomer or spring type flexible members, whose failure will lead to total\\nloss of propulsion capability of the vessel, such as that used in the line shaft of a single propeller\\nvessel, are to be provided with a torsional displacement limiter. The device is to lock the coupling\\nor prevent excessive torsional displacement when a pre-determined torsional displacement limit is\\nexceeded. Operation of the vessel under such circumstances may be at reduced power. Warning\\nnotices for such reduced power are to be posted at all propulsion control stations.\\n5.19.5(c) Barred range\\nConditions where the allowable vibratory torque or the allowable dissipated power is exceeded\\nunder the normal operating range of the engine are to be identified and are to be marked as a\\nbarred range in order to avoid continuous operation within this range.\\n5.19.5(d) Impact Torque (2022)\\nF'), Document(metadata={'source': 'abs\\\\1-mvr-part-4-jul24_432.pdf', 'page': 17}, page_content=' continuous operation within this range.\\n5.19.5(d) Impact Torque (2022)\\nFlexible couplings for generator sets or motors are to be capable of absorbing short time impact\\ntorque due to electrical short-circuit conditions up to 6 (six) times the nominal torque, or the\\ncouplings are to be evaluated for capability to absorb thepeak torque for each application.\\n5.19.6 Clutches\\n5.19.6(a) Design (2024)\\nClutches intended for use in propulsion shafting are to be of approved design. They are to be\\ndesigned to transmit the maximum power at rated speed. The minimum service factor, determined\\nby the ratio of the clutch static holding capacity to the rated torque, is to be as follows:\\nClutch design type Minimum service factor\\nDrum-type clutch or Disc type, air-actuated, air cooled clutches  \\nShafting system fitted with fixed pitch propeller 1.7\\nShafting system fitted with fixed pitch propeller and shaft brake 1.5\\nShafting system fitted with controllable pitch propeller 1.5\\nHydraulically-actuated, oil cooled multiple-plate clutches 1.7\\nPart 4 Vessel Systems and Machinery\\nChapter 3 Propulsion and Maneuvering Machinery\\nSection 2 Propulsion Shafting 4-3-2\\nABS RULES FOR BUILDING AND CLASSING MARINE VESSELS • 2024 335'), Document(metadata={'source': 'abs\\\\1-mvr-part-4-jul24_432.pdf', 'page': 18}, page_content='The minimum service factor is to be increased if the shafting vibratory torque is excessive, clutch\\nthermal capacity is exceeded because of frequent clutch engagements during vessel operations, the\\nclutch shoe material used has limited service experience, or the clutch is allowed to slip during\\nvessel operations. Calculations are to be submitted for review.\\nCommentary:\\n“Excessive” means that shaft vibratory torque is higher than the rated torque specified by the manufacturer. This\\nmay be transitional in nature and not continuous such as when the powertrain passes frequently through a Barred\\nSpeed Range. The same may also be considered for “clutch thermal capacity”, which is usually related to shaft\\nvibratory torque, and part of the clutch design specification.\\nEnd of Commentary\\n5.19.6(b) System arrangements\\nArrangements are to be made such that, in the event of failure of the clutch actuating system, each\\nclutch remains capable of being engaged and transmitting an adequate power considered necessary\\nfor propulsion and maneuvering of the vessel.\\n5.19.6(c) Coupling bolts\\nCoupling bolts are to comply with 4-3-2/5.19.1 and 4-3-2/5.19.2 and are to be of sufficient\\nstrength to support the weight of the elements as well as to transmit all necessary forces.\\n5.19.7 Locking Arrangement\\nAfter assembly all coupling bolts and associated nuts are to be fitted with locking arrangement.\\n5.21 Cardan Shaft\\nCardan shafts are to be designed in accordance with the equation for propulsion shaft in 4-3-2/5.1 and\\nflanges and bolts are to be in accordance with 4-3-2/5.19.1, 4-3-2/5.19.2 and 4-3-2/5.19.3. The design of\\nsplines, yokes and cross-members are to be evaluated based on engineering analyses which are to be\\nsubmitted for review. Where applicable, the cardan shaft assembly is to contain means for handling bearing\\nthrust or pull from the propeller.\\n7 Propulsion Shaft Alignment and Vibrations\\n7.1 General\\nIn addition to the design requirements addressed above, additional stresses in the shafting system resulting\\nfrom the shaft alignment in relation to the location and spacing of the shaft bearings, and by ax'), Document(metadata={'source': 'abs\\\\1-mvr-part-4-jul24_432.pdf', 'page': 18}, page_content=' shafting system resulting\\nfrom the shaft alignment in relation to the location and spacing of the shaft bearings, and by axial, whirling\\nand torsional vibrations are to be evaluated and to comply with this section.\\n7.3 Shaft Alignment (2024)\\n7.3.1 Submission of Calculations and Procedures\\n7.3.1(a) (2022)\\nShaft alignment calculations, alignment procedures, and stern tube boring details, as applicable,\\nare to be submitted for review for:\\ni) Propulsion shafting of diameter greater than 300 mm (11.81 in.) in way of the aftmost\\nbearing.\\nii) Propulsion shafting with no forward stern tube bearing.\\nThe calculations, alignment procedures, and stern tube boring details for these shafting\\narrangements are to comply with 4-3-2/7.3.2 through 4-3-2/7.3.4.\\n7.3.1(b) (2019)\\nPart 4 Vessel Systems and Machinery\\nChapter 3 Propulsion and Maneuvering Machinery\\nSection 2 Propulsion Shafting 4-3-2\\nABS RULES FOR BUILDING AND CLASSING MARINE VESSELS • 2024 336'), Document(metadata={'source': 'abs\\\\1-mvr-part-4-jul24_432.pdf', 'page': 19}, page_content='Shaft alignment calculations for other types of installations, if applicable, are only required to be\\nsubmitted for reference.\\n7.3.2 Shaft Alignment Calculations\\n7.3.2(a) (2024)\\nThe alignment calculations are to include bearing reactions, shear forces and bending moments\\nalong the shafting and are to be performed for the maximum allowable alignment tolerances. The\\nanalysis is to show that:\\ni) Bearing loads under all operating conditions are within the acceptable limits specified by\\nthe bearing manufacturer.\\nii) Bearing reactions are always positive (i.e. supporting the shaft)), except as determined\\nacceptable in accordance with 4-3-2/11.1.2(e).v\\niii) Shear forces and bending moments on propulsion equipment are within the limits\\nspecified by manufacturers.\\niv) Shear forces and bending moments at the crankshaft flange are in accordance with the\\nengine manufacturer’s limits.\\nMoreover, the shaft alignment calculations are to include the following (as applicable):\\nv) Geared Systems. In case of geared systems, the calculated misalignment between main\\ngear and pinion is to be less than 0.1*10 -3 [rad] unless the verification and adjustment\\nprocedure of misalignment between main gear and pinion are submitted for reference\\n(i.e., the foregoing misalignment is verified by the tooth contact pattern in the case of no\\nload condition during installation and by load condition during shipboard trial).\\nvi) Misalignment Slope. The designed relative misalignment slope between the shaft and the\\ntail shaft bearing is to be positive, and not to exceed 0.3*10-3 [rad].\\nCommentary:\\nThe relative misalignment slope of the shaft inside the bearing is defined by the shaft deflection\\ncurvature as shown in Section 2, Figure 7 of ABS Guidance Notes on Propulsion Shafting Alignment.\\nEnd of Commentary\\nvii) Stern Tube Bearing Fitting (if applicable) . Based on the actual interference fit tolerances,\\nthe stern tube bearing fitting calculation, including fitting pressure and push-in distance,\\nis to be submitted for review.\\nviii) Tail Shaft Bearing Clearance Calculation . A clearance calculation, on aft and forward\\nstern tube bearing, with alignment model showing only the propeller shaft on two stern\\ntube bearings, is to be included'), Document(metadata={'source': 'abs\\\\1-mvr-part-4-jul24_432.pdf', 'page': 19}, page_content='ern tube bearing, with alignment model showing only the propeller shaft on two stern\\ntube bearings, is to be included in the shaft alignment analysis report and submitted to\\nABS for review. In installations with no forward stern tube bearing, the clearance is to be\\ncalculated with the propeller shaft and the intermediate shaft connected including the\\nintermediate shaft bearing or a temporary support utilized as a second support instead of\\nthe forward stern tube bearing. In both cases, the calculation is to be conducted with no\\npropeller considered and with bearings modeled as multiple supporting points, which, as a\\nminimum, are to include the forward and the aft edge of each bearing.\\nIn addition, the shaft alignment analysis is to identify:\\nix) Sag and gap data and temporary support location corresponding to the condition(s) in\\nwhich they will be measured. See 4-3-2/7.3.2(a).ix FIGURE 5.\\nPart 4 Vessel Systems and Machinery\\nChapter 3 Propulsion and Maneuvering Machinery\\nSection 2 Propulsion Shafting 4-3-2\\nABS RULES FOR BUILDING AND CLASSING MARINE VESSELS • 2024 337'), Document(metadata={'source': 'abs\\\\1-mvr-part-4-jul24_432.pdf', 'page': 20}, page_content='FIGURE 5 \\nFlange Arrangement in Sag and Gap Analysis (2024)\\nx) Jack up locations. See 4-3-2/7.3.2(a).x FIGURE 6.\\nFIGURE 6 \\nJack-up Reaction Measurement (2024)\\n7.3.2(b) Hull Deflections Accounted for in the Analysis (2022)\\nPart 4 Vessel Systems and Machinery\\nChapter 3 Propulsion and Maneuvering Machinery\\nSection 2 Propulsion Shafting 4-3-2\\nABS RULES FOR BUILDING AND CLASSING MARINE VESSELS • 2024 338'), Document(metadata={'source': 'abs\\\\1-mvr-part-4-jul24_432.pdf', 'page': 21}, page_content=\"The vessel conditions to be considered in the analysis are to account for the following:\\ni) Drydock or after launching draft at cold static condition\\nii) Full ballast draft at hot static condition (aft peak tank full, or to the highest level as per\\nthe vessel's loading manual)\\niii) Fully laden draft at hot static condition\\n7.3.2(c) Hull Deflections NOT Accounted for in the Analysis (2024)\\nWhere the hull deflections are not accounted for in the analysis then the shaft alignment\\nverification is to comply with 4-3-2/11.1.2(e).iv In no case are the calculated bearing reactions to\\nexceed 80% of the maximum allowable manufacturer’s limit.\\nCommentary:\\nWhere cargo/ballast load changes do not significantly affect the draft of the ship, hull deflections need not be\\nconsidered for the shaft alignment calculations. Supporting documentation is to be submitted for review.\\nEnd of Commentary\\n7.3.3 Stern Tube Slope Boring (1 July 2024)\\ni) If the calculated relative misalignment slope between the shaft and the tail shaft bearing is\\ngreater than 0.3*10 -3 [rad], the relative misalignment slope is to be reduced by means of\\nslope-boring or bearing inclination. See 4-3-2/Figure 7 for the illustration of relative\\nmisalignment.\\nii) The slope boring angle calculation (single, double or multi-slope ) is to be based on a\\nstatic afloat condition with a hot engine and fully immersed propeller. Also see\\n4-3-2/7.3.2(a).vi above.\\niii) The slope boring verification procedure is to be submitted for review.\\niv) An aft stern tube bearing double or multi-slope boring design with one or more transition\\npoints is to have the aftmost  transition point between two or multi-slopes  located in\\nbetween D / 3  and L / 4  distance from the aft bearing edge. The slope design angles are to\\nbe such to result in heaviest reaction load at the point of the slope transition, and as close\\nto zero load as possible at the aft and forward edge of the bearing.\\nWhere\\nD  = actual shaft diameter\\nL  = effective length of aft stern tube bearing inner bush\\nCommentary:\\nTypically, white metal bearings come with an inner\"), Document(metadata={'source': 'abs\\\\1-mvr-part-4-jul24_432.pdf', 'page': 21}, page_content=' = effective length of aft stern tube bearing inner bush\\nCommentary:\\nTypically, white metal bearings come with an inner layer of white metal that is machined, at the aft and\\nforward edges, to form a chamfer, or other finish geometry. This finish geometry is not part of the\\nmachining applied to form any kind of single, or multi-slope bearing geometry. The effective length of a\\nwhite metal bearing is defined as the length of the inner white metal surface, disregarding these aft and\\nforward finish geometries.\\nEnd Of Commentary\\nPart 4 Vessel Systems and Machinery\\nChapter 3 Propulsion and Maneuvering Machinery\\nSection 2 Propulsion Shafting 4-3-2\\nABS RULES FOR BUILDING AND CLASSING MARINE VESSELS • 2024 339'), Document(metadata={'source': 'abs\\\\1-mvr-part-4-jul24_432.pdf', 'page': 22}, page_content='FIGURE 7 \\nStern Tube Bearing Misalignment (2024)\\n7.3.4 Shaft Alignment Procedure (2024)\\nThe shaft alignment procedure is to be submitted for review and is to be based on the submitted\\nshaft alignment calculations. As a minimum, the shaft alignment procedure is to include:\\ni) Bore Sighting. The bore sighting procedure is to be conducted in two stages, as follows:\\n● Bore sighting before bearings fitting (not applicable for stern tube bearings installed\\nby resin chocking), is to be conducted on the stern tube bore to verify:\\n– The stern tube bore dimensions; in order to define dimensions and tolerance for\\nthe aft and the forward stern tube bush outside diameters machining\\n– The stern tube bore misalignment, vertical and horizontal; in order to define\\nangular corrections for stern tube bearing outside diameter machining\\nCommentary:\\nWhenever applicable, corrections are recommended to be by machining the outside bush diameter,\\nrather than correcting the stern tube bore.\\nEnd of Commentary\\n● Bore sighting after the stern tube bearings are fitted, is to verify:\\n– The aft bush slope, as-installed. The measurement is to be taken with reference to\\nthe forward stern tube bush.\\n– The horizontal misalignment between aft and the forward stern tube bearing\\nIn cases with no forward stern tube bearing, the intermediate shaft bearing is to serve\\nas a reference point to conduct sighting.\\nSufficient number of targets are to be utilized during the sighting through to establish\\naccuracy in verification of bearing slopes. The sighting target arrangement is to be\\nincluded in the procedure. See 4-3-2/7.3.4.i FIGURE 8 and 4-3-2/7.3.4.i FIGURE 9 for\\nbore sighting methods.\\nThe bore sighting is to confirm:\\n● The horizontal misalignment of all bearings is to be minimized and is not to exceed\\nthe clearance of adjacent bearings.\\n● The slope boring angle is to be verified relative to the centerline connecting the aft\\nand the forward stern tube bearing, or the intermediate shaft bearing in installations\\nPart 4 Vessel Systems and Machinery\\nChapter 3 Propulsion and Maneuvering Machinery\\nSection 2 Propulsion Shafting 4-3-2\\nABS RULES FOR BUILDING AND CLASSING MARINE VESSELS • 2024 340'), Document(metadata={'source': 'abs\\\\1-mvr-part-4-jul24_432.pdf', 'page': 23}, page_content='with no forward stern tube bearing. Acceptable tolerance is up to ±0.1*10 -3 [rad],\\nwith the following restriction:\\n– The measured slope boring angle is never to result in misalignment greater than\\n0.3*10-3 [rad].\\nFIGURE 8 \\nBore Sighting - Piano Wire (2024)\\nFIGURE 9\\nBore Sighting - Optical Instrument & Laser (2024)\\nii) Installations with no Forward Stern Tube Bearing.  The following requirements are to be\\nfulfilled in installations with no forward stern tube bearings:\\n● The aft stern tube bearing is to be of the double or multi-slope design that provides\\ncompliance with 4-3-2/7.3.3.\\nCommentary:\\nA single slope design may be accepted where adequate technical documentation is submitted to\\njustify that a single slope design provides an equivalent or better design.\\nPart 4 Vessel Systems and Machinery\\nChapter 3 Propulsion and Maneuvering Machinery\\nSection 2 Propulsion Shafting 4-3-2\\nABS RULES FOR BUILDING AND CLASSING MARINE VESSELS • 2024 341'), Document(metadata={'source': 'abs\\\\1-mvr-part-4-jul24_432.pdf', 'page': 24}, page_content=\"End of Commentary\\n● The aftmost intermediate shaft bearing is to serve as the second fixed point of\\nreference when sighting is conducted.\\n● The intermediate shaft bearing is to be chocked and its offset not changed after the\\nbore sighting is complete, except as agreed to by the attending Surveyor based on the\\nclearance measurements identified in 7.3.4 below or otherwise additional\\nmeasurement and analysis demonstrating that the misalignment meets the criteria\\nidentified in 4-3-2/7.3.2(a).vi are to be submitted for review.\\n● The forced stern tube lubrication system is to be designed with the lubricant supply\\nentering at the aft of the aft stern tube bearing.\\niii) Stern Tube Bearing Fitting Pressure Verification (if applicable) . The stern tube bearing\\nfitting pressure is to be verified to comply with calculated values.\\niv) Tail Shaft Bearing Clearance Measurement. The clearance between the propeller shaft\\nand the stern tube bearings is to be measured after the propeller shaft is fitted, before\\npropeller is installed, and with shaft unrestrained on the forward flange. The attending\\nSurveyor is to verify that the final alignment does not exceed the criteria identified in\\n4-3-2/7.3.4.i (4th bullet).\\nCommentary:\\nThe measurement results without the Surveyor's attendance may be accepted provided the measurement\\nprocedure is approved by the Surveyor prior to conducting the measurement on a case-by-case basis.\\nEnd of Commentary\\nv) Sag and Gap. The sag and gap procedure is to be verified against the respective analysis\\n(e.g., based on dry dock or light ship draft condition). Acceptable tolerances are +0.1 mm.\\nvi) Bearing Load Measurements . Identification of the bearings at which the measurements\\nare to be taken, the jack up locations, the data to be recorded and the procedures to be\\nfollowed is to be reported in the submitted procedure.\\n7.5 Torsional Vibrations\\n7.5.1 Allowable Torsional Vibration Stress (2024)\\nThe torsional vibration stress in the propulsion shafting system is not to exceed the allowable\\nvibratory stress, S , given in 4-3-2/7.5.1 TABLE 4. See 4-3-2/7.5.9 FIGURE 10  for an\"), Document(metadata={'source': 'abs\\\\1-mvr-part-4-jul24_432.pdf', 'page': 24}, page_content='5.1 TABLE 4. See 4-3-2/7.5.9 FIGURE 10  for an illustration\\nof shafting arrangement and a representative torisonal model.  The analysis of torsional vibrations\\nis to account for stresses resulting from vector summation of responses (synthesis) of all relevant\\nexcitation harmonics.\\nThe stress limit S  is applicable for propulsion shafting systems, including types of couplings,\\ndampers, clutches, etc., where torsional vibratory torque is the only load of significance.\\nFor propulsion shafts, and equipment integral to the shaft, where vibratory torque is not the only\\nsignificant source of load, the stress limit S  does not apply. Design criteria of such shafts are\\ncontained in the following applicable sections:\\ni) Crankshafts: see 4-2-1/5.9,\\nii) Turbine rotor shafts: see 4-2-3/5.1, and 4-2-4/5.3\\niii) Gear shafts: see 4-3-1/5.9\\niv) Electric motor shafts: see 4-8-3/3.11\\nv) Generator shafts: see 4-8-3/3.11\\nPart 4 Vessel Systems and Machinery\\nChapter 3 Propulsion and Maneuvering Machinery\\nSection 2 Propulsion Shafting 4-3-2\\nABS RULES FOR BUILDING AND CLASSING MARINE VESSELS • 2024 342'), Document(metadata={'source': 'abs\\\\1-mvr-part-4-jul24_432.pdf', 'page': 25}, page_content='vi) Other shafts and equipment that falls under the subject criteria need to be designed\\nconsidering maximum combined load acting within operating speed range of the\\npropulsion system.\\nTABLE 4 \\nAllowable Torsional Vibratory Stress (2021)\\n SI units MKS units US units\\nS  = allowable vibratory\\nstress\\nU + 160 \\n18 C K C D C r N/mm2 U + 16 . 3 \\n18 C K C D C r kgf/mm2 U + 23180 \\n18 C K C D C r psi\\nU  =minimum tensile\\nstrength of shaft\\nmaterial\\nTo be taken as not more\\nthan 600 N/mm2 for\\ncarbon and carbon\\nmanganese steels and not\\nmore than 800 N/mm2 for\\nalloy steels (see Note)\\nTo be taken as not more than\\n61.2 kgf/mm2 for carbon and\\ncarbon manganese steels and\\nnot more than 81.5 kgf/mm2\\nfor alloy steels (see Note)\\nTo be taken as not more\\nthan 87,000 psi for carbon\\nand carbon manganese\\nsteels and not more than\\n116,000 psi for alloy\\nsteels (see Note)\\nC K  = shaft design factor See 4-3-2/Tables 1 and 2\\nC D  = size factor 0 . 35 + 0 . 93 \\nd 5 0 . 35 + 0 . 93 \\nd 5 0 . 35 + 0 . 487 \\nd 5 \\nd  = actual shaft\\ndiameter\\nmm mm in.\\nC r  = speed ratio factor 3 – 2 λ 2  for λ < 0 . 9 ; 1.38 for 0 . 9 ≤ λ ≤ 1 . 05 \\nλ λ = Critical \\xa0 Speed \\xa0 ( RPM ) at \\xa0 which \\xa0 vibratory \\xa0 stress \\xa0 is \\xa0 calculated \\nrated \\xa0 speed \\xa0 (RPM ) \\nNote: Regardless of the actual minimum specified tensile strength of the shaft (tail shaft, tube shaft, line shaft\\nand crankshaft, as applicable) material, the value of U  used in these calculations is not to exceed the\\nvalues indicated. Higher values of U , but not exceeding 950 N/mm2 (96.8 kgf/mm2, 137,750 psi), are\\nacceptable for the line shaft, subject to satisfactory fatigue'), Document(metadata={'source': 'abs\\\\1-mvr-part-4-jul24_432.pdf', 'page': 25}, page_content='8 kgf/mm2, 137,750 psi), are\\nacceptable for the line shaft, subject to satisfactory fatigue assessment for the line shaft, see Appendix\\n4-3-2-A1.\\n7.5.2 Diesel Engine Installations\\nFor diesel engine installations, vibratory stresses are to be calculated with any one cylinder not\\nfiring and the calculations are to be submitted for information.\\n7.5.3 Barred Speed Ranges\\nWhen torsional vibratory stresses exceed the foregoing limits, at an rpm within the operating\\nrange but less than 80% of rated speed, a barred range is to be provided. The allowable vibratory\\nstress in a barred range due to the alternating torsional vibrations is not to exceed the values given\\nby the following:\\nS 2 = 1 . 7 S \\nC k \\n\\xa0 \\xa0 for \\xa0 λ ≤ 0 . 8 \\nwhere\\nS 2 = allowable vibratory stress within a barred range, N/mm2 (kgf/mm2 , psi)\\nλ  , S , C k  are as defined in 4-3-2/7.5.1.\\nPart 4 Vessel Systems and Machinery\\nChapter 3 Propulsion and Maneuvering Machinery\\nSection 2 Propulsion Shafting 4-3-2\\nABS RULES FOR BUILDING AND CLASSING MARINE VESSELS • 2024 343'), Document(metadata={'source': 'abs\\\\1-mvr-part-4-jul24_432.pdf', 'page': 26}, page_content='Where shafts experience vibratory stresses close to the permissible stresses for transient operation,\\nthe shaft material is to have a specified minimum ultimate tensile strength of not less than 500\\nN/mm2 (50.9 kgf/mm 2, 72,500 psi). Otherwise materials having a specified minimum ultimate\\ntensile strength of not less than 400 N/mm2 (40.8 kgf/mm2, 58,000 psi) may be used.\\nBarred ranges are not acceptable in the speed range between 0.8 and 1.05 of the rated speed. The\\nexistence of a barred range at speeds less than 0.8 of the rated speed is to be considered in\\nestablishing standard operating speeds for the vessel. The width of the barred range is to take into\\nconsideration the breadth and severity of the critical speed but is not to be less than the following\\nlimits:\\n16 n c \\n18 − λ ≥ n ℓ \\xa0 \\xa0 and \\xa0 \\xa0 \\n18 − λ n c \\n16 ≤ n u \\nwhere\\nn c = critical speed\\nn ℓ = lower limit\\nn u = upper limit\\nλ  is as defined in 4-3-2/7.5.1 TABLE 4.\\n7.5.4 Marking of Tachometer and Alarms\\nWhere a barred speed range is identified as in 4-3-2/7.5.3, the tachometer is to be marked and a\\nwarning notice is to be displayed at all propulsion control stations (local and remote) to caution\\nthat operation in the barred range is to be avoided except for passing through. Where remote\\npropulsion control is fitted on the navigation bridge or where a centralized control station is fitted,\\nmeans are to be provided at these remote propulsion control stations to alert the operator of any\\noperation of the propulsion drive within the barred range. This may be achieved by a visual\\ndisplay or alarm.\\n7.5.5 Other Effects\\nBecause critical torsional vibration has deleterious effects other than shafting fatigue, the limits in\\n4-3-2/7.5.1 are not intended for direct application as design factors, and it is desirable that the\\nservice range above 90% of rated speed be kept clear of torsional critical speeds insofar as\\npracticable.\\n7.5.6 Torsiograph Tests\\nWhen the calculation indicates that criticals occur within the operating range, whose'), Document(metadata={'source': 'abs\\\\1-mvr-part-4-jul24_432.pdf', 'page': 26}, page_content='7.5.6 Torsiograph Tests\\nWhen the calculation indicates that criticals occur within the operating range, whose severity\\napproaches or exceeds the limits in 4-3-2/7.5.1, torsiograph tests may be required to verify the\\ncalculations and to assist in determining ranges of restricted operation.\\n7.5.7 Vibration Dampers\\nWhen torsional vibratory stresses exceed the limits in 4-3-2/7.5.1 and a barred range is not\\nacceptable, the propulsion system is to be redesigned, or vibration dampers are to be fitted to\\nreduce the stresses.\\n7.5.8 Gears\\nWhen the propeller is driven through reduction gear, or when geared booster power or power take-\\noff is provided, a barred range is to be provided at the acceptable critical speed if gear tooth\\nchatter occurs during continuous operation at this speed.\\nPart 4 Vessel Systems and Machinery\\nChapter 3 Propulsion and Maneuvering Machinery\\nSection 2 Propulsion Shafting 4-3-2\\nABS RULES FOR BUILDING AND CLASSING MARINE VESSELS • 2024 344'), Document(metadata={'source': 'abs\\\\1-mvr-part-4-jul24_432.pdf', 'page': 27}, page_content='7.5.9 Vessels Below 61 m (200 ft) in Length\\nFor vessels fitted with an unusual propulsion arrangement or without vibration dampers, a\\ntorsional vibration analysis of the propulsion system showing compliance with 4-3-2/7.5.1 is to be\\nsubmitted. This is not required for vessels under 20 m (65 ft) in length or where the installation is\\neventually the same as previous designs which have been proven satisfactory.\\nFIGURE 10 \\nTorsional Vibration Systems (2024)\\n7.7 Axial Vibrations (2024)\\nThe designer or the builder is to evaluate the shafting system to maintain the axial vibration characteristics\\nin association with diesel engine or propeller blade-rate frequency forces do not result in deleterious effects\\nthroughout the engine operating speed range, with consideration also given to the possibility of the\\ncoupling of torsional and axial vibration, unless experience with similar shafting system installations\\nmakes it unnecessary. The axial vibrations may be controlled by axial vibration detuners to change the\\nnatural frequency of the system or by axial vibration dampers to limit the amplitude of axial vibrations to\\nan acceptable level. See 4-3-2/7.7 FIGURE 11 for an illustration of axial vibration system.\\nWhen on the basis of axial vibration calculations the designer or builder proposed to provide barred speed\\nranges within the engine operating speed range, the calculations are to be submitted for information. The\\nbarred speed ranges due to axial vibrations are to be verified and established by measurement.\\nFIGURE 11\\nAxial Vibration Systems (2024)\\nPart 4 Vessel Systems and Machinery\\nChapter 3 Propulsion and Maneuvering Machinery\\nSection 2 Propulsion Shafting 4-3-2\\nABS RULES FOR BUILDING AND CLASSING MARINE VESSELS • 2024 345'), Document(metadata={'source': 'abs\\\\1-mvr-part-4-jul24_432.pdf', 'page': 28}, page_content='7.9 Whirling Vibrations\\n7.9.1 General (2024)\\nCalculations are to be carried out for all main propulsion shafting systems such that the whirling\\nvibration characteristics are satisfactory throughout the speed range. In addition, calculations of\\nthe whirling vibrations for the following arrangements are to be submitted for review:\\ni) Shafting systems without a forward stern tube bearing or without an intermediate bearing\\nii) Shafting systems whose bearing span exceeds 450 d , where d  is the actual shaft\\ndiameter in mm of the tail shaft or intermediate shaft, whichever is less\\niii) Shafting systems having supports outboard of the hull (e.g., A-or P-brackets).\\niv) Shafting systems incorporating Cardan shafts\\nv) Shafting systems incorporating propellers with five (5) blades or more\\nSee 4-3-2/7.9.2(b) FIGURE 12 for a respresentative model of whirling vibration sytem.\\n7.9.2 Calculations\\n7.9.2(a)\\nThe calculations in 4-3-2/7.9.1, are to take into account bearing and oil-film stiffness and are to\\ninvestigate the excitation frequencies giving rise to all critical speeds which may result in\\nsignificant vibration amplitudes within the speed range.\\n7.9.2(b)\\nWhere calculations, as per 4-3-2/7.9.2(a), indicate the possibility of whirling critical speeds within\\nthe range of ±20% of maximum continuous ratings (M.C.R.) speed, measurements using an\\nappropriate recognized technique are to be required to be taken from the shafting system for the\\npurpose of determining the need for barred speed ranges.\\nFIGURE 12 \\nWhirling Vibration Systems (2024)\\n8 Enhanced Shaft Alignment (ESA) Notations (1 July 2024)\\nWhere requested by the Owner, optional class notations ESA or ESA+ may be assigned to vessels\\ndesigned, constructed and operated in compliance with the requirements of the  Guide for Enhanced Shaft\\nAlignment.\\nAssignment of the ESA Notation requires the review of plans and calculations by an ABS Engineering\\nOffice in accordance to the Guide for Enhanced Shaft Alignment.\\nAssignment of the ESA+ Notation requires the review of plans and calculations by an ABS Engineering\\nOffice'), Document(metadata={'source': 'abs\\\\1-mvr-part-4-jul24_432.pdf', 'page': 28}, page_content='ignment.\\nAssignment of the ESA+ Notation requires the review of plans and calculations by an ABS Engineering\\nOffice and compliance with the installation, measurements and sea trials requirements, in accordance with\\nthe Guide for Enhanced Shaft Alignment . In addition, the ESA+ Notation requires the attendance of an\\nABS Surveyor (during additional shafting alignment efforts) during the shaft alignment works which are in\\naddition to regular Rule requirements, as explained in the Guide for Enhanced Shaft Alignment.\\nPart 4 Vessel Systems and Machinery\\nChapter 3 Propulsion and Maneuvering Machinery\\nSection 2 Propulsion Shafting 4-3-2\\nABS RULES FOR BUILDING AND CLASSING MARINE VESSELS • 2024 346'), Document(metadata={'source': 'abs\\\\1-mvr-part-4-jul24_432.pdf', 'page': 29}, page_content='9 Inspection, Testing and Certification\\n9.1 General\\nShafting components are to be inspected, tested and certified by a Surveyor at the plant of the\\nmanufacturer in accordance with the following requirements.\\n9.3 Material Testing\\nFor testing of shafting component materials see 4-3-2/3.7.\\n9.5 Propulsion Shafts and Associated Parts\\n9.5.1 Power Transmitting Parts\\nAll propulsion shafts and associated parts, such as coupling bolts, are to be visually examined for\\nsurface flaws, out of roundness, straightness, and dimensional tolerances. The Surveyor in case of\\ndoubts may require additional non-destructive testing. See 4-3-2/3.7.3 for tail shaft requirements.\\n9.5.2 Liners\\nShaft liners are to prove tight under hydrostatic test of 1.0 bar (1 kgf/cm 2, 15 psi). After assembly,\\nthe fit of the liner to the shaft is to be checked for freedom from voids. Any void in way of\\nbearings is to be dealt with as in 4-3-2/5.17.3.\\n9.7 Manufactured Torque Transmitting Parts (2024)\\nManufactured torque transmitting parts, such as flexible couplings, clutches (independent of the gear\\nassembly), cardan shafts, etc. are to be inspected, tested, and certified by a Surveyor at the plant of\\nmanufacture. Alternatively, these parts may be certified under Type Approval Program (see 1A-1-4/7.7 of\\nthe ABS Rules for Conditions of Classification (Part 1A)).\\n11 Installation and Trials\\n11.1 Shaft Alignment\\n11.1.1 All Vessels\\nThe shaft alignment is to be carried out in the presence of a Surveyor. The alignment is to be\\nverified in the afloat condition with superstructure in place and major welding work completed\\nand is to be to the satisfaction of the attending Surveyor.\\n11.1.2 Vessels with Shafting Arrangements Identified in 4-3-2/7.3.1(a)\\n11.1.2(a) Alignment Verification.\\nThe alignment verification is to be carried out in accordance with the procedures addressed in\\n4-3-2/7.3.4. The alignment calculated data is to be verified and recorded,'), Document(metadata={'source': 'abs\\\\1-mvr-part-4-jul24_432.pdf', 'page': 29}, page_content='\\n4-3-2/7.3.4. The alignment calculated data is to be verified and recorded, in the presence of the\\nSurveyor for the following:\\ni) Stern tube sighting and slope boring (as applicable) before shaft fitting\\nii) Stern tube bearing fitting pressure and push-in distance, as identified in 4-3-2/7.3.4.iii\\niii) Stern tube bearing clearance, as identified in 4-3-2/7.3.4.iii\\niv) Sag and gap\\nv) Bearing reaction\\n11.1.2(b) Stern Tube Bearing Run-in Procedure .\\nFor shaft installations with no forward stern tube bearings and for shaft installations with stern\\ntube bearings having a double or multi-slope boring, a bearing run-in procedure is to be submitted\\nPart 4 Vessel Systems and Machinery\\nChapter 3 Propulsion and Maneuvering Machinery\\nSection 2 Propulsion Shafting 4-3-2\\nABS RULES FOR BUILDING AND CLASSING MARINE VESSELS • 2024 347'), Document(metadata={'source': 'abs\\\\1-mvr-part-4-jul24_432.pdf', 'page': 30}, page_content='by the builder/designer and the same is to be carried out to the satisfaction of the attending\\nSurveyor before the stern tube bearings are exposed to higher service speeds and rudder angles.\\n11.1.2(c) Stern Tube Sighting and Slope Boring (as Applicable) Before Shaft Fitting:\\ni) Maximum allowable slope boring angle deviation is not to result in negative slope, and is\\nnever to exceed relative misalignment slope of 0.3*10-3 [rad].\\nii) In case of a propulsion installation with no forward stern tube bearing, the stern tube bore\\nsighting and slope boring are to be conducted as identified in 4-3-2/7.3.\\niii) In cases where sighting through and bearing positioning are conducted in block stage of\\nthe vessel construction, the verification of the following procedures is required:\\na) Slope boring angle (as applicable)\\nb) Bearing vertical offset positioning\\nc) Engine vertical offset positioning\\nd) Sag and gap procedure\\niv) If a monitoring system is installed to verify the sterntube bearing misalignment then\\nconsideration to waive some of the above requirements can be given.\\n11.1.2(d) Sag and Gap Verification\\ni) The sag and gap is to be measured at the drydock or after launching condition, unless\\nagreed to otherwise by ABS.\\nii) With assistance of the temporary supports the sag and gap needs to be simultaneously\\nverified at all open flanges until sag and gap values are brought within acceptable\\ntolerances of +0.1 mm from the corresponding calculated values.\\n11.1.2(e) Bearing Load Verification (2022)\\ni) The bearing load measurements are to be carried out at the drydock or lightship condition,\\nunless agreed to otherwise by ABS.\\nii) Bearing reactions are required to be verified and recorded by such means as hydraulic\\njack and/or strain gauge method on all accessible shafting bearings namely:\\na) Forward stern tube bearing\\nb) Intermediate shaft bearing(s)\\nc) Minimum three aftmost main engine bearings (for directly coupled propulsion\\nsystems only)\\nd) Main-gear shaft bearing\\niii) Where hull deflections are accounted for in the analysis;\\na) The measured values for the bearings identified in 4-3-2/11.1.2(e).i are to be\\nwithin +20'), Document(metadata={'source': 'abs\\\\1-mvr-part-4-jul24_432.pdf', 'page': 30}, page_content=' identified in 4-3-2/11.1.2(e).i are to be\\nwithin +20% of the calculated values, unless specifically approved otherwise.\\nb) For the first vessel in series, in addition to 4-3-2/11.1.2(e).i to 4-3-2/11.1.2(e).ii\\nrequirements, bearing load measurements are to be taken for at least one\\nadditional service draft condition of the vessel as referenced in 4-3-2/11.1.2(e).iv\\nc) In the case that the measured values are not within the prescribed tolerance\\nidentified in 4-3-2/11.1.2(e).iii.a, the shaft alignment calculations are to be\\nrevised so as to reflect compliance and re-submitted, or the requirements of\\n4-3-2/11.1.2(e).iv followed.\\nPart 4 Vessel Systems and Machinery\\nChapter 3 Propulsion and Maneuvering Machinery\\nSection 2 Propulsion Shafting 4-3-2\\nABS RULES FOR BUILDING AND CLASSING MARINE VESSELS • 2024 348'), Document(metadata={'source': 'abs\\\\1-mvr-part-4-jul24_432.pdf', 'page': 31}, page_content=\"iv) Where hull deflections are NOT accounted for in the analysis, in addition to\\n4-3-2/11.1.2(e).i to 4-3-2/11.1.2(e).ii, bearing load measurements are to be taken in at\\nleast one additional service draft condition of the vessel such as:\\na) The full ballast draft [see 4-3-2/7.3.2(b).ii], or\\nb) Fully laden draft [see 4-3-2/7.3.2(b).iii], or\\nc) Other service condition as determined acceptable by ABS.\\nIn no case are the measured bearing reactions to exceed 80% of the maximum allowable\\nmanufacturer’s limit.\\nv) In the case that measurements in a particular service condition indicate that one of the\\nbearings is unloaded, additional measurements and analyses, (such as whirling analysis)\\nare to be required to confirm unloading of the bearing has no adverse effect on vessel\\noperation.\\nvi) Additional bearing load measurements may be required, as determined necessary by\\nABS.\\n11.1.2(f) Geared systems.\\nIn the case that the verification and adjustment procedure identified in 4-3-2/7.3.2(a).v are\\nsubmitted, the misalignment between main gear and pinion is to be verified and recorded to the\\nsatisfaction of the Surveyor.\\n11.1.3 Cast Resin Chocks\\nResin chocks intended for chocking of shaft bearing foundation or stern tube are to be of an\\napproved type (see 1A-1-A3/5 of the ABS Rules for Conditions of Classification (Part 1A) for\\ntype approval). Resin chocks are not to be relied upon to maintain watertight integrity of the hull,\\nor the oiltight integrity of the lubricating oil system. Accordingly direct contact of resin chocks\\nwith water or oil is to be avoided. Where used, the arrangements and installation procedures are to\\nbe in accordance with the manufacturer's recommendations.\\nArrangements of the proposed installation, along with installation parameters such as deadweight,\\nholding-down bolt tightening torque, etc., and calculations showing that the manufacturer's\\nspecified allowable pressure is not exceeded, are to be submitted for review in each case.\\n11.3 Vibration Measurement\\n11.3.\"), Document(metadata={'source': 'abs\\\\1-mvr-part-4-jul24_432.pdf', 'page': 31}, page_content=' are to be submitted for review in each case.\\n11.3 Vibration Measurement\\n11.3.1 Torsional Vibration\\nWhere torsiograph measurement is required as per 4-3-2/7.5.6, the measurement is to be taken in\\nthe presence of a Surveyor.\\nWhen a barred speed range is provided in accordance with 4-3-2/7.5.3, tachometer marking,\\nwarning notice, and alarms at remote control stations (where fitted) as described in 4-3-2/7.5.4 are\\nto be fitted.\\nElectronic speed regulating devices may be preset to step-pass the barred range in addition to the\\nwarning notice.\\nWhen the propeller is driven through reduction gears, the Surveyor is to ascertain that no gear-\\ntooth chatter occurs throughout the operating range; otherwise a barred speed range as per\\n4-3-2/7.5.3 is to be provided; see 4-3-2/7.5.8.\\nPart 4 Vessel Systems and Machinery\\nChapter 3 Propulsion and Maneuvering Machinery\\nSection 2 Propulsion Shafting 4-3-2\\nABS RULES FOR BUILDING AND CLASSING MARINE VESSELS • 2024 349'), Document(metadata={'source': 'abs\\\\1-mvr-part-4-jul24_432.pdf', 'page': 32}, page_content='11.3.2 Axial Vibrations\\nWhen calculations indicate that barred speed ranges are present as per 4-3-2/7.7, these barred\\nspeed ranges are to be verified and recorded by appropriate measurement procedures in the\\npresence and to the satisfaction of a Surveyor.\\n11.3.3 Measurements for Whirling Vibrations (1 July 2018)\\nWhere calculations, as per 4-3-2/7.9.2(b), indicate the possibility whirling critical speeds within\\nthe range of ±20% of maximum continuous ratings (M.C.R.) speed, measurements using an\\nappropriate recognized technique are to be required to be taken from the shafting system for the\\npurpose of determining the need for barred speed ranges.\\n11.5 Circulating Currents\\nWhere means are provided to prevent circulating currents from passing between the propeller, shaft and the\\nhull, a warning notice plate is to be provided in a visible place cautioning against the removal of such\\nprotection.\\n11.6 Watertight Bulkhead Penetrations for Shafting (1 July 2021)\\nWhere a propulsion shaft penetrates a watertight bulkhead, arrangements are to be made to maintain the\\nwatertight integrity of the bulkhead.\\nA bulkhead seal is to be installed whenever the shaft passes through a watertight bulkhead. The bulkhead\\nseal is to provide a liquid tight seal in both sides of the bulkhead for both shaft rotations (ahead and\\nreverse). Bulkhead seals are to be suitable for the rated shaft speed, radial and axial motions due to shaft\\nrotation and vibrations.\\nBulkhead seals are to be of approved type that have been through design assessment and testing. Test\\nreports in accordance with test procedures established by the manufacturer showing that the design serves\\nthe intended function and/or records of satisfactory service history in marine applications are basis for\\nProduct Design Assessment/Type approval.\\n11.7 Sea Trial (2024)\\nThe shafting installation is to be operated in the presence of the Surveyor to demonstrate its reliability and\\nsufficiency to function satisfactorily  under various maneuvering conditions. During these trials, no\\nabnormal heating, excessive vibrations or other detrimental operating phenomena are to be observed at\\nspeeds within the operating range.\\n13 Tail Shaft Condition Monitoring (TCM)\\n13.1 Notation (2024)\\nWhere requested by the Owner, this optional class notation TC'), Document(metadata={'source': 'abs\\\\1-mvr-part-4-jul24_432.pdf', 'page': 32}, page_content='M)\\n13.1 Notation (2024)\\nWhere requested by the Owner, this optional class notation TCM (Tailshaft Condition Monitoring)\\nmay be assigned to a vessel with tail shafts specifically arranged with oil-lubricated stern tube bearings,\\nprovided the following requirements are complied with.\\n13.3 System Requirements\\nIn addition to the requirements for propulsion shafting in Section 4-3-2, the following design requirements\\nare to be complied with and relevant drawing(s) and data are to be submitted for review and approval prior\\nto commencement of the initial surveys as specified in 4-3-2/13.7.1.\\n13.3.1 Temperature Monitoring and Alarm (1 July 2022)\\nThe vessel is to be provided with a temperature monitoring and alarm system for the tail shaft\\nstern tube aft bearing. The system is to be arranged with a high temperature alarm and two\\nsensors. One easily interchangeable sensor may be installed in lieu of the two sensors. Where one\\nPart 4 Vessel Systems and Machinery\\nChapter 3 Propulsion and Maneuvering Machinery\\nSection 2 Propulsion Shafting 4-3-2\\nABS RULES FOR BUILDING AND CLASSING MARINE VESSELS • 2024 350'), Document(metadata={'source': 'abs\\\\1-mvr-part-4-jul24_432.pdf', 'page': 33}, page_content='interchangeable sensor is installed, one spare sensor is to be carried onboard the vessel. See also\\n4-3-2/14.5 TABLE 5.\\nThe monitoring and alarm system is to have the following features:\\ni) The main alarm system is to be provided with a power failure alarm.\\nii) An alarm that indicates an open circuit, a short circuit, or an earth fault in the temperature\\nsensor circuit is to be provided\\niii) An alarm indicating that the sensor’s temperature signal is outside the set points of the\\nunit is to be provided.\\nTemperature monitoring and the alarm system are to be located in the propulsion machinery\\nspaces. For ACC/ACCU machinery spaces, the temperature monitoring and alarm system is to be\\nincorporated with the required control and monitoring system.\\nWhen a centralized control or monitoring station is installed, the alarms are to be activated in such\\na station.\\n13.3.2 Oil Seal Design\\nApproved type oil seals are to be used which will allow for replacement without the shaft\\nwithdrawal or removal of the propeller.\\n13.3.3 Bearing Wear Down Measurement\\nArrangements and means are to be provided for bearing wear down measurement.\\n13.5 Management of the Monitored Data\\nThe following management of the monitored data is to be implemented.\\n13.5.1 Lubricating Oil Sampling (1 July 2022)\\nStern tube bearing lubricating oil is to be sampled monthly under service conditions, and analyzed\\nfor water content using a suitable on-board test kit. Additionally, at least every six months, oil\\nsamples are to be submitted for analysis to a recognized laboratory where testing is to be\\nconducted for the following:\\ni) Free water content in oil, if present\\nii) Bearing metals content (Pb, Fe, Cu, Al, Cr, Sn, Si, Ni)\\niii) Viscosity at 40°C\\n13.5.2 Stern Tube Bearings Operating Condition\\nStern tube bearing temperatures are to be monitored and temperature recorded daily. The system’s\\noil consumption is to be recorded monthly.\\n13.5.3 Recording and Analysis\\nThe chief engineer is responsible for recording and maintaining a file of the shipboard performed\\nlubricating oil sampling and analysis results, as well as stern tube bearings operating condition.\\nThe results of the laboratory analysis are to be stored within the file on board. All'), Document(metadata={'source': 'abs\\\\1-mvr-part-4-jul24_432.pdf', 'page': 33}, page_content=\" stern tube bearings operating condition.\\nThe results of the laboratory analysis are to be stored within the file on board. All documentation\\nis to be available to the Surveyor to allow for trend assessment of the measured parameters.\\nThe shipboard record is to contain conclusions regarding the condition of the oil and whether it\\nremains suitable for further use. Conclusions are to be supported by comparative parameters.\\nIn case of oil replacement, a record containing the reason for replacement of the oil is to be\\nmaintained for Surveyor's review at the next Annual Survey.\\nPart 4 Vessel Systems and Machinery\\nChapter 3 Propulsion and Maneuvering Machinery\\nSection 2 Propulsion Shafting 4-3-2\\nABS RULES FOR BUILDING AND CLASSING MARINE VESSELS • 2024 351\"), Document(metadata={'source': 'abs\\\\1-mvr-part-4-jul24_432.pdf', 'page': 34}, page_content='13.7 Surveys\\n13.7.1 Initial Survey\\nAll systems in 4-3-2/13 are to be examined and tested to the satisfaction of the attending Surveyor\\nin accordance with the approved plans.\\nFor initial survey of existing vessels, refer to 7-9-20/1.3 of the ABS Rules for Survey After\\nConstruction (Part 7).\\n13.7.2 Survey After Construction\\nRefer to Section 7-9-20 of the ABS Rules for Survey After Construction (Part 7).\\n14 Tailshaft Condition Monitoring (TCM-PS) (1 July 2022)\\n14.1 Notation\\nWhere requested by the Owner, the optional class notation TCM-PS (Tailshaft Condition Monitoring\\n– Protective Seal) may be assigned to a vessel with the tailshaft stern tube seal system which can fully\\neliminate oil discharge through the oil to sea interface. The system would eliminate the need for using\\nenvironmentally acceptable lubricants (EALs) as required by some local and regional regulations.\\nTo obtain the TCM-PS notation, in addition to the requirements in 4-3-2/13 above, the following\\nrequirements are to be complied with.\\n14.3 System Requirements\\nThe basic design concept e.g., a typical air seal or void space seal functions by having at least two\\nindependent seals: one on the side of the seal facing oil, and the other on the side of the seal facing water.\\nAn air chamber or void space in between these two seals creates a controlled \"buffer zone\" where any oil\\nor water is collected preventing oil discharge or water ingress through the oil to sea interface or lubrication\\nsystem. The collected liquid will provide a indication of seal leakage.\\nApproved type oil seals which will allow for replacement without the shaft withdrawal or removal of the\\npropeller are to be used.\\nThe seals are to be designed considering adequate redundancy to prevent any leakage or escape of oil in\\ncase of any failure.\\n14.3.1 Piping Systems\\nThe requirements listed in 4-3-2/14.3.1 for piping systems associated with the water, air and\\nlubrication systems are in addition to those listed in Part 4, Chapter 6 of these Rules.\\ni) Air System\\nWhere air is used for the, then it is to be supplied from at least two compressors so that in\\ncase of any failure in one air'), Document(metadata={'source': 'abs\\\\1-mvr-part-4-jul24_432.pdf', 'page': 34}, page_content=', then it is to be supplied from at least two compressors so that in\\ncase of any failure in one air source the alternative/standby source can automatically take\\nover for normal operation without causing any oil leakage through the oil to sea interface\\nor contaminate lubricating oil by sea water.\\nii) Water System\\nWhere water is used for the system it is to be supplied from at least two pumps so that in\\ncase of any failure in one pump the alternative/ standby pump can automatically take over\\nfor normal operation.\\niii) Lubricating Oil Piping and Tank\\n● Independent lubrication piping systems are to be provided for each tailshaft stern tube\\nseal so as to maintain continuous operation.\\nPart 4 Vessel Systems and Machinery\\nChapter 3 Propulsion and Maneuvering Machinery\\nSection 2 Propulsion Shafting 4-3-2\\nABS RULES FOR BUILDING AND CLASSING MARINE VESSELS • 2024 352'), Document(metadata={'source': 'abs\\\\1-mvr-part-4-jul24_432.pdf', 'page': 35}, page_content='● A lubricating oil tank is to be provided to maintain controlled head of oil to act on the\\nseal rings/components. The tank assembly is to be installed with a level alarm and oil\\nsight gauge.\\nInterconnection between similar type of piping system of multi propeller shafts will be acceptable\\nprovided appropriate isolation valves are fitted at both sides of the piping systems.\\nIn case of multi-propeller shafts, at least one pump for each shaft is to be provided and one\\nadditional stand-by pump for the combined arrangement.\\nPlastic piping is allowed in this system provided it meets Section 4-6-3 and fire endurance\\nrequirements for essential services as specified in 4-6-3/21 TABLE 1.\\n14.3.2 Drain Tank\\nA drain tank is to be provided to collect leakage i.e., oil and/or water from the air chamber or void\\nspace in case of any seal ring failure. A level alarm is to be provided to monitor leakage.\\nThe tank is to be easily accessible and have provision to collect sample fluid for inspection.\\n14.5 Control and Monitoring\\nInstruments for monitoring for the stern tube lubricating oil and tailshaft seal system are to be provided, as\\nindicated in 4-3-2/14.5 TABLE 5. All alarms are to be audible and visual and are to be of the self-\\nmonitoring type so that a circuit failure will cause an alarm condition. There are to be provisions for testing\\nalarms.\\nTABLE 5\\nInstrumentation and Alarms for TCM and TCM-PS Notations\\nMonitored Parameter Alarm Condition Display Local Main Control\\nStation(2)\\nNavigation\\nBridge(1, 3)\\nBearing Temperature High x x x\\nOil Flow, Pressure or DPS Low x x x\\nOil Temperature High x x x\\nOil tank Level Low x x\\nAir pressure(4, 5) Low x(6) x(6) x x\\nDrain Tank Level(4) High x x\\nNotes:\\n1 Either an individual indication or a common trouble alarm may be fitted at this location, provided the individual\\nindication is installed at the equipment (or main control station).\\n2 For vessels not fitted with a main control station, the indication is to be installed at the equipment or other suitable\\nlocation.\\n3 Applicable only for ACCU Notation.\\n4 For TCM-PS Not'), Document(metadata={'source': 'abs\\\\1-mvr-part-4-jul24_432.pdf', 'page': 35}, page_content=' other suitable\\nlocation.\\n3 Applicable only for ACCU Notation.\\n4 For TCM-PS Notation only\\n5 If provided\\n6 Optional\\nPart 4 Vessel Systems and Machinery\\nChapter 3 Propulsion and Maneuvering Machinery\\nSection 2 Propulsion Shafting 4-3-2\\nABS RULES FOR BUILDING AND CLASSING MARINE VESSELS • 2024 353'), Document(metadata={'source': 'abs\\\\1-mvr-part-4-jul24_432.pdf', 'page': 36}, page_content='14.7 Surveys\\n14.7.1 Initial Survey\\nAll systems in 4-3-2/14 are to be examined and tested to the satisfaction of the attending Surveyor\\nin accordance with the approved plans.\\nFor initial survey of existing vessels, refer to 7-9-20/5.3 of the ABS Rules for Survey After\\nConstruction (Part 7).\\n14.7.2 Survey After Construction\\nRefer to Section 7-9-20 of the ABS Rules for Survey After Construction (Part 7).\\n15 Tailshaft Condition Monitoring (TCM-W) (1 July 2018)\\n15.1 Notation (2024)\\nWhere requested by the Owner, the optional class notation TCM-W (Tailshaft Condition Monitoring -\\nWater Lubricated) may be assigned to a vessel with tail shafts specifically arranged with closed or\\nopened type water-lubricated stern tube bearings, provided the following requirements are complied with.\\nExposed open water-lubricated bearings installed in an I or V shaped shaft struts without forced lubrication\\nsystems are not within the scope of this notation.\\n15.3 System Requirements\\n15.3.1 General\\n15.3.1(a) Bearing Material\\nThe bearing material is to be approved by ABS.\\n15.3.1(b) Corrosion Protection\\nApproved corrosion-resistant material or a corrosion protection coating is to be used for propeller\\nshaft, stern tube and all seal components (exposed to seawater) of the shaft including other metal\\nstructures exposed to the lubricant.\\n15.3.1(c) Pumping and Piping (1 July 2022)\\nThe requirements listed in 4-3-2/15.3 for pumping and piping systems associated with the water\\nlubricated system are in addition to those listed in Part 4, Chapter 6 of these Rules.\\ni) Pumps\\n● At least two pumps, with an auto change over system, are to be provided for each\\npropeller shaft.\\n● In case of multi-propeller shafts, at least one pump for each shaft is to be provided\\nand one additional stand-by pump for the combined arrangement.\\n● Each pump is to be able to operate the system independently.\\n● Pumps are to be able to operate from both local and main control stations.\\nii) Lubricant Piping\\n● Independent lubrication'), Document(metadata={'source': 'abs\\\\1-mvr-part-4-jul24_432.pdf', 'page': 36}, page_content=' able to operate from both local and main control stations.\\nii) Lubricant Piping\\n● Independent lubrication piping systems are to be provided for each propeller shaft so\\nas to maintain continuous operation of the vessel.\\n● Interconnection of lubrication piping systems is acceptable where multi-propeller\\nshafts are used, provided appropriate isolation valves are fitted at both sides of the\\npiping system.\\n● Non-metallic piping is allowed in this essential system provided it meets the\\nrequirements of category A and other machinery space. See 4-6-3/21 TABLE 1.\\nPart 4 Vessel Systems and Machinery\\nChapter 3 Propulsion and Maneuvering Machinery\\nSection 2 Propulsion Shafting 4-3-2\\nABS RULES FOR BUILDING AND CLASSING MARINE VESSELS • 2024 354'), Document(metadata={'source': 'abs\\\\1-mvr-part-4-jul24_432.pdf', 'page': 37}, page_content='● An emergency supply of lubricating water is to be provided in case of failure of the\\nprimary lubrication system .\\niii) Lubricant Tank (if applicable)\\n● Tanks are to be of metallic construction. Alternatively, the designer or builder may\\nuse non-metallic construction in accordance with a recognized or international\\nstandard acceptable to ABS. Specifications for the tank, including thermal and\\nmechanical properties and chemical and fire resistance, are to be submitted for\\nreview.\\n● Mounting, securing arrangements and electrical bonding arrangements are to be\\nsubmitted for approval.\\n● Valves are to be readily accessible and controllable from the floors or gratings. Open\\nor closed indicators are to be provided, see 4-6-2/5.11.3(a). Where the valves are\\npower-operated, the valves are to allow for manual operation in the event of a failure\\nof the power supply.\\n● Tank Vents and Sounding are to comply with 4-6-4/9 and 4-6-4/11.\\niv) Water Filtration System\\n● The normal operational condition is to be displayed and any failures are to be\\nalarmed as indicated in 4-3-2/15.3.1(d) TABLE 6.\\n● Two independent water filtration systems are to be provided to maintain continuous\\noperation of the vessel.\\n● An auto change-over system is to be provided in case of failure.\\n15.3.1(d) Control and Instrument (2024)\\nInstruments for monitoring the water lubricated stern tube system are to be provided, as indicated\\nin 4-3-2/15.3.1(d) TABLE 6. All alarms are to be audible and visual and are to be of the self-\\nmonitoring type so that a circuit failure causes an alarm condition. There are to be provisions for\\ntesting alarms.\\nTABLE 6\\nInstrumentation and Alarms for TCM-W Notation (1 July 2022)\\nMonitored\\nParameter\\nSystem - Opened Loop\\n(OL) & Closed Loop (CL)\\nAlarm\\nCondition\\nDisplay Local Main\\nControl\\nStation(2)\\nNavigation\\nBridge(1,4)\\nFlow OL & CL Low/High x x x x\\nPressure OL & CL Low/High x x x x\\nDiff. Pressure\\n(Filter)\\nOL & CL High x x x x'), Document(metadata={'source': 'abs\\\\1-mvr-part-4-jul24_432.pdf', 'page': 37}, page_content=' Low/High x x x x\\nDiff. Pressure\\n(Filter)\\nOL & CL High x x x x\\nDiff. Pressure\\n(Across S/T)\\nCL High x x x x\\nBearing Temperature OL & CL High x x x x\\nWater Temperature CL High x x x x\\nSalinity CL High x x x x\\nWear Down(3) OL & CL High x x x x\\nTank Level CL Low x x x x\\nPart 4 Vessel Systems and Machinery\\nChapter 3 Propulsion and Maneuvering Machinery\\nSection 2 Propulsion Shafting 4-3-2\\nABS RULES FOR BUILDING AND CLASSING MARINE VESSELS • 2024 355'), Document(metadata={'source': 'abs\\\\1-mvr-part-4-jul24_432.pdf', 'page': 38}, page_content='Monitored\\nParameter\\nSystem - Opened Loop\\n(OL) & Closed Loop (CL)\\nAlarm\\nCondition\\nDisplay Local Main\\nControl\\nStation(2)\\nNavigation\\nBridge(1,4)\\nWater filtration\\nSystem\\nOL & CL Failure x x x x\\nPump OL & CL Failure x x x x\\nPower Circuit OL & CL Failure x x x x\\nNotes:\\n1 Either an individual indication or a common trouble alarm may be fitted at navigation bridge, provided\\nthe individual indication is installed at the equipment (or main control station).\\n2 For vessels not fitted with a main control station, the indication is to be installed at the equipment or\\nother suitable location.\\n3 Where continuous monitoring system is installed.\\n4 Applicable only for ACCU Notation.\\n15.3.1(e) Lubricant Sampling and Testing\\nSampling and testing procedures are to be available on board as follows:\\n● A sampling point for periodical testing is to be provided after the water filtration system.\\n● Suitable test kits are to be provided onboard.\\n● Testing is to be conducted as per manufacturer’s recommendations.\\n● For closed loop systems, an additional sampling system is to be provided in the return\\nlubricant line, after bearing lubrication.\\n15.3.1(f) Shaft Alignment Calculations\\n● The calculations, alignment procedures, and stern tube inclination details for these shafting\\narrangements are to comply with 4-3-2/7.3.\\n● Additionally, the shaft alignment calculations are to be analyzed for both initial conditions and\\nconditions of manufacturer’s maximum allowable wear down limits.\\n● All calculations and data are to be submitted for review.\\n15.3.1(g) Wear Down (2024)\\n● A manual gauge (i.e., poker gauge) is to be provided for measuring the bearing wear down.\\n● The maximum permitted wear down is to be indicated by the manufacturer. (See 7-5-2/1.1 and\\n7-5-2/1.3 of the ABS Rules for Survey After Construction (Part 7))\\n● The measurement history is to be recorded and documented on board.\\nCommentary:\\nThe bearing wear down monitoring system may be provided in addition to the manual system to monitor\\nwear down from ship control system.\\nEnd of Commentary\\n15.3.2'), Document(metadata={'source': 'abs\\\\1-mvr-part-4-jul24_432.pdf', 'page': 38}, page_content=' to the manual system to monitor\\nwear down from ship control system.\\nEnd of Commentary\\n15.3.2 Closed Loop System\\n15.3.2(a) Anti-freeze Properties, Temperature Limit\\nThe bearing manufacturer is to provide the anti-freeze properties, temperature limit (lowest and\\nhighest) of lubricant water. Appropriate anti-freeze properties of the lubricant are to be maintained\\nas per the manufacturer’s recommendation.\\nPart 4 Vessel Systems and Machinery\\nChapter 3 Propulsion and Maneuvering Machinery\\nSection 2 Propulsion Shafting 4-3-2\\nABS RULES FOR BUILDING AND CLASSING MARINE VESSELS • 2024 356'), Document(metadata={'source': 'abs\\\\1-mvr-part-4-jul24_432.pdf', 'page': 39}, page_content='15.3.2(b) Contamination\\nMeans are to be provided to detect sea water contamination into the system.\\n15.3.2(c) Lubricant Quality\\nSuitable test kits for lubricant quality are to be made available on board.\\n15.3.2(d) Overpressure Protection\\nProvisions are to be made for the suitable pressure relief arrangements.\\n15.3.2(e) Lubricant pH, Cl\\nThe bearing manufacturer is to provide the acceptable limits for pH and Chloride content.\\n15.3.2(f) Shaft Turning System\\nPropeller shafts are to be equipped with a turning system, providing for rotation.\\n15.3.3 Opened Loop System\\n15.3.3(a) Lubricant Source (2024)\\nPrimarily, sea water is to be taken from the sea water main/ sea chest.\\nCommentary:\\nOther sources may be used in case of emergency and where appropriate quality of lubricant is not available when\\nvessel is operating in unclean water.\\nEnd of Commentary\\n15.3.3(b) Shaft Turning System\\nPropeller shafts are to be equipped with a turning system, providing for rotation.\\n15.5 Management of the Monitored Data\\nThe following management of the monitored data is to be implemented.\\n15.5.1 Lubricant Sampling (Closed Loop System) (1 July 2022)\\nA sample test of lubricant is to be carried out at the following intervals:\\ni) Samples are to be analyzed monthly by ship’s crew.\\nii) The documentation on lubrication fresh water analysis is to be available on board, and\\nsamples are to be submitted for analysis to a recognized laboratory at least every six (6)\\nmonths. Analysis to be performed, including the following as a minimum:\\n● Material contents as applicable (with the material of the shaft, stern tube and liners\\nused).\\n● Corrosion inhibitors in fresh water (pH or equivalent alkalinity indicators) indicating\\nthe degree of passivation of the system against corrosion.\\n● Salinity indicators or equivalent indicators (i.e., total conductivity).\\n● Contents of bearing particles.\\n15.5.2 Wear Down Measurement\\nWear down is to be continuously monitored or measured using manual device at least twice in five\\nyears (not to exceed 36 month'), Document(metadata={'source': 'abs\\\\1-mvr-part-4-jul24_432.pdf', 'page': 39}, page_content=' down is to be continuously monitored or measured using manual device at least twice in five\\nyears (not to exceed 36 month intervals) and recorded. Records are to be made available to the\\nattending Surveyor.\\nPart 4 Vessel Systems and Machinery\\nChapter 3 Propulsion and Maneuvering Machinery\\nSection 2 Propulsion Shafting 4-3-2\\nABS RULES FOR BUILDING AND CLASSING MARINE VESSELS • 2024 357'), Document(metadata={'source': 'abs\\\\1-mvr-part-4-jul24_432.pdf', 'page': 40}, page_content='15.5.3 Bearings Operating Condition (2024)\\nStern tube bearing temperatures are to be continuously monitored and recorded. Where bearing\\nmaterial properties or bearing arrangements do not require temperature monitoring, assessment\\nand approval may be given by ABS on a case-by-case basis.\\n15.5.4 Lubricant Operating Condition\\nLubricant flow is to be continuously monitored and recorded.\\n15.5.5 Recording and Analysis\\nThe chief engineer is responsible for recording and maintaining a file of the shipboard-performed\\nlubricant sampling and analysis results, as well as stern tube bearings operating condition. The\\nresults of the laboratory analysis are to be stored within the file onboard. All documentation is to\\nbe made available to the Surveyor to allow for trend assessment of the measured parameters.\\n15.7 Test Plan\\nA Test Plan is to be submitted to serve as the plan review at the start of the plan review process. The test\\nplan is to identify all equipment and systems and the recommended method of performing the tests or\\ntrials.\\n15.9 Surveys\\n15.9.1 Bearing and Coating Inspection\\n● Stern tube bearings are to be examined at installation to the satisfaction of the attending\\nSurveyor.\\n● The shaft sleeve/liner is to be examined at installation to the satisfaction of the attending\\nSurveyor.\\n● Where direct access is not available, arrangements are to be made for borescope inspection of\\nthe system (e.g., bearing, shaft surface, et al.)\\n● The inspection procedures for corrosion protection coatings and borescope inspection are to\\nbe submitted to ABS.\\n15.9.2 Initial Survey\\nAll systems in 4-3-2/15 are to be examined and tested to the satisfaction of the attending Surveyor\\nin accordance with the approved plans.\\nFor initial survey of existing vessels, refer to 7-9-20/3.3 of the ABS Rules for Survey After\\nConstruction (Part 7).\\n15.9.3 Survey After Construction\\nRefer to 7-9-20/3 of the ABS Rules for Survey After Construction (Part 7).\\n16 Sterntubeless Vessels (1 July 2024)\\nWhere requested by the Owner, the optional class notation STBLess-W may be assigned to a vessel with\\nsterntubeless arrangements as described in the Requirements for Sterntubeless Vessels with Water\\nLubricated Bearings.\\nThe main aspects den'), Document(metadata={'source': 'abs\\\\1-mvr-part-4-jul24_432.pdf', 'page': 40}, page_content=' in the Requirements for Sterntubeless Vessels with Water\\nLubricated Bearings.\\nThe main aspects denoting compliance with this Notation from the standard Rule application are:\\ni) The existence of a stern inspection chamber aft of the vessel’s engine room, adequately sized to\\nallow direct access for survey and examination.\\nii) The installation of a split type of aftmost water-lubricated bearing and appropriate seal.\\niii) The installation of a seawater cooling/conditioning system for lubricant sea-water supply,\\nincluding appropriate redundancy.\\nPart 4 Vessel Systems and Machinery\\nChapter 3 Propulsion and Maneuvering Machinery\\nSection 2 Propulsion Shafting 4-3-2\\nABS RULES FOR BUILDING AND CLASSING MARINE VESSELS • 2024 358'), Document(metadata={'source': 'abs\\\\1-mvr-part-4-jul24_432.pdf', 'page': 41}, page_content='iv) Shaft alignment verification at more than one service condition including conditions of maximum\\nbearing wear for the water lubricated bearing.\\nv) Compliance with the applicable sections of the Guide for Enhanced Shaft Alignment and pertinent\\nClass Notation ESA, is a requirement for obtaining the STBLess-W Notation.\\nvi) Compliance with the requirements of the Class Notation TCM-W, as per 4-3-2/15 is also a\\nrequirement for obtaining the STBLess-W Notation.\\n17 Line Cutters (2024)\\nLine cutters reduce the risk of propeller entanglement and shaft seal damage caused by line intrusion. See\\n4-3-2/17.3 FIGURE 13, 4-3-2/17.3 FIGURE 14 and 4-3-2/17.3 Figure 15 for different types of line cutter.\\n17.1 Notation (2024)\\nWhere requested by the Owner, the optional class notation Line Cutter may be assigned to a vessel with\\nline cutters, provided the following requirements are complied with.\\n17.3 Definitions\\nFor the purpose of this section, the following definitions apply:\\nScissors Type Rotating blades attached to the shaft (shaft mounted) or propeller hub (propeller mounted) and\\npassing over fixed blades and shear lines like a scissor.\\nDisc Type A sharp edged disc that rotates with the propeller or shaft.\\nShaver Type Cutters that work continuously by shaving the line caught by the propeller.\\nFIGURE 13 \\nScissors Type Line Cutter (2024)\\nPart 4 Vessel Systems and Machinery\\nChapter 3 Propulsion and Maneuvering Machinery\\nSection 2 Propulsion Shafting 4-3-2\\nABS RULES FOR BUILDING AND CLASSING MARINE VESSELS • 2024 359'), Document(metadata={'source': 'abs\\\\1-mvr-part-4-jul24_432.pdf', 'page': 42}, page_content='FIGURE 14 \\nDisc Type Line Cutter (2024)\\nFigure 15 \\nShaver Type Line Cutter (2024)\\n17.5 Plans and Data to be Submitted\\nThe following plans and data are to be submitted for review:\\n● Shafting arrangement\\n● Line cutter specifications including shaft RPM cutting range\\n● Engineering analyses\\n● Line cutter plans and construction drawings\\n● Maintenance Manual\\n● Service history, if available\\n● Propeller end shaft seal arrangement\\n● Material specifications\\nPart 4 Vessel Systems and Machinery\\nChapter 3 Propulsion and Maneuvering Machinery\\nSection 2 Propulsion Shafting 4-3-2\\nABS RULES FOR BUILDING AND CLASSING MARINE VESSELS • 2024 360'), Document(metadata={'source': 'abs\\\\1-mvr-part-4-jul24_432.pdf', 'page': 43}, page_content='● Type test procedure and reports\\n● Type Approval Certificate\\n17.7 Materials\\n17.7.1 General\\nMaterials for line cutters are to be stainless steel in accordance with 2-3-7 and 2-3-8 of these\\nRules. Other materials may be specially approved on a case-by-case basis. Where materials other\\nthan those specified in the Rules are proposed, full details of chemical composition, heat\\ntreatment, and mechanical properties are to be submitted for approval.\\nBolts are to be manufactured to a recognized standard.\\n17.9 Cutter Requirements and Design\\nThe following design requirements are to be complied with and relevant drawing(s) and data are to be\\nsubmitted for review and approval prior to commencement of the initial surveys as specified in\\n4-3-2/17.15.1.\\n17.9.1 Cutter Styles\\nThe following designs are considered for this notation:\\n● Scissor Type\\n● Disk Type\\n● Shaver Type\\n17.9.2 Scissor Type\\nScissor cutters are acceptable on vessels that utilize azimuth thrusters, fixed pitch propellers, or\\ncontrollable pitch propellers. They are to be mounted on the propeller hub for shaft sizes larger\\nthan 305 mm (12 in.) in diameter. For vessels with shafts smaller than 305 mm (12 in.) in\\ndiameter, the cutters are to be mounted to the shaft. In some cases, transmission spacers may be\\nrequired to allow for the added thickness of the spur mounting plate.\\nThe cutter blades are to be machined sharp on both ends with a “U” shaped retainer design to\\nprevent lines from slipping out between cutters while the propeller is spinning in either the\\nforward or reverse direction. The gap between cutter blades is not to be larger than 0.254 mm\\n(0.010 in.) at all times.\\n17.9.3 Disk Type\\nThe use of disk type line cutters is permitted only on vessels with shafts smaller than 165 mm (6.5\\nin.) in diameter. The cutter disk is to be held in place using grub screws to prevent axial\\nmovement.\\n17.9.4 Shaver Type (2024)\\nShaver cutters are acceptable for cutting line on vessels that utilize fixed pitch propellers or\\ncontrollable pitch propellers and are not to be used on vessels with fiberglass'), Document(metadata={'source': 'abs\\\\1-mvr-part-4-jul24_432.pdf', 'page': 43}, page_content=' utilize fixed pitch propellers or\\ncontrollable pitch propellers and are not to be used on vessels with fiberglass hulls unless strength\\ncalculations and plans for a special setup are submitted for review.\\nCommentary:\\nShaver type line cutters are only capable of cutting line when the vessel is moving in the forward direction.\\nEnd of Commentary\\nPart 4 Vessel Systems and Machinery\\nChapter 3 Propulsion and Maneuvering Machinery\\nSection 2 Propulsion Shafting 4-3-2\\nABS RULES FOR BUILDING AND CLASSING MARINE VESSELS • 2024 361'), Document(metadata={'source': 'abs\\\\1-mvr-part-4-jul24_432.pdf', 'page': 44}, page_content='17.9.5 Rope and Line Cutters of Unusual Design (2024)\\nLine cutters of unusual design that are not stated in 4-3-2/17.9.1 are to  be subject to ABS\\ntechnical assessment and approval  based on submittal of stress analyses and other supporting\\ndetails. These are to include, but are not limited to, the following:\\n● Stress analysis, including description of the methodology used for the analysis\\n● Fatigue assessment\\n● Allowable stress and fatigue criteria\\n● Procedure for testing of the cutter\\nFor the analysis, the ahead condition is to be based on propulsion machinery’s maximum rating\\nand full ahead speed. The astern condition is to be based on the maximum available astern power\\nof the propulsion machinery (the astern power of the main propelling machinery is to be capable\\nof 70% of the ahead RPM corresponding to the maximum continuous ahead power, as required in\\n4-1-1/7.5) and is to include crash astern operation.\\n17.9.6 Propeller-end Seal and Protection Against Corrosion\\nVessels fitted with line cutters are to maintain proper protection of the shaft against corrosion and\\npropeller-end sealing requirements in accordance with 4-3-3/9.5 and 4-3-2/5.13, respectively. See\\n4-3-2/5.13.2 FIGURE 4 for typical sealing arrangements.\\n17.9.7 Shaft Diameter\\nA shaft diameter range for each line cutter is to be preliminarily stated by the manufacturer.\\n17.9.8 Non-fitted Bolts\\nThe tensile stress of the bolt due to pre-stressing and astern pull is not to exceed 90% of the\\nminimum specified yield strength of the bolt material. In addition, the bearing stress on any\\nmember such as the flange, bolt head, threads, or nut is not to exceed 90% of the minimum\\nspecified yield strength of the material of that member.\\nBolts are be provided with means to prevent loosening in service.\\n17.9.9 Torsional Vibrations\\nThe torsional vibration stress in the propulsion shafting system with the line cutter installed is not\\nto exceed the allowable vibratory stress, see 4-3-2/7.5.1.\\n17.9.10 Fiberglass Vessels (2024'), Document(metadata={'source': 'abs\\\\1-mvr-part-4-jul24_432.pdf', 'page': 44}, page_content='-3-2/7.5.1.\\n17.9.10 Fiberglass Vessels (2024)\\nInstallation on fiberglass vessels is subject to ABS technical assessment and approval . In which\\ncase, strength calculations are to be submitted for review.\\n17.9.11 Dynamic Balancing\\nAll rotating components of the line cutters are to be dynamically balanced at their maximum\\ndesigned shaft speed.\\n17.11 Strengthening for Navigation in Ice\\nFor vessels to be assigned with Ice Class notations, line cutters are to be designed in accordance with\\nSection 6-1-3.\\n17.13 Type Testing\\nEach type and size of line cutter is to be type tested at the plant of the manufacturer or other acceptable\\nlocation.\\ni) The type test for line cutters is to be developed by the manufacturer and test procedures are to be\\nsubmitted for review.\\nPart 4 Vessel Systems and Machinery\\nChapter 3 Propulsion and Maneuvering Machinery\\nSection 2 Propulsion Shafting 4-3-2\\nABS RULES FOR BUILDING AND CLASSING MARINE VESSELS • 2024 362'), Document(metadata={'source': 'abs\\\\1-mvr-part-4-jul24_432.pdf', 'page': 45}, page_content='ii) Blade sharpness, material hardness, surface finish, and dimension checks are to be performed in\\nthe presence of the Surveyor.\\niii) Testing of line cutters is to be carried out in a test rig that provides access for the Surveyor to\\nobserve the line being cut.\\niv) The rig shaft diameter and the line cutter’s largest suitable shaft diameter are to be of equal size.\\nv) Line cutters are required to cut through a standard fishing net and a mooring line with the same\\ndiameter as those used on the vessel or 89 mm (3.5 in.), whichever is less.\\nvi) Shaft vibration characteristics are to be measured and recorded in order to identify possible sub-\\nsynchronous vibrations and resonances.\\nvii) After the test, the line cutters are to be inspected. The blades are not to have permanent\\ndeformation or defect.\\n17.15 Surveys\\n17.15.1 Initial Survey\\nThe installation is to be examined to the satisfaction of the attending Surveyor in accordance with\\nthe approved plans.\\n17.15.2 Survey After Construction\\nRefer to 7-9-32 of the Rules for Survey After Construction (Part 7).\\nPart 4 Vessel Systems and Machinery\\nChapter 3 Propulsion and Maneuvering Machinery\\nSection 2 Propulsion Shafting 4-3-2\\nABS RULES FOR BUILDING AND CLASSING MARINE VESSELS • 2024 363')]\n"
          ]
        }
      ],
      "source": [
        "print(documents)"
      ]
    },
    {
      "cell_type": "markdown",
      "metadata": {
        "id": "kphZMjjVuGAM"
      },
      "source": [
        "Now it's time to construct a graph based on the retrieved documents. For this purpose, we have implemented an `LLMGraphTransformermodule` that significantly simplifies constructing and storing a knowledge graph in a graph database."
      ]
    },
    {
      "cell_type": "code",
      "execution_count": 13,
      "metadata": {
        "id": "pXf7OTGHtHNW"
      },
      "outputs": [],
      "source": [
        "llm=ChatOpenAI(temperature=0, model_name=\"gpt-4o\") # gpt-4-0125-preview occasionally has issues\n",
        "llm_transformer = LLMGraphTransformer(llm=llm)\n",
        "\n",
        "graph_documents = llm_transformer.convert_to_graph_documents(documents)\n",
        "graph.add_graph_documents(\n",
        "    graph_documents,\n",
        "    baseEntityLabel=True,\n",
        "    include_source=True\n",
        ")"
      ]
    },
    {
      "cell_type": "markdown",
      "metadata": {
        "id": "ll2asQiAugSW"
      },
      "source": [
        "You can define which LLM you want the knowledge graph generation chain to use. At the moment, we support only function calling models from OpenAI and Mistral. However, we plan to expand the LLM selection in the future. In this example, we are using the latest GPT-4. Note that the quality of generated graph significantly depends on the model you are using. In theory, you always want to use the most capable one. \n",
        "\n",
        "The LLM graph transformers returns graph documents, which can be imported to Neo4j via the `add_graph_documents` method. \n",
        "The `baseEntityLabel` parameter assigns an additional `__Entity__` label to each node, enhancing indexing and query performance. \n",
        "The `include_source` parameter links nodes to their originating documents, facilitating data traceability and context understanding.\n",
        "\n",
        "You can inspect the generated graph with yfiles visualization."
      ]
    },
    {
      "cell_type": "code",
      "execution_count": 40,
      "metadata": {
        "colab": {
          "base_uri": "https://localhost:8080/",
          "height": 817,
          "referenced_widgets": [
            "0228aafc5fc94b2ab3065bc3df714771",
            "75e10974788346c48b444b8f28208bbb"
          ]
        },
        "id": "RMZlhtDmtHNW",
        "outputId": "5164f961-5bce-48a3-f3af-765d2d7288f4"
      },
      "outputs": [
        {
          "data": {
            "application/vnd.jupyter.widget-view+json": {
              "model_id": "e9b45724e4104826b647949d07abbde4",
              "version_major": 2,
              "version_minor": 0
            },
            "text/plain": [
              "GraphWidget(layout=Layout(height='800px', width='100%'))"
            ]
          },
          "metadata": {},
          "output_type": "display_data"
        }
      ],
      "source": [
        "# directly show the graph resulting from the given Cypher query\n",
        "default_cypher = \"MATCH (s)-[r:!MENTIONS]->(t) RETURN s,r,t LIMIT 50\"\n",
        "\n",
        "def showGraph(cypher: str = default_cypher):\n",
        "    # create a neo4j session to run queries\n",
        "    driver = GraphDatabase.driver(\n",
        "        uri = os.environ[\"NEO4J_URI\"],\n",
        "        auth = (os.environ[\"NEO4J_USERNAME\"],\n",
        "                os.environ[\"NEO4J_PASSWORD\"]))\n",
        "    session = driver.session()\n",
        "    widget = GraphWidget(graph = session.run(cypher).graph())\n",
        "    widget.node_label_mapping = 'id'\n",
        "    #display(widget)     ##\n",
        "    return widget\n",
        "\n",
        "showGraph()"
      ]
    },
    {
      "cell_type": "markdown",
      "metadata": {
        "id": "1guHjU4uyEZK"
      },
      "source": [
        "## Hybrid Retrieval for RAG    *******key\n",
        "After the graph generation, we will use a hybrid retrieval approach that combines vector and keyword indexes with graph retrieval for RAG applications.\n",
        "\n",
        "![retrieval](https://raw.githubusercontent.com/tomasonjo/blogs/master/graphhybrid.png)\n",
        "\n",
        "The diagram illustrates a retrieval process beginning with a user posing a question, which is then directed to an RAG retriever. This retriever employs keyword and vector searches to search through unstructured text data and combines it with the information it collects from the knowledge graph. Since Neo4j features both keyword and vector indexes, you can implement all three retrieval options with a single database system. The collected data from these sources is fed into an LLM to generate and deliver the final answer.\n",
        "## Unstructured data retriever\n",
        "You can use the Neo4jVector.from_existing_graph method to add both keyword and vector retrieval to documents. This method configures keyword and vector search indexes for a hybrid search approach, targeting nodes labeled Document. Additionally, it calculates text embedding values if they are missing.\n",
        "\n"
      ]
    },
    {
      "cell_type": "code",
      "execution_count": 15,
      "metadata": {
        "id": "GHbJPMfDtHNW"
      },
      "outputs": [
        {
          "name": "stderr",
          "output_type": "stream",
          "text": [
            "Received notification from DBMS server: {severity: WARNING} {code: Neo.ClientNotification.Statement.FeatureDeprecationWarning} {category: DEPRECATION} {title: This feature is deprecated and will be removed in future versions.} {description: The query used a deprecated procedure. ('db.index.vector.createNodeIndex' has been replaced by 'CREATE VECTOR INDEX')} {position: line: 1, column: 1, offset: 0} for query: 'CALL db.index.vector.createNodeIndex($index_name,$node_label,$embedding_node_property,toInteger($embedding_dimension),$similarity_metric )'\n"
          ]
        }
      ],
      "source": [
        "vector_index = Neo4jVector.from_existing_graph(\n",
        "    OpenAIEmbeddings(),\n",
        "    search_type=\"hybrid\",              ######\n",
        "    node_label=\"Document\",\n",
        "    text_node_properties=[\"text\"],\n",
        "    embedding_node_property=\"embedding\"\n",
        ")"
      ]
    },
    {
      "cell_type": "markdown",
      "metadata": {
        "id": "2nzfPwvvy0Yz"
      },
      "source": [
        "The vector index can then be called with the similarity_search method.\n",
        "## Graph retriever\n",
        "On the other hand, configuring a graph retrieval is more involved but offers more freedom. In this example, we will use a full-text index to identify relevant nodes and then return their direct neighborhood.\n",
        "\n",
        "![graph](https://raw.githubusercontent.com/tomasonjo/blogs/master/neighbor.png)\n",
        "\n",
        "The graph retriever starts by identifying relevant entities in the input. \n",
        "For simplicity, we instruct the LLM to identify people, organizations, and locations. \n",
        "\n",
        "To achieve this, we will use LCEL with the newly added `with_structured_output` method to achieve this.\n",
        "\n",
        "\n",
        "\n",
        "\n",
        "LCEL   #####\n",
        "\n",
        "\n"
      ]
    },
    {
      "cell_type": "code",
      "execution_count": 16,
      "metadata": {
        "colab": {
          "base_uri": "https://localhost:8080/"
        },
        "id": "6yCMz_sRtHNW",
        "outputId": "81ff54d6-aac6-410c-97e9-d115aa4d5ec7"
      },
      "outputs": [],
      "source": [
        "# Retriever\n",
        "\n",
        "graph.query(\n",
        "    \"CREATE FULLTEXT INDEX entity IF NOT EXISTS FOR (e:__Entity__) ON EACH [e.id]\")\n",
        "\n",
        "# Extract entities from text\n",
        "class Entities(BaseModel):\n",
        "    \"\"\"Identifying information about entities.\"\"\"\n",
        "\n",
        "    names: List[str] = Field(\n",
        "        ...,\n",
        "        description=\"All the person, organization, or business entities that \"\n",
        "        \"appear in the text\",\n",
        "    )\n",
        "\n",
        "prompt = ChatPromptTemplate.from_messages(\n",
        "    [\n",
        "        (\n",
        "            \"system\",\n",
        "            \"You are extracting organization and person entities from the text.\",\n",
        "        ),\n",
        "        (\n",
        "            \"human\",\n",
        "            \"Use the given format to extract information from the following \"\n",
        "            \"input: {question}\",\n",
        "        ),\n",
        "    ]\n",
        ")\n",
        "\n",
        "entity_chain = prompt | llm.with_structured_output(Entities)"
      ]
    },
    {
      "cell_type": "markdown",
      "metadata": {
        "id": "n-Cs7RFAzdT3"
      },
      "source": [
        "Let's test it out:"
      ]
    },
    {
      "cell_type": "code",
      "execution_count": 44,
      "metadata": {
        "colab": {
          "base_uri": "https://localhost:8080/"
        },
        "id": "54H15KNAtHNX",
        "outputId": "7139b4ae-82fe-4a66-d6e2-afb49cd70edb"
      },
      "outputs": [
        {
          "data": {
            "text/plain": [
              "[]"
            ]
          },
          "execution_count": 44,
          "metadata": {},
          "output_type": "execute_result"
        }
      ],
      "source": [
        "entity_chain.invoke({\"question\": \"what shafting includes\"}).names"
      ]
    },
    {
      "cell_type": "markdown",
      "metadata": {
        "id": "e2S2aWq5zfQO"
      },
      "source": [
        "Great, now that we can detect entities in the question, let's use a full-text index to map them to the knowledge graph. First, we need to define a full-text index and a function that will generate full-text queries that allow a bit of misspelling, which we won't go into much detail here."
      ]
    },
    {
      "cell_type": "code",
      "execution_count": 18,
      "metadata": {
        "id": "dY8huoM8tHNX"
      },
      "outputs": [],
      "source": [
        "def generate_full_text_query(input: str) -> str:\n",
        "    \"\"\"\n",
        "    Generate a full-text search query for a given input string.\n",
        "\n",
        "    This function constructs a query string suitable for a full-text search.\n",
        "    It processes the input string by splitting it into words and appending a\n",
        "    similarity threshold (~2 changed characters) to each word, then combines\n",
        "    them using the AND operator. Useful for mapping entities from user questions\n",
        "    to database values, and allows for some misspelings.\n",
        "    \"\"\"\n",
        "    full_text_query = \"\"\n",
        "    words = [el for el in remove_lucene_chars(input).split() if el]\n",
        "    for word in words[:-1]:\n",
        "        full_text_query += f\" {word}~2 AND\"\n",
        "    full_text_query += f\" {words[-1]}~2\"\n",
        "    return full_text_query.strip()\n",
        "\n",
        "# Fulltext index query\n",
        "def structured_retriever(question: str) -> str:\n",
        "    \"\"\"\n",
        "    Collects the neighborhood of entities mentioned\n",
        "    in the question\n",
        "    \"\"\"\n",
        "    result = \"\"\n",
        "    entities = entity_chain.invoke({\"question\": question})\n",
        "    for entity in entities.names:\n",
        "        response = graph.query(\n",
        "            \"\"\"CALL db.index.fulltext.queryNodes('entity', $query, {limit:2})\n",
        "            YIELD node,score\n",
        "            CALL {\n",
        "              WITH node\n",
        "              MATCH (node)-[r:!MENTIONS]->(neighbor)\n",
        "              RETURN node.id + ' - ' + type(r) + ' -> ' + neighbor.id AS output\n",
        "              UNION ALL\n",
        "              WITH node\n",
        "              MATCH (node)<-[r:!MENTIONS]-(neighbor)\n",
        "              RETURN neighbor.id + ' - ' + type(r) + ' -> ' +  node.id AS output\n",
        "            }\n",
        "            RETURN output LIMIT 50\n",
        "            \"\"\",\n",
        "            {\"query\": generate_full_text_query(entity)},\n",
        "        )\n",
        "        result += \"\\n\".join([el['output'] for el in response])\n",
        "    return result"
      ]
    },
    {
      "cell_type": "markdown",
      "metadata": {
        "id": "g-F9BjghzjdH"
      },
      "source": [
        "The `structured_retriever` function starts by detecting entities in the user question. Next, it iterates over the detected entities and uses a Cypher template to retrieve the neighborhood of relevant nodes. Let's test it out!"
      ]
    },
    {
      "cell_type": "code",
      "execution_count": 32,
      "metadata": {
        "colab": {
          "base_uri": "https://localhost:8080/"
        },
        "id": "_6fOJRPntHNX",
        "outputId": "9074886d-7dbd-49d9-d96b-16da7f856c74"
      },
      "outputs": [
        {
          "name": "stdout",
          "output_type": "stream",
          "text": [
            "\n"
          ]
        }
      ],
      "source": [
        "print(structured_retriever(\"What is shaft?\"))"
      ]
    },
    {
      "cell_type": "markdown",
      "metadata": {
        "id": "xN9c_dEozyaO"
      },
      "source": [
        "## Final retriever\n",
        "As we mentioned at the start, we'll combine the unstructured and graph retriever to create the final context that will be passed to an LLM."
      ]
    },
    {
      "cell_type": "code",
      "execution_count": 20,
      "metadata": {
        "id": "iCTMp3prtHNX"
      },
      "outputs": [],
      "source": [
        "def retriever(question: str):\n",
        "    print(f\"Search query: {question}\")\n",
        "    structured_data = structured_retriever(question)\n",
        "    unstructured_data = [el.page_content for el in vector_index.similarity_search(question)]\n",
        "    final_data = f\"\"\"Structured data:\n",
        "{structured_data}\n",
        "Unstructured data:\n",
        "{\"#Document \". join(unstructured_data)}\n",
        "    \"\"\"\n",
        "    return final_data"
      ]
    },
    {
      "cell_type": "markdown",
      "metadata": {
        "id": "NZG9Q8Ohz3Hn"
      },
      "source": [
        "As we are dealing with Python, we can simply concatenate the outputs using the f-string.\n",
        "## Defining the RAG chain\n",
        "We have successfully implemented the retrieval component of the RAG. First, we will introduce the query rewriting part that allows conversational follow up questions.\n"
      ]
    },
    {
      "cell_type": "code",
      "execution_count": 21,
      "metadata": {
        "id": "vu68Z79ttHNX"
      },
      "outputs": [],
      "source": [
        "# Condense a chat history and follow-up question into a standalone question\n",
        "_template = \"\"\"Given the following conversation and a follow up question, rephrase the follow up question to be a standalone question,\n",
        "in its original language.\n",
        "Chat History:\n",
        "{chat_history}\n",
        "Follow Up Input: {question}\n",
        "Standalone question:\"\"\"  # noqa: E501\n",
        "CONDENSE_QUESTION_PROMPT = PromptTemplate.from_template(_template)\n",
        "\n",
        "def _format_chat_history(chat_history: List[Tuple[str, str]]) -> List:\n",
        "    buffer = []\n",
        "    for human, ai in chat_history:\n",
        "        buffer.append(HumanMessage(content=human))\n",
        "        buffer.append(AIMessage(content=ai))\n",
        "    return buffer\n",
        "\n",
        "_search_query = RunnableBranch(\n",
        "    # If input includes chat_history, we condense it with the follow-up question\n",
        "    (\n",
        "        RunnableLambda(lambda x: bool(x.get(\"chat_history\"))).with_config(\n",
        "            run_name=\"HasChatHistoryCheck\"\n",
        "        ),  # Condense follow-up question and chat into a standalone_question\n",
        "        RunnablePassthrough.assign(\n",
        "            chat_history=lambda x: _format_chat_history(x[\"chat_history\"])\n",
        "        )\n",
        "        | CONDENSE_QUESTION_PROMPT\n",
        "        | ChatOpenAI(temperature=0)\n",
        "        | StrOutputParser(),\n",
        "    ),\n",
        "    # Else, we have no chat history, so just pass through the question\n",
        "    RunnableLambda(lambda x : x[\"question\"]),\n",
        ")"
      ]
    },
    {
      "cell_type": "markdown",
      "metadata": {
        "id": "CsH90hbvz_aF"
      },
      "source": [
        "Next, we introduce a prompt that leverages the context provided by the integrated hybrid retriever to produce the response, completing the implementation of the RAG chain."
      ]
    },
    {
      "cell_type": "code",
      "execution_count": 22,
      "metadata": {
        "id": "Dzb2jcittHNY"
      },
      "outputs": [],
      "source": [
        "template = \"\"\"Answer the question based only on the following context:\n",
        "{context}\n",
        "\n",
        "Question: {question}\n",
        "Use natural language and be concise.\n",
        "Answer:\"\"\"\n",
        "prompt = ChatPromptTemplate.from_template(template)\n",
        "\n",
        "chain = (\n",
        "    RunnableParallel(\n",
        "        {\n",
        "            \"context\": _search_query | retriever,\n",
        "            \"question\": RunnablePassthrough(),\n",
        "        }\n",
        "    )\n",
        "    | prompt\n",
        "    | llm\n",
        "    | StrOutputParser()\n",
        ")"
      ]
    },
    {
      "cell_type": "markdown",
      "metadata": {
        "id": "w3SeRw0L0Gy3"
      },
      "source": [
        "Finally, we can go ahead and test our hybrid RAG implementation."
      ]
    },
    {
      "cell_type": "code",
      "execution_count": 23,
      "metadata": {
        "colab": {
          "base_uri": "https://localhost:8080/",
          "height": 107
        },
        "id": "dtU0iMNgtHNY",
        "outputId": "7796d240-b0de-40da-9021-e674da9eac39"
      },
      "outputs": [
        {
          "name": "stdout",
          "output_type": "stream",
          "text": [
            "Search query: how to improve unconventional production??\n"
          ]
        },
        {
          "name": "stderr",
          "output_type": "stream",
          "text": [
            "Received notification from DBMS server: {severity: WARNING} {code: Neo.ClientNotification.Statement.FeatureDeprecationWarning} {category: DEPRECATION} {title: This feature is deprecated and will be removed in future versions.} {description: CALL subquery without a variable scope clause is now deprecated. Use CALL () { ... }} {position: line: 1, column: 1, offset: 0} for query: \"CALL { CALL db.index.vector.queryNodes($index, $k, $embedding) YIELD node, score WITH collect({node:node, score:score}) AS nodes, max(score) AS max UNWIND nodes AS n RETURN n.node AS node, (n.score / max) AS score UNION CALL db.index.fulltext.queryNodes($keyword_index, $query, {limit: $k}) YIELD node, score WITH collect({node:node, score:score}) AS nodes, max(score) AS max UNWIND nodes AS n RETURN n.node AS node, (n.score / max) AS score } WITH node, max(score) AS score ORDER BY score DESC LIMIT $k RETURN reduce(str='', k IN ['text'] | str + '\\\\n' + k + ': ' + coalesce(node[k], '')) AS text, node {.*, `embedding`: Null, id: Null, `text`: Null} AS metadata, score\"\n"
          ]
        },
        {
          "data": {
            "text/plain": [
              "'The provided context does not contain information related to improving unconventional production.'"
            ]
          },
          "execution_count": 23,
          "metadata": {},
          "output_type": "execute_result"
        }
      ],
      "source": [
        "chain.invoke({\"question\": \"how to design propulsion shaft??\"})"
      ]
    },
    {
      "cell_type": "markdown",
      "metadata": {
        "id": "aLjhppwj0Jz_"
      },
      "source": [
        "Let's test a follow up question!"
      ]
    },
    {
      "cell_type": "code",
      "execution_count": 24,
      "metadata": {
        "colab": {
          "base_uri": "https://localhost:8080/",
          "height": 107
        },
        "id": "ln_Hz2obtHNY",
        "outputId": "2e8e88c6-258b-4599-beb8-9bbeae3f53fe"
      },
      "outputs": [
        {
          "name": "stdout",
          "output_type": "stream",
          "text": [
            "Search query: When was Elizabeth I born?\n"
          ]
        },
        {
          "name": "stderr",
          "output_type": "stream",
          "text": [
            "Received notification from DBMS server: {severity: WARNING} {code: Neo.ClientNotification.Statement.FeatureDeprecationWarning} {category: DEPRECATION} {title: This feature is deprecated and will be removed in future versions.} {description: CALL subquery without a variable scope clause is now deprecated. Use CALL (node, node) { ... }} {position: line: 3, column: 13, offset: 104} for query: \"CALL db.index.fulltext.queryNodes('entity', $query, {limit:2})\\n            YIELD node,score\\n            CALL {\\n              WITH node\\n              MATCH (node)-[r:!MENTIONS]->(neighbor)\\n              RETURN node.id + ' - ' + type(r) + ' -> ' + neighbor.id AS output\\n              UNION ALL\\n              WITH node\\n              MATCH (node)<-[r:!MENTIONS]-(neighbor)\\n              RETURN neighbor.id + ' - ' + type(r) + ' -> ' +  node.id AS output\\n            }\\n            RETURN output LIMIT 50\\n            \"\n",
            "Received notification from DBMS server: {severity: WARNING} {code: Neo.ClientNotification.Statement.FeatureDeprecationWarning} {category: DEPRECATION} {title: This feature is deprecated and will be removed in future versions.} {description: CALL subquery without a variable scope clause is now deprecated. Use CALL () { ... }} {position: line: 1, column: 1, offset: 0} for query: \"CALL { CALL db.index.vector.queryNodes($index, $k, $embedding) YIELD node, score WITH collect({node:node, score:score}) AS nodes, max(score) AS max UNWIND nodes AS n RETURN n.node AS node, (n.score / max) AS score UNION CALL db.index.fulltext.queryNodes($keyword_index, $query, {limit: $k}) YIELD node, score WITH collect({node:node, score:score}) AS nodes, max(score) AS max UNWIND nodes AS n RETURN n.node AS node, (n.score / max) AS score } WITH node, max(score) AS score ORDER BY score DESC LIMIT $k RETURN reduce(str='', k IN ['text'] | str + '\\\\n' + k + ': ' + coalesce(node[k], '')) AS text, node {.*, `embedding`: Null, id: Null, `text`: Null} AS metadata, score\"\n"
          ]
        },
        {
          "data": {
            "text/plain": [
              "\"The context provided does not contain information about Elizabeth I's birth date.\""
            ]
          },
          "execution_count": 24,
          "metadata": {},
          "output_type": "execute_result"
        }
      ],
      "source": [
        "chain.invoke(\n",
        "    {\n",
        "        \"question\": \"When was she born?\",\n",
        "        \"chat_history\": [(\"Which house did Elizabeth I belong to?\", \"House Of Tudor\")],\n",
        "    }\n",
        ")"
      ]
    },
    {
      "cell_type": "code",
      "execution_count": 35,
      "metadata": {},
      "outputs": [
        {
          "name": "stdout",
          "output_type": "stream",
          "text": [
            "Search query: how to design shaft alignment for vessels\n"
          ]
        },
        {
          "name": "stderr",
          "output_type": "stream",
          "text": [
            "Received notification from DBMS server: {severity: WARNING} {code: Neo.ClientNotification.Statement.FeatureDeprecationWarning} {category: DEPRECATION} {title: This feature is deprecated and will be removed in future versions.} {description: CALL subquery without a variable scope clause is now deprecated. Use CALL () { ... }} {position: line: 1, column: 1, offset: 0} for query: \"CALL { CALL db.index.vector.queryNodes($index, $k, $embedding) YIELD node, score WITH collect({node:node, score:score}) AS nodes, max(score) AS max UNWIND nodes AS n RETURN n.node AS node, (n.score / max) AS score UNION CALL db.index.fulltext.queryNodes($keyword_index, $query, {limit: $k}) YIELD node, score WITH collect({node:node, score:score}) AS nodes, max(score) AS max UNWIND nodes AS n RETURN n.node AS node, (n.score / max) AS score } WITH node, max(score) AS score ORDER BY score DESC LIMIT $k RETURN reduce(str='', k IN ['text'] | str + '\\\\n' + k + ': ' + coalesce(node[k], '')) AS text, node {.*, `embedding`: Null, id: Null, `text`: Null} AS metadata, score\"\n"
          ]
        },
        {
          "data": {
            "text/plain": [
              "'To design shaft alignment for vessels, submit shaft alignment calculations, alignment procedures, and stern tube boring details for review. Ensure the propulsion shafting has a diameter greater than 300 mm or lacks a forward stern tube bearing. The alignment procedure should include bore sighting before and after fitting bearings to verify dimensions, misalignment, and slopes. Minimize horizontal misalignment and verify slope boring angles relative to the centerline connecting bearings. Adjustments should be made by machining the outside bush diameter when applicable.'"
            ]
          },
          "execution_count": 35,
          "metadata": {},
          "output_type": "execute_result"
        }
      ],
      "source": [
        "chain.invoke({\"question\": \"how to design shaft alignment for vessels\"})"
      ]
    },
    {
      "cell_type": "code",
      "execution_count": 38,
      "metadata": {},
      "outputs": [
        {
          "name": "stdout",
          "output_type": "stream",
          "text": [
            "Search query: how to better design bolts? what are the most important considerations? what are the detail requirements for each concern, plist list the spedific values if any\n"
          ]
        },
        {
          "name": "stderr",
          "output_type": "stream",
          "text": [
            "Received notification from DBMS server: {severity: WARNING} {code: Neo.ClientNotification.Statement.FeatureDeprecationWarning} {category: DEPRECATION} {title: This feature is deprecated and will be removed in future versions.} {description: CALL subquery without a variable scope clause is now deprecated. Use CALL () { ... }} {position: line: 1, column: 1, offset: 0} for query: \"CALL { CALL db.index.vector.queryNodes($index, $k, $embedding) YIELD node, score WITH collect({node:node, score:score}) AS nodes, max(score) AS max UNWIND nodes AS n RETURN n.node AS node, (n.score / max) AS score UNION CALL db.index.fulltext.queryNodes($keyword_index, $query, {limit: $k}) YIELD node, score WITH collect({node:node, score:score}) AS nodes, max(score) AS max UNWIND nodes AS n RETURN n.node AS node, (n.score / max) AS score } WITH node, max(score) AS score ORDER BY score DESC LIMIT $k RETURN reduce(str='', k IN ['text'] | str + '\\\\n' + k + ': ' + coalesce(node[k], '')) AS text, node {.*, `embedding`: Null, id: Null, `text`: Null} AS metadata, score\"\n"
          ]
        },
        {
          "data": {
            "text/plain": [
              "'To better design bolts, the most important considerations include:\\n\\n1. **Tensile Stress**: The tensile stress of the bolt due to pre-stressing and astern pull should not exceed 90% of the minimum specified yield strength of the bolt material.\\n\\n2. **Bearing Stress**: The bearing stress on any member such as the flange, bolt head, threads, or nut should not exceed 90% of the minimum specified yield strength of the material of that member.\\n\\n3. **Loosening Prevention**: Bolts should be provided with means to prevent loosening in service.\\n\\nThese considerations ensure the structural integrity and reliability of the bolts in their application.'"
            ]
          },
          "execution_count": 38,
          "metadata": {},
          "output_type": "execute_result"
        }
      ],
      "source": [
        "chain.invoke({\"question\": \"how to better design bolts? what are the most important considerations? what are the detail requirements for each concern, plist list the spedific values if any\"})"
      ]
    },
    {
      "cell_type": "code",
      "execution_count": 34,
      "metadata": {},
      "outputs": [
        {
          "name": "stdout",
          "output_type": "stream",
          "text": [
            "Search query: how to better design bolts? what are the most important considerations\n"
          ]
        },
        {
          "name": "stderr",
          "output_type": "stream",
          "text": [
            "Received notification from DBMS server: {severity: WARNING} {code: Neo.ClientNotification.Statement.FeatureDeprecationWarning} {category: DEPRECATION} {title: This feature is deprecated and will be removed in future versions.} {description: CALL subquery without a variable scope clause is now deprecated. Use CALL () { ... }} {position: line: 1, column: 1, offset: 0} for query: \"CALL { CALL db.index.vector.queryNodes($index, $k, $embedding) YIELD node, score WITH collect({node:node, score:score}) AS nodes, max(score) AS max UNWIND nodes AS n RETURN n.node AS node, (n.score / max) AS score UNION CALL db.index.fulltext.queryNodes($keyword_index, $query, {limit: $k}) YIELD node, score WITH collect({node:node, score:score}) AS nodes, max(score) AS max UNWIND nodes AS n RETURN n.node AS node, (n.score / max) AS score } WITH node, max(score) AS score ORDER BY score DESC LIMIT $k RETURN reduce(str='', k IN ['text'] | str + '\\\\n' + k + ': ' + coalesce(node[k], '')) AS text, node {.*, `embedding`: Null, id: Null, `text`: Null} AS metadata, score\"\n"
          ]
        },
        {
          "data": {
            "text/plain": [
              "'To better design bolts, the most important considerations include ensuring an accurate fit, selecting materials with appropriate tensile strength, and considering the torque transmission method. For fitted bolts, ensure an interference fit and calculate the minimum diameter using specified equations. For non-fitted bolts, focus on detailed preloading and stress calculations, ensuring tensile stress does not exceed 90% of the yield strength. Additionally, consider the factor of safety against slip, especially under worst operating conditions, and ensure the bearing stress on components like flanges and threads does not exceed material yield strength.'"
            ]
          },
          "execution_count": 34,
          "metadata": {},
          "output_type": "execute_result"
        }
      ],
      "source": [
        "chain.invoke({\"question\": \"how to better design bolts? what are the most important considerations\"})"
      ]
    },
    {
      "cell_type": "code",
      "execution_count": 39,
      "metadata": {},
      "outputs": [
        {
          "name": "stdout",
          "output_type": "stream",
          "text": [
            "Search query: how many kinds of bolts are there, and what are the specific definitions and design concerns for each kind?\n"
          ]
        },
        {
          "name": "stderr",
          "output_type": "stream",
          "text": [
            "Received notification from DBMS server: {severity: WARNING} {code: Neo.ClientNotification.Statement.FeatureDeprecationWarning} {category: DEPRECATION} {title: This feature is deprecated and will be removed in future versions.} {description: CALL subquery without a variable scope clause is now deprecated. Use CALL () { ... }} {position: line: 1, column: 1, offset: 0} for query: \"CALL { CALL db.index.vector.queryNodes($index, $k, $embedding) YIELD node, score WITH collect({node:node, score:score}) AS nodes, max(score) AS max UNWIND nodes AS n RETURN n.node AS node, (n.score / max) AS score UNION CALL db.index.fulltext.queryNodes($keyword_index, $query, {limit: $k}) YIELD node, score WITH collect({node:node, score:score}) AS nodes, max(score) AS max UNWIND nodes AS n RETURN n.node AS node, (n.score / max) AS score } WITH node, max(score) AS score ORDER BY score DESC LIMIT $k RETURN reduce(str='', k IN ['text'] | str + '\\\\n' + k + ': ' + coalesce(node[k], '')) AS text, node {.*, `embedding`: Null, id: Null, `text`: Null} AS metadata, score\"\n"
          ]
        },
        {
          "data": {
            "text/plain": [
              "'There are two kinds of bolts mentioned: coupling bolts and non-fitted bolts. \\n\\n1. **Coupling Bolts**: These can be integral, demountable, keyed, or shrink-fit. Specific details regarding the interference fit of the coupling bolts must be submitted, along with calculations and design basis for sizing if not based on the as-built line shaft diameter.\\n\\n2. **Non-fitted Bolts**: The tensile stress due to pre-stressing and astern pull should not exceed 90% of the minimum specified yield strength of the bolt material. Bearing stress on any member like the flange, bolt head, threads, or nut should also not exceed 90% of the yield strength of the material. These bolts must have means to prevent loosening in service.'"
            ]
          },
          "execution_count": 39,
          "metadata": {},
          "output_type": "execute_result"
        }
      ],
      "source": [
        "chain.invoke({\"question\": \"how many kinds of bolts are there, and what are the specific definitions and design concerns for each kind?\"})"
      ]
    },
    {
      "cell_type": "code",
      "execution_count": 46,
      "metadata": {},
      "outputs": [
        {
          "name": "stdout",
          "output_type": "stream",
          "text": [
            "Search query: what are requirements for oil lubricated bearings? give the specfic values please\n"
          ]
        },
        {
          "name": "stderr",
          "output_type": "stream",
          "text": [
            "Received notification from DBMS server: {severity: WARNING} {code: Neo.ClientNotification.Statement.FeatureDeprecationWarning} {category: DEPRECATION} {title: This feature is deprecated and will be removed in future versions.} {description: CALL subquery without a variable scope clause is now deprecated. Use CALL () { ... }} {position: line: 1, column: 1, offset: 0} for query: \"CALL { CALL db.index.vector.queryNodes($index, $k, $embedding) YIELD node, score WITH collect({node:node, score:score}) AS nodes, max(score) AS max UNWIND nodes AS n RETURN n.node AS node, (n.score / max) AS score UNION CALL db.index.fulltext.queryNodes($keyword_index, $query, {limit: $k}) YIELD node, score WITH collect({node:node, score:score}) AS nodes, max(score) AS max UNWIND nodes AS n RETURN n.node AS node, (n.score / max) AS score } WITH node, max(score) AS score ORDER BY score DESC LIMIT $k RETURN reduce(str='', k IN ['text'] | str + '\\\\n' + k + ': ' + coalesce(node[k], '')) AS text, node {.*, `embedding`: Null, id: Null, `text`: Null} AS metadata, score\"\n"
          ]
        },
        {
          "data": {
            "text/plain": [
              "'For oil-lubricated bearings, the requirements are as follows:\\n\\n1. **White Metal Bearings**: The length must be at least two times the required tail shaft diameter. It can be reduced if the nominal bearing pressure does not exceed 0.80 N/mm² (0.0815 kgf/mm², 116 psi). The minimum length should not be less than 1.5 times the actual diameter.\\n\\n2. **Synthetic Material Bearings**: The length must be at least two times the required tail shaft diameter. It can be reduced if the nominal bearing pressure does not exceed 0.60 N/mm² (0.0611 kgf/mm², 87 psi). The minimum length should not be less than 1.5 times the actual diameter. If the pressure exceeds 0.60 N/mm², test data and satisfactory service experience must be submitted.'"
            ]
          },
          "execution_count": 46,
          "metadata": {},
          "output_type": "execute_result"
        }
      ],
      "source": [
        "chain.invoke({\"question\": \"what are requirements for oil lubricated bearings? give the specfic values please\"})"
      ]
    },
    {
      "cell_type": "code",
      "execution_count": null,
      "metadata": {},
      "outputs": [],
      "source": [
        "'For oil-lubricated bearings, the requirements are as follows:\n",
        "\\n\\n1. **White Metal Bearings**: The length must be at least two times the required tail shaft diameter. It can be reduced if the nominal bearing pressure does not exceed 0.80 N/mm² (0.0815 kgf/mm², 116 psi). The minimum length should not be less than 1.5 times the actual diameter.\n",
        "\\n\\n2. **Synthetic Material Bearings**: The length must be at least two times the required tail shaft diameter. It can be reduced if the nominal bearing pressure does not exceed 0.60 N/mm² (0.0611 kgf/mm², 87 psi). The minimum length should not be less than 1.5 times the actual diameter. If the pressure exceeds 0.60 N/mm², test data and satisfactory service experience must be submitted.'\n"
      ]
    },
    {
      "cell_type": "code",
      "execution_count": 47,
      "metadata": {},
      "outputs": [
        {
          "name": "stdout",
          "output_type": "stream",
          "text": [
            "Search query: what are the specric requirements of oil lubricated bearings\n"
          ]
        },
        {
          "name": "stderr",
          "output_type": "stream",
          "text": [
            "Received notification from DBMS server: {severity: WARNING} {code: Neo.ClientNotification.Statement.FeatureDeprecationWarning} {category: DEPRECATION} {title: This feature is deprecated and will be removed in future versions.} {description: CALL subquery without a variable scope clause is now deprecated. Use CALL () { ... }} {position: line: 1, column: 1, offset: 0} for query: \"CALL { CALL db.index.vector.queryNodes($index, $k, $embedding) YIELD node, score WITH collect({node:node, score:score}) AS nodes, max(score) AS max UNWIND nodes AS n RETURN n.node AS node, (n.score / max) AS score UNION CALL db.index.fulltext.queryNodes($keyword_index, $query, {limit: $k}) YIELD node, score WITH collect({node:node, score:score}) AS nodes, max(score) AS max UNWIND nodes AS n RETURN n.node AS node, (n.score / max) AS score } WITH node, max(score) AS score ORDER BY score DESC LIMIT $k RETURN reduce(str='', k IN ['text'] | str + '\\\\n' + k + ': ' + coalesce(node[k], '')) AS text, node {.*, `embedding`: Null, id: Null, `text`: Null} AS metadata, score\"\n"
          ]
        },
        {
          "data": {
            "text/plain": [
              "'Oil-lubricated bearings have specific requirements based on the material used. For white metal bearings, the length must be at least two times the tail shaft diameter, with a possible reduction if the nominal bearing pressure does not exceed 0.80 N/mm². For synthetic materials, the length must be at least two times the tail shaft diameter, with a possible reduction if the nominal bearing pressure does not exceed 0.60 N/mm². In both cases, the minimum length cannot be less than 1.5 times the actual diameter. Additionally, an arrangement for accurate oil sampling and contaminant removal is required, and environmentally acceptable lubricants (EALs) must be compatible with shaft seal elastomer materials.'"
            ]
          },
          "execution_count": 47,
          "metadata": {},
          "output_type": "execute_result"
        }
      ],
      "source": [
        "chain.invoke({\"question\": \"what are the specric requirements of oil lubricated bearings\"})"
      ]
    },
    {
      "cell_type": "code",
      "execution_count": 48,
      "metadata": {},
      "outputs": [
        {
          "name": "stdout",
          "output_type": "stream",
          "text": [
            "Search query: how many kind of viberation we need to consider? what are the major concerns and requirement paremeter value for each kind?\n"
          ]
        },
        {
          "name": "stderr",
          "output_type": "stream",
          "text": [
            "Received notification from DBMS server: {severity: WARNING} {code: Neo.ClientNotification.Statement.FeatureDeprecationWarning} {category: DEPRECATION} {title: This feature is deprecated and will be removed in future versions.} {description: CALL subquery without a variable scope clause is now deprecated. Use CALL () { ... }} {position: line: 1, column: 1, offset: 0} for query: \"CALL { CALL db.index.vector.queryNodes($index, $k, $embedding) YIELD node, score WITH collect({node:node, score:score}) AS nodes, max(score) AS max UNWIND nodes AS n RETURN n.node AS node, (n.score / max) AS score UNION CALL db.index.fulltext.queryNodes($keyword_index, $query, {limit: $k}) YIELD node, score WITH collect({node:node, score:score}) AS nodes, max(score) AS max UNWIND nodes AS n RETURN n.node AS node, (n.score / max) AS score } WITH node, max(score) AS score ORDER BY score DESC LIMIT $k RETURN reduce(str='', k IN ['text'] | str + '\\\\n' + k + ': ' + coalesce(node[k], '')) AS text, node {.*, `embedding`: Null, id: Null, `text`: Null} AS metadata, score\"\n"
          ]
        },
        {
          "data": {
            "text/plain": [
              "'There are three kinds of vibrations to consider: whirling vibrations, axial vibrations, and torsional vibrations.\\n\\n1. **Whirling Vibrations**: \\n   - Major concerns include ensuring satisfactory vibration characteristics throughout the speed range and identifying critical speeds that may result in significant vibration amplitudes.\\n   - Calculations must consider bearing and oil-film stiffness and investigate excitation frequencies.\\n   - If critical speeds are within ±20% of maximum continuous ratings (M.C.R.) speed, measurements are required to determine the need for barred speed ranges.\\n\\n2. **Axial Vibrations**:\\n   - Barred speed ranges identified in calculations must be verified and recorded through appropriate measurement procedures in the presence of a Surveyor.\\n\\n3. **Torsional Vibrations**:\\n   - Torsiograph measurements are required in the presence of a Surveyor.\\n   - If a barred speed range is provided, tachometer marking, warning notices, and alarms at remote control stations must be fitted.\\n   - Electronic speed regulating devices may be preset to step-pass the barred range.\\n   - For propellers driven through reduction gears, gear-tooth chatter must be avoided, otherwise, a barred speed range is necessary.'"
            ]
          },
          "execution_count": 48,
          "metadata": {},
          "output_type": "execute_result"
        }
      ],
      "source": [
        "chain.invoke({\"question\": \"how many kind of viberation we need to consider? what are the major concerns and requirement paremeter value for each kind?\"})"
      ]
    },
    {
      "cell_type": "code",
      "execution_count": null,
      "metadata": {},
      "outputs": [],
      "source": []
    },
    {
      "cell_type": "code",
      "execution_count": null,
      "metadata": {},
      "outputs": [],
      "source": []
    },
    {
      "cell_type": "code",
      "execution_count": 49,
      "metadata": {},
      "outputs": [
        {
          "name": "stdout",
          "output_type": "stream",
          "text": [
            "Search query: how many material requirements are specified in this documentation? and what are the detailed requirements for each of them\n"
          ]
        },
        {
          "name": "stderr",
          "output_type": "stream",
          "text": [
            "Received notification from DBMS server: {severity: WARNING} {code: Neo.ClientNotification.Statement.FeatureDeprecationWarning} {category: DEPRECATION} {title: This feature is deprecated and will be removed in future versions.} {description: CALL subquery without a variable scope clause is now deprecated. Use CALL () { ... }} {position: line: 1, column: 1, offset: 0} for query: \"CALL { CALL db.index.vector.queryNodes($index, $k, $embedding) YIELD node, score WITH collect({node:node, score:score}) AS nodes, max(score) AS max UNWIND nodes AS n RETURN n.node AS node, (n.score / max) AS score UNION CALL db.index.fulltext.queryNodes($keyword_index, $query, {limit: $k}) YIELD node, score WITH collect({node:node, score:score}) AS nodes, max(score) AS max UNWIND nodes AS n RETURN n.node AS node, (n.score / max) AS score } WITH node, max(score) AS score ORDER BY score DESC LIMIT $k RETURN reduce(str='', k IN ['text'] | str + '\\\\n' + k + ': ' + coalesce(node[k], '')) AS text, node {.*, `embedding`: Null, id: Null, `text`: Null} AS metadata, score\"\n"
          ]
        },
        {
          "data": {
            "text/plain": [
              "\"The documentation specifies several material requirements, particularly for torque-transmitting parts and propulsion shafting. Here are the detailed requirements:\\n\\n1. **General Material Requirements:**\\n   - Materials for propulsion shafts, couplings, coupling bolts, keys, and clutches must be of forged steel or rolled bars.\\n   - They must comply with Sections 2-3-7 and 2-3-8 of the ABS Rules for Materials and Welding (Part 2).\\n   - Alternative material specifications require special approval with full details of chemical composition, heat treatment, and mechanical properties.\\n\\n2. **Material Tests:**\\n   - Materials for all torque-transmitting parts must be tested in the presence of a Surveyor.\\n   - For parts transmitting 375 kW (500 hp) or less, verification of manufacturer's certification and a witnessed hardness check by the Surveyor are acceptable.\\n   - Coupling bolts manufactured to a recognized standard do not require material testing.\\n\\n3. **Inspections and Nondestructive Tests:**\\n   - Shafting and couplings must be surface examined by the Surveyor.\\n   - Forgings for tail shafts 455 mm (18 in.) and over must be ultrasonically examined.\\n   - Tail shafts in finished condition must undergo magnetic particle, dye penetrant, or other non-destructive examinations and be free of significant linear discontinuities.\\n\\n4. **Tailshaft Condition Monitoring (TCM-W):**\\n   - Bearing material must be approved by ABS.\\n   - Corrosion-resistant material or coating is required for components exposed to seawater.\\n\\nThese requirements ensure the materials used in marine vessel construction meet safety and performance standards.\""
            ]
          },
          "execution_count": 49,
          "metadata": {},
          "output_type": "execute_result"
        }
      ],
      "source": [
        "chain.invoke({\"question\": \"how many material requirements are specified in this documentation? and what are the detailed requirements for each of them\"})"
      ]
    },
    {
      "cell_type": "code",
      "execution_count": null,
      "metadata": {},
      "outputs": [],
      "source": [
        "\"The documentation specifies several material requirements, particularly for torque-transmitting parts and propulsion shafting. Here are the detailed requirements:\n",
        "\\n\\n1. **General Material Requirements:**\n",
        "\\n   - Materials for propulsion shafts, couplings, coupling bolts, keys, and clutches must be of forged steel or rolled bars.\n",
        "\\n   - They must comply with Sections 2-3-7 and 2-3-8 of the ABS Rules for Materials and Welding (Part 2).\n",
        "\\n   - Alternative material specifications require special approval with full details of chemical composition, heat treatment, and mechanical properties.\n",
        "\\n\\n2. **Material Tests:\n",
        "**\\ n   - Materials for all torque-transmitting parts must be tested in the presence of a Surveyor.\n",
        "\\n   - For parts transmitting 375 kW (500 hp) or less, verification of manufacturer's certification and a witnessed hardness check by the Surveyor are acceptable.\n",
        "\\n   - Coupling bolts manufactured to a recognized standard do not require material testing.\\n\\n3. **Inspections and Nondestructive Tests:\n",
        "**\\n   - Shafting and couplings must be surface examined by the Surveyor.\\n   - Forgings for tail shafts 455 mm (18 in.) and over must be ultrasonically examined.\n",
        "\\n   - Tail shafts in finished condition must undergo magnetic particle, dye penetrant, or other non-destructive examinations and be free of significant linear discontinuities.\n",
        "\\n\\n4. **Tailshaft Condition Monitoring (TCM-W):**\\n   - Bearing material must be approved by ABS.\n",
        "\\n   - Corrosion-resistant material or coating is required for components exposed to seawater.\n",
        "\\n\\nThese requirements ensure the materials used in marine vessel construction meet safety and performance standards.\""
      ]
    },
    {
      "cell_type": "code",
      "execution_count": 50,
      "metadata": {},
      "outputs": [
        {
          "name": "stdout",
          "output_type": "stream",
          "text": [
            "Search query: what are the major points of this documentation? list them in detail one by one, please\n"
          ]
        },
        {
          "name": "stderr",
          "output_type": "stream",
          "text": [
            "Received notification from DBMS server: {severity: WARNING} {code: Neo.ClientNotification.Statement.FeatureDeprecationWarning} {category: DEPRECATION} {title: This feature is deprecated and will be removed in future versions.} {description: CALL subquery without a variable scope clause is now deprecated. Use CALL () { ... }} {position: line: 1, column: 1, offset: 0} for query: \"CALL { CALL db.index.vector.queryNodes($index, $k, $embedding) YIELD node, score WITH collect({node:node, score:score}) AS nodes, max(score) AS max UNWIND nodes AS n RETURN n.node AS node, (n.score / max) AS score UNION CALL db.index.fulltext.queryNodes($keyword_index, $query, {limit: $k}) YIELD node, score WITH collect({node:node, score:score}) AS nodes, max(score) AS max UNWIND nodes AS n RETURN n.node AS node, (n.score / max) AS score } WITH node, max(score) AS score ORDER BY score DESC LIMIT $k RETURN reduce(str='', k IN ['text'] | str + '\\\\n' + k + ': ' + coalesce(node[k], '')) AS text, node {.*, `embedding`: Null, id: Null, `text`: Null} AS metadata, score\"\n"
          ]
        },
        {
          "data": {
            "text/plain": [
              "'1. **Emergency Lubrication Supply**: An emergency supply of lubricating water is required in case of failure of the primary lubrication system.\\n\\n2. **Lubricant Tank Specifications**: Tanks should be metallic or non-metallic, following recognized standards. Specifications for thermal, mechanical, chemical, and fire resistance must be submitted for review. Mounting, securing, and electrical bonding arrangements need approval. Valves should be accessible and operable manually if power fails.\\n\\n3. **Water Filtration System**: Two independent systems are required for continuous operation, with an auto change-over system in case of failure. Failures should trigger alarms, and normal conditions should be displayed.\\n\\n4. **Instrumentation and Alarms**: Instruments for monitoring the water-lubricated stern tube system must be provided. Alarms should be audible, visual, and self-monitoring, with testing provisions.\\n\\n5. **Vessel Conditions for Analysis**: Consider drydock, full ballast, and fully laden drafts under specific conditions. Hull deflections not accounted for require shaft alignment verification.\\n\\n6. **Stern Tube Slope Boring**: If misalignment exceeds a certain threshold, slope-boring or bearing inclination is needed. Calculations should be based on specific conditions, and designs must be submitted for review.\\n\\n7. **Air and Water Systems**: Systems should have at least two compressors or pumps to ensure continuous operation in case of failure.\\n\\n8. **Lubricating Oil Piping and Tank**: Independent systems are required for each tailshaft stern tube seal. Interconnection is allowed with isolation valves for multi-propeller shafts. Non-metallic piping is permissible if it meets specific requirements.'"
            ]
          },
          "execution_count": 50,
          "metadata": {},
          "output_type": "execute_result"
        }
      ],
      "source": [
        "chain.invoke({\"question\": \"what are the major points of this documentation? list them in detail one by one, please\"})"
      ]
    },
    {
      "cell_type": "code",
      "execution_count": 51,
      "metadata": {},
      "outputs": [
        {
          "name": "stdout",
          "output_type": "stream",
          "text": [
            "Search query: summrize this documentation\n"
          ]
        },
        {
          "name": "stderr",
          "output_type": "stream",
          "text": [
            "Received notification from DBMS server: {severity: WARNING} {code: Neo.ClientNotification.Statement.FeatureDeprecationWarning} {category: DEPRECATION} {title: This feature is deprecated and will be removed in future versions.} {description: CALL subquery without a variable scope clause is now deprecated. Use CALL () { ... }} {position: line: 1, column: 1, offset: 0} for query: \"CALL { CALL db.index.vector.queryNodes($index, $k, $embedding) YIELD node, score WITH collect({node:node, score:score}) AS nodes, max(score) AS max UNWIND nodes AS n RETURN n.node AS node, (n.score / max) AS score UNION CALL db.index.fulltext.queryNodes($keyword_index, $query, {limit: $k}) YIELD node, score WITH collect({node:node, score:score}) AS nodes, max(score) AS max UNWIND nodes AS n RETURN n.node AS node, (n.score / max) AS score } WITH node, max(score) AS score ORDER BY score DESC LIMIT $k RETURN reduce(str='', k IN ['text'] | str + '\\\\n' + k + ': ' + coalesce(node[k], '')) AS text, node {.*, `embedding`: Null, id: Null, `text`: Null} AS metadata, score\"\n"
          ]
        },
        {
          "data": {
            "text/plain": [
              "'The documentation outlines the requirements and procedures for vessels with water-lubricated bearings, focusing on compliance with specific standards. Key aspects include the need for a stern inspection chamber, installation of a split type aftmost bearing with appropriate seals, and a seawater cooling system with redundancy. It also covers the maintenance of records for oil condition and replacement, anti-freeze properties of lubricant water, and alignment verification in the presence of a Surveyor. Additionally, it specifies the run-in procedure for certain shaft installations.'"
            ]
          },
          "execution_count": 51,
          "metadata": {},
          "output_type": "execute_result"
        }
      ],
      "source": [
        "chain.invoke({\"question\": \"summrize this documentation\"})"
      ]
    }
  ],
  "metadata": {
    "colab": {
      "provenance": []
    },
    "kernelspec": {
      "display_name": "graph-rag",
      "language": "python",
      "name": "python3"
    },
    "language_info": {
      "codemirror_mode": {
        "name": "ipython",
        "version": 3
      },
      "file_extension": ".py",
      "mimetype": "text/x-python",
      "name": "python",
      "nbconvert_exporter": "python",
      "pygments_lexer": "ipython3",
      "version": "3.8.5"
    },
    "widgets": {
      "application/vnd.jupyter.widget-state+json": {
        "0228aafc5fc94b2ab3065bc3df714771": {
          "model_module": "yfiles-jupyter-graphs",
          "model_module_version": "^1.10.1",
          "model_name": "GraphModel",
          "state": {
            "_context_pane_mapping": [
              {
                "id": "Neighborhood",
                "title": "Neighborhood"
              },
              {
                "id": "Data",
                "title": "Data"
              },
              {
                "id": "Search",
                "title": "Search"
              },
              {
                "id": "About",
                "title": "About"
              }
            ],
            "_data_importer": "neo4j",
            "_directed": true,
            "_dom_classes": [],
            "_edges": [
              {
                "color": "#607D8B",
                "directed": true,
                "end": 2,
                "id": 1152922604118474800,
                "label": "REIGNED",
                "properties": {
                  "label": "REIGNED"
                },
                "start": 1,
                "styles": {},
                "thickness_factor": 1
              },
              {
                "color": "#607D8B",
                "directed": true,
                "end": 3,
                "id": 1155174403932160000,
                "label": "REIGNED",
                "properties": {
                  "label": "REIGNED"
                },
                "start": 1,
                "styles": {},
                "thickness_factor": 1
              },
              {
                "color": "#607D8B",
                "directed": true,
                "end": 4,
                "id": 1157426203745845200,
                "label": "REIGNED",
                "properties": {
                  "label": "REIGNED"
                },
                "start": 1,
                "styles": {},
                "thickness_factor": 1
              },
              {
                "color": "#673AB7",
                "directed": true,
                "end": 5,
                "id": 1152923703630102500,
                "label": "PARENT",
                "properties": {
                  "label": "PARENT"
                },
                "start": 1,
                "styles": {},
                "thickness_factor": 1
              },
              {
                "color": "#673AB7",
                "directed": true,
                "end": 6,
                "id": 1155175503443787800,
                "label": "PARENT",
                "properties": {
                  "label": "PARENT"
                },
                "start": 1,
                "styles": {},
                "thickness_factor": 1
              },
              {
                "color": "#CDDC39",
                "directed": true,
                "end": 7,
                "id": 1152924803141730300,
                "label": "SIBLING",
                "properties": {
                  "label": "SIBLING"
                },
                "start": 1,
                "styles": {},
                "thickness_factor": 1
              },
              {
                "color": "#CDDC39",
                "directed": true,
                "end": 28,
                "id": 1155176602955415600,
                "label": "SIBLING",
                "properties": {
                  "label": "SIBLING"
                },
                "start": 1,
                "styles": {},
                "thickness_factor": 1
              },
              {
                "color": "#9E9E9E",
                "directed": true,
                "end": 10,
                "id": 1152928101676613600,
                "label": "DEPENDENT",
                "properties": {
                  "label": "DEPENDENT"
                },
                "start": 1,
                "styles": {},
                "thickness_factor": 1
              },
              {
                "color": "#9C27B0",
                "directed": true,
                "end": 11,
                "id": 1152929201188241400,
                "label": "CREATED",
                "properties": {
                  "label": "CREATED"
                },
                "start": 1,
                "styles": {},
                "thickness_factor": 1
              },
              {
                "color": "#2196F3",
                "directed": true,
                "end": 2,
                "id": 1152930300699869200,
                "label": "ESTABLISHED",
                "properties": {
                  "label": "ESTABLISHED"
                },
                "start": 1,
                "styles": {},
                "thickness_factor": 1
              },
              {
                "color": "#4CAF50",
                "directed": true,
                "end": 16,
                "id": 6917538923245732000,
                "label": "FOUNDED",
                "properties": {
                  "label": "FOUNDED"
                },
                "start": 1,
                "styles": {},
                "thickness_factor": 1
              },
              {
                "color": "#F44336",
                "directed": true,
                "end": 12,
                "id": 1152932499723124700,
                "label": "SUCCEEDED",
                "properties": {
                  "label": "SUCCEEDED"
                },
                "start": 1,
                "styles": {},
                "thickness_factor": 1
              },
              {
                "color": "#607D8B",
                "directed": true,
                "end": 14,
                "id": 1152933599234752500,
                "label": "ENGAGED_IN",
                "properties": {
                  "label": "ENGAGED_IN"
                },
                "start": 1,
                "styles": {},
                "thickness_factor": 1
              },
              {
                "color": "#673AB7",
                "directed": true,
                "end": 26,
                "id": 6917548818850382000,
                "label": "CORONATION",
                "properties": {
                  "label": "CORONATION"
                },
                "start": 1,
                "styles": {},
                "thickness_factor": 1
              },
              {
                "color": "#673AB7",
                "directed": true,
                "end": 128,
                "id": 6917548818850382000,
                "label": "CORONATION",
                "properties": {
                  "label": "CORONATION"
                },
                "start": 1,
                "styles": {},
                "thickness_factor": 1
              },
              {
                "color": "#CDDC39",
                "directed": true,
                "end": 27,
                "id": 6917549918362010000,
                "label": "CORONATION_LOCATION",
                "properties": {
                  "label": "CORONATION_LOCATION"
                },
                "start": 1,
                "styles": {},
                "thickness_factor": 1
              },
              {
                "color": "#9E9E9E",
                "directed": true,
                "end": 28,
                "id": 6917551017873637000,
                "label": "HALF-SISTER",
                "properties": {
                  "label": "HALF-SISTER"
                },
                "start": 1,
                "styles": {},
                "thickness_factor": 1
              },
              {
                "color": "#9C27B0",
                "directed": true,
                "end": 12,
                "id": 6917557614943404000,
                "label": "SUCCEEDED_BY",
                "properties": {
                  "label": "SUCCEEDED_BY"
                },
                "start": 1,
                "styles": {},
                "thickness_factor": 1
              },
              {
                "color": "#2196F3",
                "directed": true,
                "end": 35,
                "id": 6917562012989915000,
                "label": "APPOINTED_COMMISSIONER",
                "properties": {
                  "label": "APPOINTED_COMMISSIONER"
                },
                "start": 1,
                "styles": {},
                "thickness_factor": 1
              },
              {
                "color": "#4CAF50",
                "directed": true,
                "end": 36,
                "id": 6917563112501543000,
                "label": "COURT_ASTROLOGER",
                "properties": {
                  "label": "COURT_ASTROLOGER"
                },
                "start": 1,
                "styles": {},
                "thickness_factor": 1
              },
              {
                "color": "#F44336",
                "directed": true,
                "end": 90,
                "id": 6917584003222471000,
                "label": "APPOINTED",
                "properties": {
                  "label": "APPOINTED"
                },
                "start": 1,
                "styles": {},
                "thickness_factor": 1
              },
              {
                "color": "#F44336",
                "directed": true,
                "end": 94,
                "id": 6917584003222471000,
                "label": "APPOINTED",
                "properties": {
                  "label": "APPOINTED"
                },
                "start": 1,
                "styles": {},
                "thickness_factor": 1
              },
              {
                "color": "#607D8B",
                "directed": true,
                "end": 128,
                "id": 6917601595408515000,
                "label": "TITLE",
                "properties": {
                  "label": "TITLE"
                },
                "start": 1,
                "styles": {},
                "thickness_factor": 1
              },
              {
                "color": "#673AB7",
                "directed": true,
                "end": 4,
                "id": 6917602694920143000,
                "label": "MEMBER_OF",
                "properties": {
                  "label": "MEMBER_OF"
                },
                "start": 1,
                "styles": {},
                "thickness_factor": 1
              },
              {
                "color": "#CDDC39",
                "directed": true,
                "end": 73,
                "id": 6917603794431771000,
                "label": "NAMESAKE",
                "properties": {
                  "label": "NAMESAKE"
                },
                "start": 1,
                "styles": {},
                "thickness_factor": 1
              },
              {
                "color": "#9E9E9E",
                "directed": true,
                "end": 5,
                "id": 1152997370909163500,
                "label": "CHILD_OF",
                "properties": {
                  "label": "CHILD_OF"
                },
                "start": 1,
                "styles": {},
                "thickness_factor": 1
              },
              {
                "color": "#9E9E9E",
                "directed": true,
                "end": 6,
                "id": 1155249170722848800,
                "label": "CHILD_OF",
                "properties": {
                  "label": "CHILD_OF"
                },
                "start": 1,
                "styles": {},
                "thickness_factor": 1
              },
              {
                "color": "#9C27B0",
                "directed": true,
                "end": 10,
                "id": 6917605993455026000,
                "label": "ADVISOR",
                "properties": {
                  "label": "ADVISOR"
                },
                "start": 1,
                "styles": {},
                "thickness_factor": 1
              },
              {
                "color": "#9C27B0",
                "directed": true,
                "end": 15,
                "id": 6917605993455026000,
                "label": "ADVISOR",
                "properties": {
                  "label": "ADVISOR"
                },
                "start": 1,
                "styles": {},
                "thickness_factor": 1
              },
              {
                "color": "#9C27B0",
                "directed": true,
                "end": 36,
                "id": 6917605993455026000,
                "label": "ADVISOR",
                "properties": {
                  "label": "ADVISOR"
                },
                "start": 1,
                "styles": {},
                "thickness_factor": 1
              },
              {
                "color": "#2196F3",
                "directed": true,
                "end": 16,
                "id": 6917607092966654000,
                "label": "FOUNDER",
                "properties": {
                  "label": "FOUNDER"
                },
                "start": 1,
                "styles": {},
                "thickness_factor": 1
              },
              {
                "color": "#4CAF50",
                "directed": true,
                "end": 28,
                "id": 1153014963095208000,
                "label": "SUCCESSOR",
                "properties": {
                  "label": "SUCCESSOR"
                },
                "start": 1,
                "styles": {},
                "thickness_factor": 1
              },
              {
                "color": "#F44336",
                "directed": true,
                "end": 139,
                "id": 6917625784664326000,
                "label": "INTENTION",
                "properties": {
                  "label": "INTENTION"
                },
                "start": 1,
                "styles": {},
                "thickness_factor": 1
              },
              {
                "color": "#607D8B",
                "directed": true,
                "end": 32,
                "id": 6917626884175954000,
                "label": "COMPROMISE",
                "properties": {
                  "label": "COMPROMISE"
                },
                "start": 1,
                "styles": {},
                "thickness_factor": 1
              },
              {
                "color": "#673AB7",
                "directed": true,
                "end": 34,
                "id": 6917630182710837000,
                "label": "LOCATION_AT_DEATH_ANNOUNCEMENT",
                "properties": {
                  "label": "LOCATION_AT_DEATH_ANNOUNCEMENT"
                },
                "start": 1,
                "styles": {},
                "thickness_factor": 1
              },
              {
                "color": "#CDDC39",
                "directed": true,
                "end": 35,
                "id": 6917631282222465000,
                "label": "COMMISSIONER",
                "properties": {
                  "label": "COMMISSIONER"
                },
                "start": 1,
                "styles": {},
                "thickness_factor": 1
              },
              {
                "color": "#9E9E9E",
                "directed": true,
                "end": 19,
                "id": 1152937997281263600,
                "label": "WENT_TO_WAR_WITH",
                "properties": {
                  "label": "WENT_TO_WAR_WITH"
                },
                "start": 2,
                "styles": {},
                "thickness_factor": 1
              },
              {
                "color": "#9C27B0",
                "directed": true,
                "end": 19,
                "id": 1153003967978930200,
                "label": "WAR_WITH",
                "properties": {
                  "label": "WAR_WITH"
                },
                "start": 2,
                "styles": {},
                "thickness_factor": 1
              },
              {
                "color": "#2196F3",
                "directed": true,
                "end": 16,
                "id": 1152948992397541400,
                "label": "ESTABLISHMENT",
                "properties": {
                  "label": "ESTABLISHMENT"
                },
                "start": 5,
                "styles": {},
                "thickness_factor": 1
              },
              {
                "color": "#9C27B0",
                "directed": true,
                "end": 7,
                "id": 1152950091909169200,
                "label": "SUCCEEDED_BY",
                "properties": {
                  "label": "SUCCEEDED_BY"
                },
                "start": 5,
                "styles": {},
                "thickness_factor": 1
              },
              {
                "color": "#2196F3",
                "directed": true,
                "end": 16,
                "id": 6919858892780339000,
                "label": "FOUNDER",
                "properties": {
                  "label": "FOUNDER"
                },
                "start": 5,
                "styles": {},
                "thickness_factor": 1
              },
              {
                "color": "#4CAF50",
                "directed": true,
                "end": 1,
                "id": 1157429502280728600,
                "label": "BEQUEATHED",
                "properties": {
                  "label": "BEQUEATHED"
                },
                "start": 7,
                "styles": {},
                "thickness_factor": 1
              },
              {
                "color": "#4CAF50",
                "directed": true,
                "end": 8,
                "id": 1152925902653358000,
                "label": "BEQUEATHED",
                "properties": {
                  "label": "BEQUEATHED"
                },
                "start": 7,
                "styles": {},
                "thickness_factor": 1
              },
              {
                "color": "#4CAF50",
                "directed": true,
                "end": 9,
                "id": 1155177702467043300,
                "label": "BEQUEATHED",
                "properties": {
                  "label": "BEQUEATHED"
                },
                "start": 7,
                "styles": {},
                "thickness_factor": 1
              },
              {
                "color": "#9C27B0",
                "directed": true,
                "end": 28,
                "id": 1152950091909169200,
                "label": "SUCCEEDED_BY",
                "properties": {
                  "label": "SUCCEEDED_BY"
                },
                "start": 7,
                "styles": {},
                "thickness_factor": 1
              },
              {
                "color": "#F44336",
                "directed": true,
                "end": 30,
                "id": 1152951191420797000,
                "label": "CONTINUED_REFORMS",
                "properties": {
                  "label": "CONTINUED_REFORMS"
                },
                "start": 7,
                "styles": {},
                "thickness_factor": 1
              },
              {
                "color": "#607D8B",
                "directed": true,
                "end": 139,
                "id": 1153020460653346800,
                "label": "REFORMER",
                "properties": {
                  "label": "REFORMER"
                },
                "start": 7,
                "styles": {},
                "thickness_factor": 1
              },
              {
                "color": "#673AB7",
                "directed": true,
                "end": 1,
                "id": 1152927002164985900,
                "label": "IMPRISONED",
                "properties": {
                  "label": "IMPRISONED"
                },
                "start": 9,
                "styles": {},
                "thickness_factor": 1
              },
              {
                "color": "#607D8B",
                "directed": true,
                "end": 11,
                "id": 1152994072374280200,
                "label": "TITLE",
                "properties": {
                  "label": "TITLE"
                },
                "start": 10,
                "styles": {},
                "thickness_factor": 1
              },
              {
                "color": "#673AB7",
                "directed": true,
                "end": 13,
                "id": 1152923703630102500,
                "label": "PARENT",
                "properties": {
                  "label": "PARENT"
                },
                "start": 12,
                "styles": {},
                "thickness_factor": 1
              }
            ],
            "_graph_layout": {},
            "_highlight": [],
            "_license": {},
            "_model_module": "yfiles-jupyter-graphs",
            "_model_module_version": "^1.10.1",
            "_model_name": "GraphModel",
            "_neighborhood": {},
            "_nodes": [
              {
                "color": "#2196F3",
                "id": 1,
                "label": "Elizabeth I",
                "position": [
                  0,
                  0
                ],
                "properties": {
                  "id": "Elizabeth I",
                  "label": "Person:__Entity__"
                },
                "scale_factor": 1,
                "size": [
                  55,
                  55
                ],
                "styles": {},
                "type": "#2196F3"
              },
              {
                "color": "#4CAF50",
                "id": 2,
                "label": "England",
                "position": [
                  0,
                  0
                ],
                "properties": {
                  "id": "England",
                  "label": "Country:__Entity__"
                },
                "scale_factor": 1,
                "size": [
                  55,
                  55
                ],
                "styles": {},
                "type": "#4CAF50"
              },
              {
                "color": "#4CAF50",
                "id": 3,
                "label": "Ireland",
                "position": [
                  0,
                  0
                ],
                "properties": {
                  "id": "Ireland",
                  "label": "Country:__Entity__"
                },
                "scale_factor": 1,
                "size": [
                  55,
                  55
                ],
                "styles": {},
                "type": "#4CAF50"
              },
              {
                "color": "#F44336",
                "id": 4,
                "label": "House Of Tudor",
                "position": [
                  0,
                  0
                ],
                "properties": {
                  "id": "House Of Tudor",
                  "label": "Monarchy:__Entity__:Organization"
                },
                "scale_factor": 1,
                "size": [
                  55,
                  55
                ],
                "styles": {},
                "type": "#F44336"
              },
              {
                "color": "#2196F3",
                "id": 5,
                "label": "Henry Viii",
                "position": [
                  0,
                  0
                ],
                "properties": {
                  "id": "Henry Viii",
                  "label": "Person:__Entity__"
                },
                "scale_factor": 1,
                "size": [
                  55,
                  55
                ],
                "styles": {},
                "type": "#2196F3"
              },
              {
                "color": "#2196F3",
                "id": 6,
                "label": "Anne Boleyn",
                "position": [
                  0,
                  0
                ],
                "properties": {
                  "id": "Anne Boleyn",
                  "label": "Person:__Entity__"
                },
                "scale_factor": 1,
                "size": [
                  55,
                  55
                ],
                "styles": {},
                "type": "#2196F3"
              },
              {
                "color": "#2196F3",
                "id": 7,
                "label": "Edward Vi",
                "position": [
                  0,
                  0
                ],
                "properties": {
                  "id": "Edward Vi",
                  "label": "Person:__Entity__"
                },
                "scale_factor": 1,
                "size": [
                  55,
                  55
                ],
                "styles": {},
                "type": "#2196F3"
              },
              {
                "color": "#2196F3",
                "id": 28,
                "label": "Mary I",
                "position": [
                  0,
                  0
                ],
                "properties": {
                  "id": "Mary I",
                  "label": "Person:__Entity__"
                },
                "scale_factor": 1,
                "size": [
                  55,
                  55
                ],
                "styles": {},
                "type": "#2196F3"
              },
              {
                "color": "#2196F3",
                "id": 10,
                "label": "William Cecil",
                "position": [
                  0,
                  0
                ],
                "properties": {
                  "id": "William Cecil",
                  "label": "Person:__Entity__"
                },
                "scale_factor": 1,
                "size": [
                  55,
                  55
                ],
                "styles": {},
                "type": "#2196F3"
              },
              {
                "color": "#607D8B",
                "id": 11,
                "label": "Baron Burghley",
                "position": [
                  0,
                  0
                ],
                "properties": {
                  "id": "Baron Burghley",
                  "label": "Title:__Entity__"
                },
                "scale_factor": 1,
                "size": [
                  55,
                  55
                ],
                "styles": {},
                "type": "#607D8B"
              },
              {
                "color": "#673AB7",
                "id": 16,
                "label": "Church Of England",
                "position": [
                  0,
                  0
                ],
                "properties": {
                  "id": "Church Of England",
                  "label": "__Entity__:Organization"
                },
                "scale_factor": 1,
                "size": [
                  55,
                  55
                ],
                "styles": {},
                "type": "#673AB7"
              },
              {
                "color": "#2196F3",
                "id": 12,
                "label": "James Vi Of Scotland",
                "position": [
                  0,
                  0
                ],
                "properties": {
                  "id": "James Vi Of Scotland",
                  "label": "Person:__Entity__"
                },
                "scale_factor": 1,
                "size": [
                  55,
                  55
                ],
                "styles": {},
                "type": "#2196F3"
              },
              {
                "color": "#CDDC39",
                "id": 14,
                "label": "France",
                "position": [
                  0,
                  0
                ],
                "properties": {
                  "id": "France",
                  "label": "Concept:Country:__Entity__"
                },
                "scale_factor": 1,
                "size": [
                  55,
                  55
                ],
                "styles": {},
                "type": "#CDDC39"
              },
              {
                "color": "#9E9E9E",
                "id": 26,
                "label": "Westminster Abbey",
                "position": [
                  0,
                  0
                ],
                "properties": {
                  "id": "Westminster Abbey",
                  "label": "Place:__Entity__"
                },
                "scale_factor": 1,
                "size": [
                  55,
                  55
                ],
                "styles": {},
                "type": "#9E9E9E"
              },
              {
                "color": "#607D8B",
                "id": 128,
                "label": "Queen Of England And Ireland",
                "position": [
                  0,
                  0
                ],
                "properties": {
                  "id": "Queen Of England And Ireland",
                  "label": "Title:__Entity__"
                },
                "scale_factor": 1,
                "size": [
                  55,
                  55
                ],
                "styles": {},
                "type": "#607D8B"
              },
              {
                "color": "#9E9E9E",
                "id": 27,
                "label": "London",
                "position": [
                  0,
                  0
                ],
                "properties": {
                  "id": "London",
                  "label": "Place:__Entity__"
                },
                "scale_factor": 1,
                "size": [
                  55,
                  55
                ],
                "styles": {},
                "type": "#9E9E9E"
              },
              {
                "color": "#2196F3",
                "id": 35,
                "label": "Sir Richard Sackville",
                "position": [
                  0,
                  0
                ],
                "properties": {
                  "id": "Sir Richard Sackville",
                  "label": "Person:__Entity__"
                },
                "scale_factor": 1,
                "size": [
                  55,
                  55
                ],
                "styles": {},
                "type": "#2196F3"
              },
              {
                "color": "#2196F3",
                "id": 36,
                "label": "Dr John Dee",
                "position": [
                  0,
                  0
                ],
                "properties": {
                  "id": "Dr John Dee",
                  "label": "Person:__Entity__"
                },
                "scale_factor": 1,
                "size": [
                  55,
                  55
                ],
                "styles": {},
                "type": "#2196F3"
              },
              {
                "color": "#2196F3",
                "id": 90,
                "label": "Nicholas Hilliard",
                "position": [
                  0,
                  0
                ],
                "properties": {
                  "id": "Nicholas Hilliard",
                  "label": "Person:__Entity__"
                },
                "scale_factor": 1,
                "size": [
                  55,
                  55
                ],
                "styles": {},
                "type": "#2196F3"
              },
              {
                "color": "#2196F3",
                "id": 94,
                "label": "George Gower",
                "position": [
                  0,
                  0
                ],
                "properties": {
                  "id": "George Gower",
                  "label": "Person:__Entity__"
                },
                "scale_factor": 1,
                "size": [
                  55,
                  55
                ],
                "styles": {},
                "type": "#2196F3"
              },
              {
                "color": "#9C27B0",
                "id": 73,
                "label": "Elizabethan Era",
                "position": [
                  0,
                  0
                ],
                "properties": {
                  "id": "Elizabethan Era",
                  "label": "Concept:Time_period:__Entity__:Event"
                },
                "scale_factor": 1,
                "size": [
                  55,
                  55
                ],
                "styles": {},
                "type": "#9C27B0"
              },
              {
                "color": "#2196F3",
                "id": 15,
                "label": "Sir Francis Walsingham",
                "position": [
                  0,
                  0
                ],
                "properties": {
                  "id": "Sir Francis Walsingham",
                  "label": "Person:__Entity__"
                },
                "scale_factor": 1,
                "size": [
                  55,
                  55
                ],
                "styles": {},
                "type": "#2196F3"
              },
              {
                "color": "#2196F3",
                "id": 139,
                "label": "Protestantism",
                "position": [
                  0,
                  0
                ],
                "properties": {
                  "id": "Protestantism",
                  "label": "__Entity__:Religion"
                },
                "scale_factor": 1,
                "size": [
                  55,
                  55
                ],
                "styles": {},
                "type": "#2196F3"
              },
              {
                "color": "#4CAF50",
                "id": 32,
                "label": "Elizabethan Settlement",
                "position": [
                  0,
                  0
                ],
                "properties": {
                  "id": "Elizabethan Settlement",
                  "label": "__Entity__:Event"
                },
                "scale_factor": 1,
                "size": [
                  55,
                  55
                ],
                "styles": {},
                "type": "#4CAF50"
              },
              {
                "color": "#F44336",
                "id": 34,
                "label": "Hatfield House",
                "position": [
                  0,
                  0
                ],
                "properties": {
                  "id": "Hatfield House",
                  "label": "Location:Place:__Entity__"
                },
                "scale_factor": 1,
                "size": [
                  55,
                  55
                ],
                "styles": {},
                "type": "#F44336"
              },
              {
                "color": "#4CAF50",
                "id": 19,
                "label": "Spain",
                "position": [
                  0,
                  0
                ],
                "properties": {
                  "id": "Spain",
                  "label": "Country:__Entity__"
                },
                "scale_factor": 1,
                "size": [
                  55,
                  55
                ],
                "styles": {},
                "type": "#4CAF50"
              },
              {
                "color": "#2196F3",
                "id": 8,
                "label": "Lady Jane Grey",
                "position": [
                  0,
                  0
                ],
                "properties": {
                  "id": "Lady Jane Grey",
                  "label": "Person:__Entity__"
                },
                "scale_factor": 1,
                "size": [
                  55,
                  55
                ],
                "styles": {},
                "type": "#2196F3"
              },
              {
                "color": "#2196F3",
                "id": 9,
                "label": "Mary",
                "position": [
                  0,
                  0
                ],
                "properties": {
                  "id": "Mary",
                  "label": "Person:__Entity__"
                },
                "scale_factor": 1,
                "size": [
                  55,
                  55
                ],
                "styles": {},
                "type": "#2196F3"
              },
              {
                "color": "#4CAF50",
                "id": 30,
                "label": "Protestant Reformation",
                "position": [
                  0,
                  0
                ],
                "properties": {
                  "id": "Protestant Reformation",
                  "label": "__Entity__:Event"
                },
                "scale_factor": 1,
                "size": [
                  55,
                  55
                ],
                "styles": {},
                "type": "#4CAF50"
              },
              {
                "color": "#2196F3",
                "id": 13,
                "label": "Mary, Queen Of Scots",
                "position": [
                  0,
                  0
                ],
                "properties": {
                  "id": "Mary, Queen Of Scots",
                  "label": "Person:__Entity__"
                },
                "scale_factor": 1,
                "size": [
                  55,
                  55
                ],
                "styles": {},
                "type": "#2196F3"
              }
            ],
            "_overview": {
              "enabled": null,
              "overview_set": false
            },
            "_selected_graph": [
              [],
              []
            ],
            "_sidebar": {
              "enabled": false,
              "start_with": null
            },
            "_view_count": null,
            "_view_module": "yfiles-jupyter-graphs",
            "_view_module_version": "^1.10.1",
            "_view_name": "GraphView",
            "layout": "IPY_MODEL_75e10974788346c48b444b8f28208bbb",
            "tabbable": null,
            "tooltip": null
          }
        },
        "75e10974788346c48b444b8f28208bbb": {
          "model_module": "@jupyter-widgets/base",
          "model_module_version": "2.0.0",
          "model_name": "LayoutModel",
          "state": {
            "_model_module": "@jupyter-widgets/base",
            "_model_module_version": "2.0.0",
            "_model_name": "LayoutModel",
            "_view_count": null,
            "_view_module": "@jupyter-widgets/base",
            "_view_module_version": "2.0.0",
            "_view_name": "LayoutView",
            "align_content": null,
            "align_items": null,
            "align_self": null,
            "border_bottom": null,
            "border_left": null,
            "border_right": null,
            "border_top": null,
            "bottom": null,
            "display": null,
            "flex": null,
            "flex_flow": null,
            "grid_area": null,
            "grid_auto_columns": null,
            "grid_auto_flow": null,
            "grid_auto_rows": null,
            "grid_column": null,
            "grid_gap": null,
            "grid_row": null,
            "grid_template_areas": null,
            "grid_template_columns": null,
            "grid_template_rows": null,
            "height": "800px",
            "justify_content": null,
            "justify_items": null,
            "left": null,
            "margin": null,
            "max_height": null,
            "max_width": null,
            "min_height": null,
            "min_width": null,
            "object_fit": null,
            "object_position": null,
            "order": null,
            "overflow": null,
            "padding": null,
            "right": null,
            "top": null,
            "visibility": null,
            "width": "100%"
          }
        }
      }
    }
  },
  "nbformat": 4,
  "nbformat_minor": 0
}
